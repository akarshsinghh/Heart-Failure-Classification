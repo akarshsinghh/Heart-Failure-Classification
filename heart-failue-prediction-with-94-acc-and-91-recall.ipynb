{
 "cells": [
  {
   "cell_type": "code",
   "execution_count": 1,
   "id": "5756507f",
   "metadata": {
    "execution": {
     "iopub.execute_input": "2021-12-08T16:20:07.951889Z",
     "iopub.status.busy": "2021-12-08T16:20:07.950562Z",
     "iopub.status.idle": "2021-12-08T16:20:07.954410Z",
     "shell.execute_reply": "2021-12-08T16:20:07.953749Z",
     "shell.execute_reply.started": "2021-12-08T16:13:42.509150Z"
    },
    "id": "PxBYwFz43bA4",
    "outputId": "18bd5fa0-5642-4b56-a718-f9b54347cc0c",
    "papermill": {
     "duration": 0.061925,
     "end_time": "2021-12-08T16:20:07.954586",
     "exception": false,
     "start_time": "2021-12-08T16:20:07.892661",
     "status": "completed"
    },
    "tags": []
   },
   "outputs": [],
   "source": [
    "#! pip install kaggle\n",
    "#! mkdir ~/.kaggle\n",
    "#! cp kaggle.json ~/.kaggle/\n",
    "#! chmod 600 ~/.kaggle/kaggle.json\n"
   ]
  },
  {
   "cell_type": "markdown",
   "id": "824a22d6",
   "metadata": {
    "id": "cKFEWcHL2b9Y",
    "papermill": {
     "duration": 0.045287,
     "end_time": "2021-12-08T16:20:08.045798",
     "exception": false,
     "start_time": "2021-12-08T16:20:08.000511",
     "status": "completed"
    },
    "tags": []
   },
   "source": [
    "All models are subject to betterment with more stringent hyper-parameter tuning. This can be achieved by random selection, brute force methods, etc. Various other classifiers can also be used, but the most standard classifiers have been considered in this notebook."
   ]
  },
  {
   "cell_type": "markdown",
   "id": "f56969cb",
   "metadata": {
    "id": "9kzsNKrM3UAQ",
    "papermill": {
     "duration": 0.045959,
     "end_time": "2021-12-08T16:20:08.137265",
     "exception": false,
     "start_time": "2021-12-08T16:20:08.091306",
     "status": "completed"
    },
    "tags": []
   },
   "source": [
    "The best recall achieved was **91%** with and average of **89.5%**. An accuracy of **94%** has also been achieved. "
   ]
  },
  {
   "cell_type": "markdown",
   "id": "98d01877",
   "metadata": {
    "id": "7Pm8THby3_Dy",
    "papermill": {
     "duration": 0.045588,
     "end_time": "2021-12-08T16:20:08.229099",
     "exception": false,
     "start_time": "2021-12-08T16:20:08.183511",
     "status": "completed"
    },
    "tags": []
   },
   "source": [
    "Recommend standard practices for data transformation, outlier detection, and null value substitution have been incorporated in this notebook"
   ]
  },
  {
   "cell_type": "markdown",
   "id": "083725e7",
   "metadata": {
    "id": "INFSJHDqsTQA",
    "papermill": {
     "duration": 0.046466,
     "end_time": "2021-12-08T16:20:08.321869",
     "exception": false,
     "start_time": "2021-12-08T16:20:08.275403",
     "status": "completed"
    },
    "tags": []
   },
   "source": [
    "1. Import Libraries \n"
   ]
  },
  {
   "cell_type": "code",
   "execution_count": 2,
   "id": "48da88ca",
   "metadata": {
    "execution": {
     "iopub.execute_input": "2021-12-08T16:20:08.489477Z",
     "iopub.status.busy": "2021-12-08T16:20:08.488772Z",
     "iopub.status.idle": "2021-12-08T16:20:10.097929Z",
     "shell.execute_reply": "2021-12-08T16:20:10.098509Z",
     "shell.execute_reply.started": "2021-12-08T16:13:46.879989Z"
    },
    "id": "IInNA_a1I9Pi",
    "papermill": {
     "duration": 1.727042,
     "end_time": "2021-12-08T16:20:10.098688",
     "exception": false,
     "start_time": "2021-12-08T16:20:08.371646",
     "status": "completed"
    },
    "tags": []
   },
   "outputs": [],
   "source": [
    "import pandas as pd\n",
    "import matplotlib.pyplot as plt\n",
    "from matplotlib import style\n",
    "import seaborn as sns\n",
    "import numpy as np\n",
    "from sklearn.impute import KNNImputer\n",
    "from sklearn.experimental import enable_iterative_imputer\n",
    "from sklearn.impute import IterativeImputer\n",
    "from statsmodels.stats.outliers_influence import variance_inflation_factor\n",
    "import matplotlib.pyplot as plt\n",
    "from sklearn.linear_model import LogisticRegression\n",
    "from sklearn import metrics\n",
    "from sklearn.neighbors import KNeighborsClassifier\n",
    "from sklearn.naive_bayes import GaussianNB\n",
    "from sklearn.naive_bayes import BernoulliNB\n",
    "from sklearn.naive_bayes import CategoricalNB\n",
    "from sklearn.ensemble import GradientBoostingClassifier"
   ]
  },
  {
   "cell_type": "code",
   "execution_count": 3,
   "id": "f7fa3a9d",
   "metadata": {
    "execution": {
     "iopub.execute_input": "2021-12-08T16:20:10.193738Z",
     "iopub.status.busy": "2021-12-08T16:20:10.193092Z",
     "iopub.status.idle": "2021-12-08T16:20:10.197014Z",
     "shell.execute_reply": "2021-12-08T16:20:10.196461Z",
     "shell.execute_reply.started": "2021-12-08T16:13:43.134823Z"
    },
    "id": "zfhF1ZyB3zZr",
    "outputId": "8e11a6bf-835b-46c5-e48d-0b003bbc48f6",
    "papermill": {
     "duration": 0.052105,
     "end_time": "2021-12-08T16:20:10.197153",
     "exception": false,
     "start_time": "2021-12-08T16:20:10.145048",
     "status": "completed"
    },
    "tags": []
   },
   "outputs": [],
   "source": [
    "#! kaggle datasets download fedesoriano/heart-failure-prediction\n"
   ]
  },
  {
   "cell_type": "code",
   "execution_count": 4,
   "id": "a95c353d",
   "metadata": {
    "execution": {
     "iopub.execute_input": "2021-12-08T16:20:10.292581Z",
     "iopub.status.busy": "2021-12-08T16:20:10.291748Z",
     "iopub.status.idle": "2021-12-08T16:20:10.293751Z",
     "shell.execute_reply": "2021-12-08T16:20:10.294244Z",
     "shell.execute_reply.started": "2021-12-08T16:13:43.142542Z"
    },
    "id": "aPaBch_k6NDm",
    "outputId": "2e627c75-0eea-4d00-a52f-51d2c881625c",
    "papermill": {
     "duration": 0.051879,
     "end_time": "2021-12-08T16:20:10.294435",
     "exception": false,
     "start_time": "2021-12-08T16:20:10.242556",
     "status": "completed"
    },
    "tags": []
   },
   "outputs": [],
   "source": [
    "#! unzip heart-failure-prediction.zip"
   ]
  },
  {
   "cell_type": "code",
   "execution_count": 5,
   "id": "a86c9a45",
   "metadata": {
    "execution": {
     "iopub.execute_input": "2021-12-08T16:20:10.388836Z",
     "iopub.status.busy": "2021-12-08T16:20:10.388158Z",
     "iopub.status.idle": "2021-12-08T16:20:10.436844Z",
     "shell.execute_reply": "2021-12-08T16:20:10.437373Z",
     "shell.execute_reply.started": "2021-12-08T16:13:50.216193Z"
    },
    "id": "r6R2QDw86R3g",
    "outputId": "422437d2-5d5c-451a-8f65-59960a227bf2",
    "papermill": {
     "duration": 0.097394,
     "end_time": "2021-12-08T16:20:10.437549",
     "exception": false,
     "start_time": "2021-12-08T16:20:10.340155",
     "status": "completed"
    },
    "tags": []
   },
   "outputs": [
    {
     "data": {
      "text/html": [
       "<div>\n",
       "<style scoped>\n",
       "    .dataframe tbody tr th:only-of-type {\n",
       "        vertical-align: middle;\n",
       "    }\n",
       "\n",
       "    .dataframe tbody tr th {\n",
       "        vertical-align: top;\n",
       "    }\n",
       "\n",
       "    .dataframe thead th {\n",
       "        text-align: right;\n",
       "    }\n",
       "</style>\n",
       "<table border=\"1\" class=\"dataframe\">\n",
       "  <thead>\n",
       "    <tr style=\"text-align: right;\">\n",
       "      <th></th>\n",
       "      <th>Age</th>\n",
       "      <th>Sex</th>\n",
       "      <th>ChestPainType</th>\n",
       "      <th>RestingBP</th>\n",
       "      <th>Cholesterol</th>\n",
       "      <th>FastingBS</th>\n",
       "      <th>RestingECG</th>\n",
       "      <th>MaxHR</th>\n",
       "      <th>ExerciseAngina</th>\n",
       "      <th>Oldpeak</th>\n",
       "      <th>ST_Slope</th>\n",
       "      <th>HeartDisease</th>\n",
       "    </tr>\n",
       "  </thead>\n",
       "  <tbody>\n",
       "    <tr>\n",
       "      <th>0</th>\n",
       "      <td>40</td>\n",
       "      <td>M</td>\n",
       "      <td>ATA</td>\n",
       "      <td>140</td>\n",
       "      <td>289</td>\n",
       "      <td>0</td>\n",
       "      <td>Normal</td>\n",
       "      <td>172</td>\n",
       "      <td>N</td>\n",
       "      <td>0.0</td>\n",
       "      <td>Up</td>\n",
       "      <td>0</td>\n",
       "    </tr>\n",
       "    <tr>\n",
       "      <th>1</th>\n",
       "      <td>49</td>\n",
       "      <td>F</td>\n",
       "      <td>NAP</td>\n",
       "      <td>160</td>\n",
       "      <td>180</td>\n",
       "      <td>0</td>\n",
       "      <td>Normal</td>\n",
       "      <td>156</td>\n",
       "      <td>N</td>\n",
       "      <td>1.0</td>\n",
       "      <td>Flat</td>\n",
       "      <td>1</td>\n",
       "    </tr>\n",
       "    <tr>\n",
       "      <th>2</th>\n",
       "      <td>37</td>\n",
       "      <td>M</td>\n",
       "      <td>ATA</td>\n",
       "      <td>130</td>\n",
       "      <td>283</td>\n",
       "      <td>0</td>\n",
       "      <td>ST</td>\n",
       "      <td>98</td>\n",
       "      <td>N</td>\n",
       "      <td>0.0</td>\n",
       "      <td>Up</td>\n",
       "      <td>0</td>\n",
       "    </tr>\n",
       "    <tr>\n",
       "      <th>3</th>\n",
       "      <td>48</td>\n",
       "      <td>F</td>\n",
       "      <td>ASY</td>\n",
       "      <td>138</td>\n",
       "      <td>214</td>\n",
       "      <td>0</td>\n",
       "      <td>Normal</td>\n",
       "      <td>108</td>\n",
       "      <td>Y</td>\n",
       "      <td>1.5</td>\n",
       "      <td>Flat</td>\n",
       "      <td>1</td>\n",
       "    </tr>\n",
       "    <tr>\n",
       "      <th>4</th>\n",
       "      <td>54</td>\n",
       "      <td>M</td>\n",
       "      <td>NAP</td>\n",
       "      <td>150</td>\n",
       "      <td>195</td>\n",
       "      <td>0</td>\n",
       "      <td>Normal</td>\n",
       "      <td>122</td>\n",
       "      <td>N</td>\n",
       "      <td>0.0</td>\n",
       "      <td>Up</td>\n",
       "      <td>0</td>\n",
       "    </tr>\n",
       "  </tbody>\n",
       "</table>\n",
       "</div>"
      ],
      "text/plain": [
       "   Age Sex ChestPainType  RestingBP  Cholesterol  FastingBS RestingECG  MaxHR  \\\n",
       "0   40   M           ATA        140          289          0     Normal    172   \n",
       "1   49   F           NAP        160          180          0     Normal    156   \n",
       "2   37   M           ATA        130          283          0         ST     98   \n",
       "3   48   F           ASY        138          214          0     Normal    108   \n",
       "4   54   M           NAP        150          195          0     Normal    122   \n",
       "\n",
       "  ExerciseAngina  Oldpeak ST_Slope  HeartDisease  \n",
       "0              N      0.0       Up             0  \n",
       "1              N      1.0     Flat             1  \n",
       "2              N      0.0       Up             0  \n",
       "3              Y      1.5     Flat             1  \n",
       "4              N      0.0       Up             0  "
      ]
     },
     "execution_count": 5,
     "metadata": {},
     "output_type": "execute_result"
    }
   ],
   "source": [
    "df  = pd.read_csv('../input/heart-failure-prediction/heart.csv')\n",
    "df.head()"
   ]
  },
  {
   "cell_type": "markdown",
   "id": "c0d304fe",
   "metadata": {
    "id": "La1gTBPRsfRQ",
    "papermill": {
     "duration": 0.045705,
     "end_time": "2021-12-08T16:20:10.529852",
     "exception": false,
     "start_time": "2021-12-08T16:20:10.484147",
     "status": "completed"
    },
    "tags": []
   },
   "source": [
    "2. Explore Dataset"
   ]
  },
  {
   "cell_type": "code",
   "execution_count": 6,
   "id": "16324525",
   "metadata": {
    "execution": {
     "iopub.execute_input": "2021-12-08T16:20:10.634832Z",
     "iopub.status.busy": "2021-12-08T16:20:10.630605Z",
     "iopub.status.idle": "2021-12-08T16:20:10.637584Z",
     "shell.execute_reply": "2021-12-08T16:20:10.637052Z",
     "shell.execute_reply.started": "2021-12-08T16:13:50.928472Z"
    },
    "id": "YXfWFcc3C21v",
    "papermill": {
     "duration": 0.061244,
     "end_time": "2021-12-08T16:20:10.637758",
     "exception": false,
     "start_time": "2021-12-08T16:20:10.576514",
     "status": "completed"
    },
    "tags": []
   },
   "outputs": [],
   "source": [
    "def describe(df):                        # Function to explore major elements in a Dataset\n",
    "                                         # Will help to find null values present and deal with them\n",
    "  columns=df.columns.to_list()           # Function will help to directly find numerical and categorical columns\n",
    "  ncol=df.describe().columns.to_list()\n",
    "  ccol=[]\n",
    "  for i in columns:\n",
    "    if(ncol.count(i)==0):\n",
    "      ccol.append(i)\n",
    "    else:\n",
    "      continue\n",
    "  print('Name of all columns in the dataframe:')\n",
    "  print(columns)\n",
    "  print('')\n",
    "  print('Number of columns in the dataframe:')\n",
    "  print(len(columns))\n",
    "  print('')\n",
    "  print('Name of all numerical columns in the dataframe:')\n",
    "  print(ncol)\n",
    "  print('')\n",
    "  print('Number of numerical columns in the dataframe:')\n",
    "  print(len(ncol))\n",
    "  print('')\n",
    "  print('Name of all categorical columns in the dataframe:')\n",
    "  print(ccol)\n",
    "  print('')\n",
    "  print('Number of categorical columns in the dataframe:')\n",
    "  print(len(ccol))\n",
    "  print('')\n",
    "  print('------------------------------------------------------------------------------------------------')\n",
    "  print('')\n",
    "  print('Number of Null Values in Each Column:')\n",
    "  print('')\n",
    "  print(df.isnull().sum())\n",
    "  print('')\n",
    "  print('')\n",
    "  print('Number of Unique Values in Each Column:')\n",
    "  print('')\n",
    "  print(df.nunique())\n",
    "  print('')\n",
    "  print('')\n",
    "  print('Basic Statistics and Measures for Numerical Columns:')\n",
    "  print('')\n",
    "  print(df.describe().T)\n",
    "  print('')\n",
    "  print('')\n",
    "  print('Other Relevant Metadata Regarding the Dataframe:')\n",
    "  print('')\n",
    "  print(df.info())\n",
    "  print('')\n",
    "  print('')\n",
    "\n",
    "\n",
    "\n",
    "  \n"
   ]
  },
  {
   "cell_type": "code",
   "execution_count": 7,
   "id": "67476a0b",
   "metadata": {
    "execution": {
     "iopub.execute_input": "2021-12-08T16:20:10.740939Z",
     "iopub.status.busy": "2021-12-08T16:20:10.740139Z",
     "iopub.status.idle": "2021-12-08T16:20:10.811383Z",
     "shell.execute_reply": "2021-12-08T16:20:10.810557Z",
     "shell.execute_reply.started": "2021-12-08T16:13:51.112503Z"
    },
    "id": "mr_HuKkkJd6u",
    "outputId": "aa06d6ac-88b5-4f82-fa17-70abf813f45a",
    "papermill": {
     "duration": 0.12654,
     "end_time": "2021-12-08T16:20:10.811582",
     "exception": false,
     "start_time": "2021-12-08T16:20:10.685042",
     "status": "completed"
    },
    "tags": []
   },
   "outputs": [
    {
     "name": "stdout",
     "output_type": "stream",
     "text": [
      "Name of all columns in the dataframe:\n",
      "['Age', 'Sex', 'ChestPainType', 'RestingBP', 'Cholesterol', 'FastingBS', 'RestingECG', 'MaxHR', 'ExerciseAngina', 'Oldpeak', 'ST_Slope', 'HeartDisease']\n",
      "\n",
      "Number of columns in the dataframe:\n",
      "12\n",
      "\n",
      "Name of all numerical columns in the dataframe:\n",
      "['Age', 'RestingBP', 'Cholesterol', 'FastingBS', 'MaxHR', 'Oldpeak', 'HeartDisease']\n",
      "\n",
      "Number of numerical columns in the dataframe:\n",
      "7\n",
      "\n",
      "Name of all categorical columns in the dataframe:\n",
      "['Sex', 'ChestPainType', 'RestingECG', 'ExerciseAngina', 'ST_Slope']\n",
      "\n",
      "Number of categorical columns in the dataframe:\n",
      "5\n",
      "\n",
      "------------------------------------------------------------------------------------------------\n",
      "\n",
      "Number of Null Values in Each Column:\n",
      "\n",
      "Age               0\n",
      "Sex               0\n",
      "ChestPainType     0\n",
      "RestingBP         0\n",
      "Cholesterol       0\n",
      "FastingBS         0\n",
      "RestingECG        0\n",
      "MaxHR             0\n",
      "ExerciseAngina    0\n",
      "Oldpeak           0\n",
      "ST_Slope          0\n",
      "HeartDisease      0\n",
      "dtype: int64\n",
      "\n",
      "\n",
      "Number of Unique Values in Each Column:\n",
      "\n",
      "Age                50\n",
      "Sex                 2\n",
      "ChestPainType       4\n",
      "RestingBP          67\n",
      "Cholesterol       222\n",
      "FastingBS           2\n",
      "RestingECG          3\n",
      "MaxHR             119\n",
      "ExerciseAngina      2\n",
      "Oldpeak            53\n",
      "ST_Slope            3\n",
      "HeartDisease        2\n",
      "dtype: int64\n",
      "\n",
      "\n",
      "Basic Statistics and Measures for Numerical Columns:\n",
      "\n",
      "              count        mean         std   min     25%    50%    75%    max\n",
      "Age           918.0   53.510893    9.432617  28.0   47.00   54.0   60.0   77.0\n",
      "RestingBP     918.0  132.396514   18.514154   0.0  120.00  130.0  140.0  200.0\n",
      "Cholesterol   918.0  198.799564  109.384145   0.0  173.25  223.0  267.0  603.0\n",
      "FastingBS     918.0    0.233115    0.423046   0.0    0.00    0.0    0.0    1.0\n",
      "MaxHR         918.0  136.809368   25.460334  60.0  120.00  138.0  156.0  202.0\n",
      "Oldpeak       918.0    0.887364    1.066570  -2.6    0.00    0.6    1.5    6.2\n",
      "HeartDisease  918.0    0.553377    0.497414   0.0    0.00    1.0    1.0    1.0\n",
      "\n",
      "\n",
      "Other Relevant Metadata Regarding the Dataframe:\n",
      "\n",
      "<class 'pandas.core.frame.DataFrame'>\n",
      "RangeIndex: 918 entries, 0 to 917\n",
      "Data columns (total 12 columns):\n",
      " #   Column          Non-Null Count  Dtype  \n",
      "---  ------          --------------  -----  \n",
      " 0   Age             918 non-null    int64  \n",
      " 1   Sex             918 non-null    object \n",
      " 2   ChestPainType   918 non-null    object \n",
      " 3   RestingBP       918 non-null    int64  \n",
      " 4   Cholesterol     918 non-null    int64  \n",
      " 5   FastingBS       918 non-null    int64  \n",
      " 6   RestingECG      918 non-null    object \n",
      " 7   MaxHR           918 non-null    int64  \n",
      " 8   ExerciseAngina  918 non-null    object \n",
      " 9   Oldpeak         918 non-null    float64\n",
      " 10  ST_Slope        918 non-null    object \n",
      " 11  HeartDisease    918 non-null    int64  \n",
      "dtypes: float64(1), int64(6), object(5)\n",
      "memory usage: 86.2+ KB\n",
      "None\n",
      "\n",
      "\n"
     ]
    }
   ],
   "source": [
    "describe(df)\n"
   ]
  },
  {
   "cell_type": "code",
   "execution_count": null,
   "id": "78c74c89",
   "metadata": {
    "id": "ZCdGOahBOY5F",
    "papermill": {
     "duration": 0.046544,
     "end_time": "2021-12-08T16:20:10.907297",
     "exception": false,
     "start_time": "2021-12-08T16:20:10.860753",
     "status": "completed"
    },
    "tags": []
   },
   "outputs": [],
   "source": []
  },
  {
   "cell_type": "markdown",
   "id": "e0208a1e",
   "metadata": {
    "id": "SkRpC5Bds8KK",
    "papermill": {
     "duration": 0.046653,
     "end_time": "2021-12-08T16:20:11.001217",
     "exception": false,
     "start_time": "2021-12-08T16:20:10.954564",
     "status": "completed"
    },
    "tags": []
   },
   "source": [
    "2.1 Vizualize Data in Terms of Target Variable"
   ]
  },
  {
   "cell_type": "code",
   "execution_count": 8,
   "id": "78761fa7",
   "metadata": {
    "execution": {
     "iopub.execute_input": "2021-12-08T16:20:11.099533Z",
     "iopub.status.busy": "2021-12-08T16:20:11.098578Z",
     "iopub.status.idle": "2021-12-08T16:20:12.870081Z",
     "shell.execute_reply": "2021-12-08T16:20:12.870658Z",
     "shell.execute_reply.started": "2021-12-08T16:13:51.776320Z"
    },
    "id": "Vi3c_d56QQgU",
    "outputId": "a89e45eb-172f-46ae-ebad-6b5853c02c53",
    "papermill": {
     "duration": 1.822128,
     "end_time": "2021-12-08T16:20:12.870839",
     "exception": false,
     "start_time": "2021-12-08T16:20:11.048711",
     "status": "completed"
    },
    "tags": []
   },
   "outputs": [
    {
     "data": {
      "text/plain": [
       "<AxesSubplot:xlabel='FastingBS', ylabel='Count'>"
      ]
     },
     "execution_count": 8,
     "metadata": {},
     "output_type": "execute_result"
    },
    {
     "data": {
      "image/png": "[encoded data removed]",
      "text/plain": [
       "<Figure size 1080x1080 with 6 Axes>"
      ]
     },
     "metadata": {
      "needs_background": "light"
     },
     "output_type": "display_data"
    }
   ],
   "source": [
    "oe=['g','r']\n",
    "fig = plt.figure(figsize=(15,15))\n",
    "\n",
    "plt.subplot(3,2,1)\n",
    "plt.style.use('seaborn')\n",
    "plt.tight_layout()\n",
    "sns.set_context('talk')\n",
    "sns.histplot(data=df, x=\"Sex\", hue=\"HeartDisease\",multiple=\"stack\",palette=oe)\n",
    "#ax.set(xlabel='Sex ', ylabel='Count')\n",
    "\n",
    "plt.subplot(3,2,2)\n",
    "plt.style.use('seaborn')\n",
    "plt.tight_layout()\n",
    "sns.set_context('talk')\n",
    "sns.histplot(data=df, x=\"ChestPainType\", hue=\"HeartDisease\",multiple=\"stack\",palette=oe)\n",
    "#ax.set(xlabel='ChestPainType', ylabel='Count')\n",
    "\n",
    "plt.subplot(3,2,3)\n",
    "plt.style.use('seaborn')\n",
    "plt.tight_layout()\n",
    "sns.set_context('talk')\n",
    "sns.histplot(data=df, x=\"ExerciseAngina\", hue=\"HeartDisease\",multiple=\"stack\",palette=oe)\n",
    "#ax.set(xlabel='ExerciseAngina', ylabel='Count')\n",
    "\n",
    "plt.subplot(3,2,4)\n",
    "plt.style.use('seaborn')\n",
    "plt.tight_layout()\n",
    "sns.set_context('talk')\n",
    "sns.histplot(data=df, x=\"RestingECG\", hue=\"HeartDisease\",multiple=\"stack\",palette=oe)\n",
    "#ax.set(xlabel='RestingECG', ylabel='Count')\n",
    "\n",
    "plt.subplot(3,2,5)\n",
    "plt.style.use('seaborn')\n",
    "plt.tight_layout()\n",
    "sns.set_context('talk')\n",
    "sns.histplot(data=df, x=\"ST_Slope\", hue=\"HeartDisease\",multiple=\"stack\",palette=oe)\n",
    "#ax.set(xlabel='ST_Slope', ylabel='Count')\n",
    "\n",
    "plt.subplot(3,2,6)\n",
    "plt.style.use('seaborn')\n",
    "plt.tight_layout()\n",
    "sns.set_context('talk')\n",
    "sns.histplot(data=df, x=\"FastingBS\", hue=\"HeartDisease\",multiple=\"stack\",palette=oe)\n",
    "#ax.set(xlabel='FastingBS', ylabel='Count')"
   ]
  },
  {
   "cell_type": "markdown",
   "id": "504f966d",
   "metadata": {
    "id": "wpUooVtPtNcS",
    "papermill": {
     "duration": 0.050328,
     "end_time": "2021-12-08T16:20:12.970936",
     "exception": false,
     "start_time": "2021-12-08T16:20:12.920608",
     "status": "completed"
    },
    "tags": []
   },
   "source": [
    "3. Outlier Detection"
   ]
  },
  {
   "cell_type": "code",
   "execution_count": 9,
   "id": "50c80730",
   "metadata": {
    "execution": {
     "iopub.execute_input": "2021-12-08T16:20:13.075912Z",
     "iopub.status.busy": "2021-12-08T16:20:13.075242Z",
     "iopub.status.idle": "2021-12-08T16:20:13.082933Z",
     "shell.execute_reply": "2021-12-08T16:20:13.083659Z",
     "shell.execute_reply.started": "2021-12-08T16:13:53.549183Z"
    },
    "id": "lpeTt9_0VvRN",
    "papermill": {
     "duration": 0.061566,
     "end_time": "2021-12-08T16:20:13.083851",
     "exception": false,
     "start_time": "2021-12-08T16:20:13.022285",
     "status": "completed"
    },
    "tags": []
   },
   "outputs": [],
   "source": [
    "def outliers(df_column):\n",
    "  q75, q25 = np.percentile(df_column, [75 ,25]) \n",
    "  iqr = q75 - q25\n",
    "  print('q75: ',q75)\n",
    "  print('q25: ',q25)\n",
    "  print('Inter Quartile Range: ',iqr)\n",
    "  print('Outliers lie before', q25-1.8*iqr, 'and beyond', q75+1.8*iqr) \n",
    "\n",
    "  # Usually 1.5 times IQR is considered, but we have used 1.8 for broader range\n",
    "\n",
    "  print('Number of Rows with Left Extreme Outliers:', len(df[df_column <q25-1.8*iqr]))\n",
    "  print('Number of Rows with Right Extreme Outliers:', len(df[df_column>q75+1.8*iqr]))\n",
    "  plt.tight_layout()\n",
    "  plt.style.use('seaborn')\n",
    "  sns.set_context('notebook')\n",
    "  sns.histplot(data=df, x=df_column, hue=\"HeartDisease\",multiple=\"stack\",palette=oe)\n",
    "\n",
    "  "
   ]
  },
  {
   "cell_type": "code",
   "execution_count": 10,
   "id": "62fd70ad",
   "metadata": {
    "execution": {
     "iopub.execute_input": "2021-12-08T16:20:13.185774Z",
     "iopub.status.busy": "2021-12-08T16:20:13.185137Z",
     "iopub.status.idle": "2021-12-08T16:20:13.787672Z",
     "shell.execute_reply": "2021-12-08T16:20:13.788226Z",
     "shell.execute_reply.started": "2021-12-08T16:13:53.558024Z"
    },
    "id": "MQl3lu2npJ48",
    "outputId": "bc03d908-f801-4385-cc89-79b7a99215e9",
    "papermill": {
     "duration": 0.655222,
     "end_time": "2021-12-08T16:20:13.788425",
     "exception": false,
     "start_time": "2021-12-08T16:20:13.133203",
     "status": "completed"
    },
    "tags": []
   },
   "outputs": [
    {
     "name": "stdout",
     "output_type": "stream",
     "text": [
      "q75:  140.0\n",
      "q25:  120.0\n",
      "Inter Quartile Range:  20.0\n",
      "Outliers lie before 84.0 and beyond 176.0\n",
      "Number of Rows with Left Extreme Outliers: 2\n",
      "Number of Rows with Right Extreme Outliers: 23\n"
     ]
    },
    {
     "data": {
      "image/png": "[encoded data removed]",
      "text/plain": [
       "<Figure size 576x396 with 1 Axes>"
      ]
     },
     "metadata": {},
     "output_type": "display_data"
    }
   ],
   "source": [
    "outliers(df['RestingBP']) "
   ]
  },
  {
   "cell_type": "code",
   "execution_count": 11,
   "id": "fca16eb4",
   "metadata": {
    "execution": {
     "iopub.execute_input": "2021-12-08T16:20:13.900567Z",
     "iopub.status.busy": "2021-12-08T16:20:13.899704Z",
     "iopub.status.idle": "2021-12-08T16:20:13.903989Z",
     "shell.execute_reply": "2021-12-08T16:20:13.904622Z",
     "shell.execute_reply.started": "2021-12-08T16:13:54.177465Z"
    },
    "id": "Oo5cxArhiDqy",
    "outputId": "070d5e99-9f18-479e-b82a-546805baac5e",
    "papermill": {
     "duration": 0.062449,
     "end_time": "2021-12-08T16:20:13.904805",
     "exception": false,
     "start_time": "2021-12-08T16:20:13.842356",
     "status": "completed"
    },
    "tags": []
   },
   "outputs": [
    {
     "data": {
      "text/plain": [
       "916"
      ]
     },
     "execution_count": 11,
     "metadata": {},
     "output_type": "execute_result"
    }
   ],
   "source": [
    "# Since outliers are slightly skewed towards the right extreme side, we will keep them for now and just drop the left extreme values\n",
    "df=df[df.RestingBP>=84]\n",
    "len(df)\n",
    "\n"
   ]
  },
  {
   "cell_type": "code",
   "execution_count": 12,
   "id": "90a509d4",
   "metadata": {
    "execution": {
     "iopub.execute_input": "2021-12-08T16:20:14.011457Z",
     "iopub.status.busy": "2021-12-08T16:20:14.010756Z",
     "iopub.status.idle": "2021-12-08T16:20:14.025460Z",
     "shell.execute_reply": "2021-12-08T16:20:14.025999Z",
     "shell.execute_reply.started": "2021-12-08T16:13:54.186722Z"
    },
    "id": "Tw42cIkMkvHN",
    "outputId": "ff72784f-ac11-4d27-bc7a-6e463aa89f57",
    "papermill": {
     "duration": 0.070188,
     "end_time": "2021-12-08T16:20:14.026184",
     "exception": false,
     "start_time": "2021-12-08T16:20:13.955996",
     "status": "completed"
    },
    "tags": []
   },
   "outputs": [
    {
     "data": {
      "text/html": [
       "<div>\n",
       "<style scoped>\n",
       "    .dataframe tbody tr th:only-of-type {\n",
       "        vertical-align: middle;\n",
       "    }\n",
       "\n",
       "    .dataframe tbody tr th {\n",
       "        vertical-align: top;\n",
       "    }\n",
       "\n",
       "    .dataframe thead th {\n",
       "        text-align: right;\n",
       "    }\n",
       "</style>\n",
       "<table border=\"1\" class=\"dataframe\">\n",
       "  <thead>\n",
       "    <tr style=\"text-align: right;\">\n",
       "      <th></th>\n",
       "      <th>Age</th>\n",
       "      <th>Sex</th>\n",
       "      <th>ChestPainType</th>\n",
       "      <th>RestingBP</th>\n",
       "      <th>Cholesterol</th>\n",
       "      <th>FastingBS</th>\n",
       "      <th>RestingECG</th>\n",
       "      <th>MaxHR</th>\n",
       "      <th>ExerciseAngina</th>\n",
       "      <th>Oldpeak</th>\n",
       "      <th>ST_Slope</th>\n",
       "      <th>HeartDisease</th>\n",
       "    </tr>\n",
       "  </thead>\n",
       "  <tbody>\n",
       "    <tr>\n",
       "      <th>0</th>\n",
       "      <td>40</td>\n",
       "      <td>M</td>\n",
       "      <td>ATA</td>\n",
       "      <td>140</td>\n",
       "      <td>289</td>\n",
       "      <td>0</td>\n",
       "      <td>Normal</td>\n",
       "      <td>172</td>\n",
       "      <td>N</td>\n",
       "      <td>0.0</td>\n",
       "      <td>Up</td>\n",
       "      <td>0</td>\n",
       "    </tr>\n",
       "    <tr>\n",
       "      <th>1</th>\n",
       "      <td>49</td>\n",
       "      <td>F</td>\n",
       "      <td>NAP</td>\n",
       "      <td>160</td>\n",
       "      <td>180</td>\n",
       "      <td>0</td>\n",
       "      <td>Normal</td>\n",
       "      <td>156</td>\n",
       "      <td>N</td>\n",
       "      <td>1.0</td>\n",
       "      <td>Flat</td>\n",
       "      <td>1</td>\n",
       "    </tr>\n",
       "    <tr>\n",
       "      <th>2</th>\n",
       "      <td>37</td>\n",
       "      <td>M</td>\n",
       "      <td>ATA</td>\n",
       "      <td>130</td>\n",
       "      <td>283</td>\n",
       "      <td>0</td>\n",
       "      <td>ST</td>\n",
       "      <td>98</td>\n",
       "      <td>N</td>\n",
       "      <td>0.0</td>\n",
       "      <td>Up</td>\n",
       "      <td>0</td>\n",
       "    </tr>\n",
       "    <tr>\n",
       "      <th>3</th>\n",
       "      <td>48</td>\n",
       "      <td>F</td>\n",
       "      <td>ASY</td>\n",
       "      <td>138</td>\n",
       "      <td>214</td>\n",
       "      <td>0</td>\n",
       "      <td>Normal</td>\n",
       "      <td>108</td>\n",
       "      <td>Y</td>\n",
       "      <td>1.5</td>\n",
       "      <td>Flat</td>\n",
       "      <td>1</td>\n",
       "    </tr>\n",
       "    <tr>\n",
       "      <th>4</th>\n",
       "      <td>54</td>\n",
       "      <td>M</td>\n",
       "      <td>NAP</td>\n",
       "      <td>150</td>\n",
       "      <td>195</td>\n",
       "      <td>0</td>\n",
       "      <td>Normal</td>\n",
       "      <td>122</td>\n",
       "      <td>N</td>\n",
       "      <td>0.0</td>\n",
       "      <td>Up</td>\n",
       "      <td>0</td>\n",
       "    </tr>\n",
       "  </tbody>\n",
       "</table>\n",
       "</div>"
      ],
      "text/plain": [
       "   Age Sex ChestPainType  RestingBP  Cholesterol  FastingBS RestingECG  MaxHR  \\\n",
       "0   40   M           ATA        140          289          0     Normal    172   \n",
       "1   49   F           NAP        160          180          0     Normal    156   \n",
       "2   37   M           ATA        130          283          0         ST     98   \n",
       "3   48   F           ASY        138          214          0     Normal    108   \n",
       "4   54   M           NAP        150          195          0     Normal    122   \n",
       "\n",
       "  ExerciseAngina  Oldpeak ST_Slope  HeartDisease  \n",
       "0              N      0.0       Up             0  \n",
       "1              N      1.0     Flat             1  \n",
       "2              N      0.0       Up             0  \n",
       "3              Y      1.5     Flat             1  \n",
       "4              N      0.0       Up             0  "
      ]
     },
     "execution_count": 12,
     "metadata": {},
     "output_type": "execute_result"
    }
   ],
   "source": [
    "df.head()"
   ]
  },
  {
   "cell_type": "code",
   "execution_count": 13,
   "id": "e036bd0f",
   "metadata": {
    "execution": {
     "iopub.execute_input": "2021-12-08T16:20:14.138218Z",
     "iopub.status.busy": "2021-12-08T16:20:14.137533Z",
     "iopub.status.idle": "2021-12-08T16:20:14.638955Z",
     "shell.execute_reply": "2021-12-08T16:20:14.639431Z",
     "shell.execute_reply.started": "2021-12-08T16:13:54.212187Z"
    },
    "id": "-yVr_tE2neAw",
    "outputId": "56efc133-c7cb-45c6-bc7e-e79cef95bd49",
    "papermill": {
     "duration": 0.557644,
     "end_time": "2021-12-08T16:20:14.639616",
     "exception": false,
     "start_time": "2021-12-08T16:20:14.081972",
     "status": "completed"
    },
    "tags": []
   },
   "outputs": [
    {
     "name": "stdout",
     "output_type": "stream",
     "text": [
      "q75:  267.0\n",
      "q25:  174.75\n",
      "Inter Quartile Range:  92.25\n",
      "Outliers lie before 8.699999999999989 and beyond 433.05\n",
      "Number of Rows with Left Extreme Outliers: 170\n",
      "Number of Rows with Right Extreme Outliers: 8\n"
     ]
    },
    {
     "data": {
      "image/png": "[encoded data removed]",
      "text/plain": [
       "<Figure size 576x396 with 1 Axes>"
      ]
     },
     "metadata": {},
     "output_type": "display_data"
    }
   ],
   "source": [
    "outliers(df['Cholesterol']) \n",
    "# Multiple Values of 0 value are present\n",
    "#Since Cholesterol value can't be zero, these values are missing and have to be dealt with prior to model creation\n"
   ]
  },
  {
   "cell_type": "code",
   "execution_count": 14,
   "id": "77d77609",
   "metadata": {
    "execution": {
     "iopub.execute_input": "2021-12-08T16:20:14.749498Z",
     "iopub.status.busy": "2021-12-08T16:20:14.748810Z",
     "iopub.status.idle": "2021-12-08T16:20:14.754519Z",
     "shell.execute_reply": "2021-12-08T16:20:14.754988Z",
     "shell.execute_reply.started": "2021-12-08T16:13:54.850533Z"
    },
    "id": "lzZ40V_HT89j",
    "outputId": "71837d6d-0cd5-4863-bac4-f4c172f4bb78",
    "papermill": {
     "duration": 0.062153,
     "end_time": "2021-12-08T16:20:14.755170",
     "exception": false,
     "start_time": "2021-12-08T16:20:14.693017",
     "status": "completed"
    },
    "tags": []
   },
   "outputs": [
    {
     "data": {
      "text/plain": [
       "912"
      ]
     },
     "execution_count": 14,
     "metadata": {},
     "output_type": "execute_result"
    }
   ],
   "source": [
    "df=df[df.Cholesterol<=500]\n",
    "df.head()\n",
    "len(df)"
   ]
  },
  {
   "cell_type": "code",
   "execution_count": 15,
   "id": "e250c97c",
   "metadata": {
    "execution": {
     "iopub.execute_input": "2021-12-08T16:20:14.865995Z",
     "iopub.status.busy": "2021-12-08T16:20:14.865244Z",
     "iopub.status.idle": "2021-12-08T16:20:15.277377Z",
     "shell.execute_reply": "2021-12-08T16:20:15.276681Z",
     "shell.execute_reply.started": "2021-12-08T16:13:54.862183Z"
    },
    "id": "irkbhjl4ni45",
    "outputId": "3051d4e2-8243-498f-986f-c3ae30d1e1a6",
    "papermill": {
     "duration": 0.468661,
     "end_time": "2021-12-08T16:20:15.277535",
     "exception": false,
     "start_time": "2021-12-08T16:20:14.808874",
     "status": "completed"
    },
    "tags": []
   },
   "outputs": [
    {
     "name": "stdout",
     "output_type": "stream",
     "text": [
      "q75:  156.0\n",
      "q25:  120.0\n",
      "Inter Quartile Range:  36.0\n",
      "Outliers lie before 55.2 and beyond 220.8\n",
      "Number of Rows with Left Extreme Outliers: 0\n",
      "Number of Rows with Right Extreme Outliers: 0\n"
     ]
    },
    {
     "data": {
      "image/png": "[encoded data removed]",
      "text/plain": [
       "<Figure size 576x396 with 1 Axes>"
      ]
     },
     "metadata": {},
     "output_type": "display_data"
    }
   ],
   "source": [
    "outliers(df['MaxHR'])"
   ]
  },
  {
   "cell_type": "code",
   "execution_count": 16,
   "id": "c27fe907",
   "metadata": {
    "execution": {
     "iopub.execute_input": "2021-12-08T16:20:15.398779Z",
     "iopub.status.busy": "2021-12-08T16:20:15.391493Z",
     "iopub.status.idle": "2021-12-08T16:20:15.859591Z",
     "shell.execute_reply": "2021-12-08T16:20:15.860139Z",
     "shell.execute_reply.started": "2021-12-08T16:13:55.315631Z"
    },
    "id": "oMO_EFIfSzia",
    "outputId": "a1b6d5b1-be09-4100-f63c-55866480bcec",
    "papermill": {
     "duration": 0.528235,
     "end_time": "2021-12-08T16:20:15.860337",
     "exception": false,
     "start_time": "2021-12-08T16:20:15.332102",
     "status": "completed"
    },
    "tags": []
   },
   "outputs": [
    {
     "name": "stdout",
     "output_type": "stream",
     "text": [
      "q75:  1.5\n",
      "q25:  0.0\n",
      "Inter Quartile Range:  1.5\n",
      "Outliers lie before -2.7 and beyond 4.2\n",
      "Number of Rows with Left Extreme Outliers: 0\n",
      "Number of Rows with Right Extreme Outliers: 4\n"
     ]
    },
    {
     "data": {
      "image/png": "[encoded data removed]",
      "text/plain": [
       "<Figure size 576x396 with 1 Axes>"
      ]
     },
     "metadata": {},
     "output_type": "display_data"
    }
   ],
   "source": [
    "outliers(df['Oldpeak'])"
   ]
  },
  {
   "cell_type": "code",
   "execution_count": 17,
   "id": "ef6127df",
   "metadata": {
    "execution": {
     "iopub.execute_input": "2021-12-08T16:20:15.982046Z",
     "iopub.status.busy": "2021-12-08T16:20:15.981300Z",
     "iopub.status.idle": "2021-12-08T16:20:15.986488Z",
     "shell.execute_reply": "2021-12-08T16:20:15.985703Z",
     "shell.execute_reply.started": "2021-12-08T16:13:55.798048Z"
    },
    "id": "iOtGlHAdTtgc",
    "outputId": "380ee076-e8f1-4824-f3ac-da9c29ede71d",
    "papermill": {
     "duration": 0.070781,
     "end_time": "2021-12-08T16:20:15.986690",
     "exception": false,
     "start_time": "2021-12-08T16:20:15.915909",
     "status": "completed"
    },
    "tags": []
   },
   "outputs": [
    {
     "name": "stderr",
     "output_type": "stream",
     "text": [
      "/opt/conda/lib/python3.7/site-packages/ipykernel_launcher.py:1: FutureWarning: Dropping of nuisance columns in DataFrame reductions (with 'numeric_only=None') is deprecated; in a future version this will raise TypeError.  Select only valid columns before calling the reduction.\n",
      "  \"\"\"Entry point for launching an IPython kernel.\n"
     ]
    },
    {
     "data": {
      "text/plain": [
       "Age              56.264706\n",
       "RestingBP       130.735294\n",
       "Cholesterol       0.000000\n",
       "FastingBS         0.523529\n",
       "MaxHR           121.682353\n",
       "Oldpeak           0.814706\n",
       "HeartDisease      0.888235\n",
       "dtype: float64"
      ]
     },
     "execution_count": 17,
     "metadata": {},
     "output_type": "execute_result"
    }
   ],
   "source": [
    "df[df.Cholesterol==0].mean() #Effort to understand how data looks like where values are missing, i.e. 0 Cholesterol "
   ]
  },
  {
   "cell_type": "code",
   "execution_count": 18,
   "id": "4bb2566f",
   "metadata": {
    "execution": {
     "iopub.execute_input": "2021-12-08T16:20:16.106202Z",
     "iopub.status.busy": "2021-12-08T16:20:16.104350Z",
     "iopub.status.idle": "2021-12-08T16:20:16.116406Z",
     "shell.execute_reply": "2021-12-08T16:20:16.116907Z",
     "shell.execute_reply.started": "2021-12-08T16:13:55.811743Z"
    },
    "id": "3K9vN-NhZfpN",
    "outputId": "fce4bc82-741f-481d-eaeb-8a409302a49d",
    "papermill": {
     "duration": 0.07308,
     "end_time": "2021-12-08T16:20:16.117082",
     "exception": false,
     "start_time": "2021-12-08T16:20:16.044002",
     "status": "completed"
    },
    "tags": []
   },
   "outputs": [
    {
     "name": "stderr",
     "output_type": "stream",
     "text": [
      "/opt/conda/lib/python3.7/site-packages/ipykernel_launcher.py:1: FutureWarning: Dropping of nuisance columns in DataFrame reductions (with 'numeric_only=None') is deprecated; in a future version this will raise TypeError.  Select only valid columns before calling the reduction.\n",
      "  \"\"\"Entry point for launching an IPython kernel.\n"
     ]
    },
    {
     "data": {
      "text/plain": [
       "Age              52.889488\n",
       "RestingBP       133.055256\n",
       "Cholesterol     242.970350\n",
       "FastingBS         0.167116\n",
       "MaxHR           140.247978\n",
       "Oldpeak           0.902965\n",
       "HeartDisease      0.475741\n",
       "dtype: float64"
      ]
     },
     "execution_count": 18,
     "metadata": {},
     "output_type": "execute_result"
    }
   ],
   "source": [
    "df[df.Cholesterol>0].mean()"
   ]
  },
  {
   "cell_type": "code",
   "execution_count": 19,
   "id": "0d3095a8",
   "metadata": {
    "execution": {
     "iopub.execute_input": "2021-12-08T16:20:16.238857Z",
     "iopub.status.busy": "2021-12-08T16:20:16.237927Z",
     "iopub.status.idle": "2021-12-08T16:20:16.241668Z",
     "shell.execute_reply": "2021-12-08T16:20:16.242402Z",
     "shell.execute_reply.started": "2021-12-08T16:13:55.833406Z"
    },
    "id": "iyinlQXyZskq",
    "outputId": "bd2be00f-5b0b-47ea-9e4f-cc98cb2b0ec3",
    "papermill": {
     "duration": 0.067653,
     "end_time": "2021-12-08T16:20:16.242644",
     "exception": false,
     "start_time": "2021-12-08T16:20:16.174991",
     "status": "completed"
    },
    "tags": []
   },
   "outputs": [
    {
     "name": "stdout",
     "output_type": "stream",
     "text": [
      "Mean:  197.6798245614035\n",
      "Median:  222.5\n"
     ]
    }
   ],
   "source": [
    "print('Mean: ',df['Cholesterol'].mean())\n",
    "print('Median: ',df['Cholesterol'].median())"
   ]
  },
  {
   "cell_type": "code",
   "execution_count": 20,
   "id": "7f422161",
   "metadata": {
    "execution": {
     "iopub.execute_input": "2021-12-08T16:20:16.365340Z",
     "iopub.status.busy": "2021-12-08T16:20:16.364634Z",
     "iopub.status.idle": "2021-12-08T16:20:16.367240Z",
     "shell.execute_reply": "2021-12-08T16:20:16.367890Z",
     "shell.execute_reply.started": "2021-12-08T16:13:55.841824Z"
    },
    "id": "ImX8c6iPaD2K",
    "outputId": "88b2b87c-9f9c-4169-c907-193981759699",
    "papermill": {
     "duration": 0.067185,
     "end_time": "2021-12-08T16:20:16.368069",
     "exception": false,
     "start_time": "2021-12-08T16:20:16.300884",
     "status": "completed"
    },
    "tags": []
   },
   "outputs": [
    {
     "data": {
      "text/plain": [
       "242.97035040431265"
      ]
     },
     "execution_count": 20,
     "metadata": {},
     "output_type": "execute_result"
    }
   ],
   "source": [
    "df[df['Cholesterol']>0].Cholesterol.mean()"
   ]
  },
  {
   "cell_type": "code",
   "execution_count": 21,
   "id": "e6e97617",
   "metadata": {
    "execution": {
     "iopub.execute_input": "2021-12-08T16:20:16.486395Z",
     "iopub.status.busy": "2021-12-08T16:20:16.485734Z",
     "iopub.status.idle": "2021-12-08T16:20:16.517888Z",
     "shell.execute_reply": "2021-12-08T16:20:16.518452Z",
     "shell.execute_reply.started": "2021-12-08T16:13:55.858101Z"
    },
    "id": "JErqDrfujUvC",
    "outputId": "e1b6b5cf-bbde-4128-e425-e505ed8d8d87",
    "papermill": {
     "duration": 0.093066,
     "end_time": "2021-12-08T16:20:16.518634",
     "exception": false,
     "start_time": "2021-12-08T16:20:16.425568",
     "status": "completed"
    },
    "tags": []
   },
   "outputs": [
    {
     "data": {
      "text/html": [
       "<div>\n",
       "<style scoped>\n",
       "    .dataframe tbody tr th:only-of-type {\n",
       "        vertical-align: middle;\n",
       "    }\n",
       "\n",
       "    .dataframe tbody tr th {\n",
       "        vertical-align: top;\n",
       "    }\n",
       "\n",
       "    .dataframe thead th {\n",
       "        text-align: right;\n",
       "    }\n",
       "</style>\n",
       "<table border=\"1\" class=\"dataframe\">\n",
       "  <thead>\n",
       "    <tr style=\"text-align: right;\">\n",
       "      <th></th>\n",
       "      <th>count</th>\n",
       "      <th>mean</th>\n",
       "      <th>std</th>\n",
       "      <th>min</th>\n",
       "      <th>25%</th>\n",
       "      <th>50%</th>\n",
       "      <th>75%</th>\n",
       "      <th>max</th>\n",
       "    </tr>\n",
       "  </thead>\n",
       "  <tbody>\n",
       "    <tr>\n",
       "      <th>Age</th>\n",
       "      <td>912.0</td>\n",
       "      <td>53.518640</td>\n",
       "      <td>9.425989</td>\n",
       "      <td>28.0</td>\n",
       "      <td>47.00</td>\n",
       "      <td>54.00</td>\n",
       "      <td>60.00</td>\n",
       "      <td>77.0</td>\n",
       "    </tr>\n",
       "    <tr>\n",
       "      <th>RestingBP</th>\n",
       "      <td>912.0</td>\n",
       "      <td>132.622807</td>\n",
       "      <td>17.943938</td>\n",
       "      <td>92.0</td>\n",
       "      <td>120.00</td>\n",
       "      <td>130.00</td>\n",
       "      <td>140.00</td>\n",
       "      <td>200.0</td>\n",
       "    </tr>\n",
       "    <tr>\n",
       "      <th>Cholesterol</th>\n",
       "      <td>912.0</td>\n",
       "      <td>197.679825</td>\n",
       "      <td>106.763321</td>\n",
       "      <td>0.0</td>\n",
       "      <td>173.75</td>\n",
       "      <td>222.50</td>\n",
       "      <td>266.25</td>\n",
       "      <td>491.0</td>\n",
       "    </tr>\n",
       "    <tr>\n",
       "      <th>FastingBS</th>\n",
       "      <td>912.0</td>\n",
       "      <td>0.233553</td>\n",
       "      <td>0.423323</td>\n",
       "      <td>0.0</td>\n",
       "      <td>0.00</td>\n",
       "      <td>0.00</td>\n",
       "      <td>0.00</td>\n",
       "      <td>1.0</td>\n",
       "    </tr>\n",
       "    <tr>\n",
       "      <th>MaxHR</th>\n",
       "      <td>912.0</td>\n",
       "      <td>136.787281</td>\n",
       "      <td>25.519987</td>\n",
       "      <td>60.0</td>\n",
       "      <td>120.00</td>\n",
       "      <td>138.00</td>\n",
       "      <td>156.00</td>\n",
       "      <td>202.0</td>\n",
       "    </tr>\n",
       "    <tr>\n",
       "      <th>Oldpeak</th>\n",
       "      <td>912.0</td>\n",
       "      <td>0.886513</td>\n",
       "      <td>1.068172</td>\n",
       "      <td>-2.6</td>\n",
       "      <td>0.00</td>\n",
       "      <td>0.55</td>\n",
       "      <td>1.50</td>\n",
       "      <td>6.2</td>\n",
       "    </tr>\n",
       "    <tr>\n",
       "      <th>HeartDisease</th>\n",
       "      <td>912.0</td>\n",
       "      <td>0.552632</td>\n",
       "      <td>0.497495</td>\n",
       "      <td>0.0</td>\n",
       "      <td>0.00</td>\n",
       "      <td>1.00</td>\n",
       "      <td>1.00</td>\n",
       "      <td>1.0</td>\n",
       "    </tr>\n",
       "  </tbody>\n",
       "</table>\n",
       "</div>"
      ],
      "text/plain": [
       "              count        mean         std   min     25%     50%     75%  \\\n",
       "Age           912.0   53.518640    9.425989  28.0   47.00   54.00   60.00   \n",
       "RestingBP     912.0  132.622807   17.943938  92.0  120.00  130.00  140.00   \n",
       "Cholesterol   912.0  197.679825  106.763321   0.0  173.75  222.50  266.25   \n",
       "FastingBS     912.0    0.233553    0.423323   0.0    0.00    0.00    0.00   \n",
       "MaxHR         912.0  136.787281   25.519987  60.0  120.00  138.00  156.00   \n",
       "Oldpeak       912.0    0.886513    1.068172  -2.6    0.00    0.55    1.50   \n",
       "HeartDisease  912.0    0.552632    0.497495   0.0    0.00    1.00    1.00   \n",
       "\n",
       "                max  \n",
       "Age            77.0  \n",
       "RestingBP     200.0  \n",
       "Cholesterol   491.0  \n",
       "FastingBS       1.0  \n",
       "MaxHR         202.0  \n",
       "Oldpeak         6.2  \n",
       "HeartDisease    1.0  "
      ]
     },
     "execution_count": 21,
     "metadata": {},
     "output_type": "execute_result"
    }
   ],
   "source": [
    "df.describe().T"
   ]
  },
  {
   "cell_type": "markdown",
   "id": "fde73211",
   "metadata": {
    "id": "NMeA-GAnu5rR",
    "papermill": {
     "duration": 0.061013,
     "end_time": "2021-12-08T16:20:16.638219",
     "exception": false,
     "start_time": "2021-12-08T16:20:16.577206",
     "status": "completed"
    },
    "tags": []
   },
   "source": [
    "4. Convert Categorical Variables into Numerical by One Hot Encoding"
   ]
  },
  {
   "cell_type": "code",
   "execution_count": 22,
   "id": "11ce83a7",
   "metadata": {
    "execution": {
     "iopub.execute_input": "2021-12-08T16:20:16.759427Z",
     "iopub.status.busy": "2021-12-08T16:20:16.758756Z",
     "iopub.status.idle": "2021-12-08T16:20:16.765518Z",
     "shell.execute_reply": "2021-12-08T16:20:16.766087Z",
     "shell.execute_reply.started": "2021-12-08T16:13:55.904115Z"
    },
    "id": "ChSvwItNXbLg",
    "papermill": {
     "duration": 0.069209,
     "end_time": "2021-12-08T16:20:16.766264",
     "exception": false,
     "start_time": "2021-12-08T16:20:16.697055",
     "status": "completed"
    },
    "tags": []
   },
   "outputs": [],
   "source": [
    "def OHE(dfcolumn):\n",
    "  global df\n",
    "  dfcolumn.nunique()\n",
    "  len(df.columns)\n",
    "  finallencol = (dfcolumn.nunique() - 1) + (len(df.columns)-1)\n",
    "  dummies = pd.get_dummies(dfcolumn, drop_first=True, prefix=dfcolumn.name)\n",
    "  df=pd.concat([df,dummies],axis='columns')\n",
    "  df.drop(columns=dfcolumn.name,axis=1,inplace=True) # We have to drop columns to aviod multi-collinearity\n",
    "  if(finallencol==len(df.columns)):\n",
    "    print('One Hot Encoding was successful!') \n",
    "    print('')\n",
    "  else:\n",
    "    print('Error in OHE XXXX')\n",
    "  return df\n"
   ]
  },
  {
   "cell_type": "code",
   "execution_count": 23,
   "id": "823ad5d5",
   "metadata": {
    "execution": {
     "iopub.execute_input": "2021-12-08T16:20:16.885669Z",
     "iopub.status.busy": "2021-12-08T16:20:16.885010Z",
     "iopub.status.idle": "2021-12-08T16:20:17.074155Z",
     "shell.execute_reply": "2021-12-08T16:20:17.074932Z",
     "shell.execute_reply.started": "2021-12-08T16:13:55.913690Z"
    },
    "id": "-_AndcxAXe1S",
    "outputId": "057c187e-b363-4587-c763-add77a631b4a",
    "papermill": {
     "duration": 0.2509,
     "end_time": "2021-12-08T16:20:17.075157",
     "exception": false,
     "start_time": "2021-12-08T16:20:16.824257",
     "status": "completed"
    },
    "tags": []
   },
   "outputs": [
    {
     "name": "stdout",
     "output_type": "stream",
     "text": [
      "One Hot Encoding was successful!\n",
      "\n",
      "One Hot Encoding was successful!\n",
      "\n",
      "One Hot Encoding was successful!\n",
      "\n",
      "One Hot Encoding was successful!\n",
      "\n",
      "One Hot Encoding was successful!\n",
      "\n"
     ]
    },
    {
     "data": {
      "text/html": [
       "<div>\n",
       "<style scoped>\n",
       "    .dataframe tbody tr th:only-of-type {\n",
       "        vertical-align: middle;\n",
       "    }\n",
       "\n",
       "    .dataframe tbody tr th {\n",
       "        vertical-align: top;\n",
       "    }\n",
       "\n",
       "    .dataframe thead th {\n",
       "        text-align: right;\n",
       "    }\n",
       "</style>\n",
       "<table border=\"1\" class=\"dataframe\">\n",
       "  <thead>\n",
       "    <tr style=\"text-align: right;\">\n",
       "      <th></th>\n",
       "      <th>Age</th>\n",
       "      <th>RestingBP</th>\n",
       "      <th>Cholesterol</th>\n",
       "      <th>FastingBS</th>\n",
       "      <th>MaxHR</th>\n",
       "      <th>Oldpeak</th>\n",
       "      <th>HeartDisease</th>\n",
       "      <th>ChestPainType_ATA</th>\n",
       "      <th>ChestPainType_NAP</th>\n",
       "      <th>ChestPainType_TA</th>\n",
       "      <th>Sex_M</th>\n",
       "      <th>RestingECG_Normal</th>\n",
       "      <th>RestingECG_ST</th>\n",
       "      <th>ExerciseAngina_Y</th>\n",
       "      <th>ST_Slope_Flat</th>\n",
       "      <th>ST_Slope_Up</th>\n",
       "    </tr>\n",
       "  </thead>\n",
       "  <tbody>\n",
       "    <tr>\n",
       "      <th>0</th>\n",
       "      <td>40</td>\n",
       "      <td>140</td>\n",
       "      <td>289</td>\n",
       "      <td>0</td>\n",
       "      <td>172</td>\n",
       "      <td>0.0</td>\n",
       "      <td>0</td>\n",
       "      <td>1</td>\n",
       "      <td>0</td>\n",
       "      <td>0</td>\n",
       "      <td>1</td>\n",
       "      <td>1</td>\n",
       "      <td>0</td>\n",
       "      <td>0</td>\n",
       "      <td>0</td>\n",
       "      <td>1</td>\n",
       "    </tr>\n",
       "    <tr>\n",
       "      <th>1</th>\n",
       "      <td>49</td>\n",
       "      <td>160</td>\n",
       "      <td>180</td>\n",
       "      <td>0</td>\n",
       "      <td>156</td>\n",
       "      <td>1.0</td>\n",
       "      <td>1</td>\n",
       "      <td>0</td>\n",
       "      <td>1</td>\n",
       "      <td>0</td>\n",
       "      <td>0</td>\n",
       "      <td>1</td>\n",
       "      <td>0</td>\n",
       "      <td>0</td>\n",
       "      <td>1</td>\n",
       "      <td>0</td>\n",
       "    </tr>\n",
       "    <tr>\n",
       "      <th>2</th>\n",
       "      <td>37</td>\n",
       "      <td>130</td>\n",
       "      <td>283</td>\n",
       "      <td>0</td>\n",
       "      <td>98</td>\n",
       "      <td>0.0</td>\n",
       "      <td>0</td>\n",
       "      <td>1</td>\n",
       "      <td>0</td>\n",
       "      <td>0</td>\n",
       "      <td>1</td>\n",
       "      <td>0</td>\n",
       "      <td>1</td>\n",
       "      <td>0</td>\n",
       "      <td>0</td>\n",
       "      <td>1</td>\n",
       "    </tr>\n",
       "    <tr>\n",
       "      <th>3</th>\n",
       "      <td>48</td>\n",
       "      <td>138</td>\n",
       "      <td>214</td>\n",
       "      <td>0</td>\n",
       "      <td>108</td>\n",
       "      <td>1.5</td>\n",
       "      <td>1</td>\n",
       "      <td>0</td>\n",
       "      <td>0</td>\n",
       "      <td>0</td>\n",
       "      <td>0</td>\n",
       "      <td>1</td>\n",
       "      <td>0</td>\n",
       "      <td>1</td>\n",
       "      <td>1</td>\n",
       "      <td>0</td>\n",
       "    </tr>\n",
       "    <tr>\n",
       "      <th>4</th>\n",
       "      <td>54</td>\n",
       "      <td>150</td>\n",
       "      <td>195</td>\n",
       "      <td>0</td>\n",
       "      <td>122</td>\n",
       "      <td>0.0</td>\n",
       "      <td>0</td>\n",
       "      <td>0</td>\n",
       "      <td>1</td>\n",
       "      <td>0</td>\n",
       "      <td>1</td>\n",
       "      <td>1</td>\n",
       "      <td>0</td>\n",
       "      <td>0</td>\n",
       "      <td>0</td>\n",
       "      <td>1</td>\n",
       "    </tr>\n",
       "    <tr>\n",
       "      <th>...</th>\n",
       "      <td>...</td>\n",
       "      <td>...</td>\n",
       "      <td>...</td>\n",
       "      <td>...</td>\n",
       "      <td>...</td>\n",
       "      <td>...</td>\n",
       "      <td>...</td>\n",
       "      <td>...</td>\n",
       "      <td>...</td>\n",
       "      <td>...</td>\n",
       "      <td>...</td>\n",
       "      <td>...</td>\n",
       "      <td>...</td>\n",
       "      <td>...</td>\n",
       "      <td>...</td>\n",
       "      <td>...</td>\n",
       "    </tr>\n",
       "    <tr>\n",
       "      <th>913</th>\n",
       "      <td>45</td>\n",
       "      <td>110</td>\n",
       "      <td>264</td>\n",
       "      <td>0</td>\n",
       "      <td>132</td>\n",
       "      <td>1.2</td>\n",
       "      <td>1</td>\n",
       "      <td>0</td>\n",
       "      <td>0</td>\n",
       "      <td>1</td>\n",
       "      <td>1</td>\n",
       "      <td>1</td>\n",
       "      <td>0</td>\n",
       "      <td>0</td>\n",
       "      <td>1</td>\n",
       "      <td>0</td>\n",
       "    </tr>\n",
       "    <tr>\n",
       "      <th>914</th>\n",
       "      <td>68</td>\n",
       "      <td>144</td>\n",
       "      <td>193</td>\n",
       "      <td>1</td>\n",
       "      <td>141</td>\n",
       "      <td>3.4</td>\n",
       "      <td>1</td>\n",
       "      <td>0</td>\n",
       "      <td>0</td>\n",
       "      <td>0</td>\n",
       "      <td>1</td>\n",
       "      <td>1</td>\n",
       "      <td>0</td>\n",
       "      <td>0</td>\n",
       "      <td>1</td>\n",
       "      <td>0</td>\n",
       "    </tr>\n",
       "    <tr>\n",
       "      <th>915</th>\n",
       "      <td>57</td>\n",
       "      <td>130</td>\n",
       "      <td>131</td>\n",
       "      <td>0</td>\n",
       "      <td>115</td>\n",
       "      <td>1.2</td>\n",
       "      <td>1</td>\n",
       "      <td>0</td>\n",
       "      <td>0</td>\n",
       "      <td>0</td>\n",
       "      <td>1</td>\n",
       "      <td>1</td>\n",
       "      <td>0</td>\n",
       "      <td>1</td>\n",
       "      <td>1</td>\n",
       "      <td>0</td>\n",
       "    </tr>\n",
       "    <tr>\n",
       "      <th>916</th>\n",
       "      <td>57</td>\n",
       "      <td>130</td>\n",
       "      <td>236</td>\n",
       "      <td>0</td>\n",
       "      <td>174</td>\n",
       "      <td>0.0</td>\n",
       "      <td>1</td>\n",
       "      <td>1</td>\n",
       "      <td>0</td>\n",
       "      <td>0</td>\n",
       "      <td>0</td>\n",
       "      <td>0</td>\n",
       "      <td>0</td>\n",
       "      <td>0</td>\n",
       "      <td>1</td>\n",
       "      <td>0</td>\n",
       "    </tr>\n",
       "    <tr>\n",
       "      <th>917</th>\n",
       "      <td>38</td>\n",
       "      <td>138</td>\n",
       "      <td>175</td>\n",
       "      <td>0</td>\n",
       "      <td>173</td>\n",
       "      <td>0.0</td>\n",
       "      <td>0</td>\n",
       "      <td>0</td>\n",
       "      <td>1</td>\n",
       "      <td>0</td>\n",
       "      <td>1</td>\n",
       "      <td>1</td>\n",
       "      <td>0</td>\n",
       "      <td>0</td>\n",
       "      <td>0</td>\n",
       "      <td>1</td>\n",
       "    </tr>\n",
       "  </tbody>\n",
       "</table>\n",
       "<p>912 rows × 16 columns</p>\n",
       "</div>"
      ],
      "text/plain": [
       "     Age  RestingBP  Cholesterol  FastingBS  MaxHR  Oldpeak  HeartDisease  \\\n",
       "0     40        140          289          0    172      0.0             0   \n",
       "1     49        160          180          0    156      1.0             1   \n",
       "2     37        130          283          0     98      0.0             0   \n",
       "3     48        138          214          0    108      1.5             1   \n",
       "4     54        150          195          0    122      0.0             0   \n",
       "..   ...        ...          ...        ...    ...      ...           ...   \n",
       "913   45        110          264          0    132      1.2             1   \n",
       "914   68        144          193          1    141      3.4             1   \n",
       "915   57        130          131          0    115      1.2             1   \n",
       "916   57        130          236          0    174      0.0             1   \n",
       "917   38        138          175          0    173      0.0             0   \n",
       "\n",
       "     ChestPainType_ATA  ChestPainType_NAP  ChestPainType_TA  Sex_M  \\\n",
       "0                    1                  0                 0      1   \n",
       "1                    0                  1                 0      0   \n",
       "2                    1                  0                 0      1   \n",
       "3                    0                  0                 0      0   \n",
       "4                    0                  1                 0      1   \n",
       "..                 ...                ...               ...    ...   \n",
       "913                  0                  0                 1      1   \n",
       "914                  0                  0                 0      1   \n",
       "915                  0                  0                 0      1   \n",
       "916                  1                  0                 0      0   \n",
       "917                  0                  1                 0      1   \n",
       "\n",
       "     RestingECG_Normal  RestingECG_ST  ExerciseAngina_Y  ST_Slope_Flat  \\\n",
       "0                    1              0                 0              0   \n",
       "1                    1              0                 0              1   \n",
       "2                    0              1                 0              0   \n",
       "3                    1              0                 1              1   \n",
       "4                    1              0                 0              0   \n",
       "..                 ...            ...               ...            ...   \n",
       "913                  1              0                 0              1   \n",
       "914                  1              0                 0              1   \n",
       "915                  1              0                 1              1   \n",
       "916                  0              0                 0              1   \n",
       "917                  1              0                 0              0   \n",
       "\n",
       "     ST_Slope_Up  \n",
       "0              1  \n",
       "1              0  \n",
       "2              1  \n",
       "3              0  \n",
       "4              1  \n",
       "..           ...  \n",
       "913            0  \n",
       "914            0  \n",
       "915            0  \n",
       "916            0  \n",
       "917            1  \n",
       "\n",
       "[912 rows x 16 columns]"
      ]
     },
     "execution_count": 23,
     "metadata": {},
     "output_type": "execute_result"
    }
   ],
   "source": [
    "OHE(df['ChestPainType'])\n",
    "OHE(df['Sex'])\n",
    "OHE(df['RestingECG'])\n",
    "OHE(df['ExerciseAngina'])\n",
    "OHE(df['ST_Slope'])\n"
   ]
  },
  {
   "cell_type": "markdown",
   "id": "e121ad7b",
   "metadata": {
    "id": "KjRZZoXEx-kK",
    "papermill": {
     "duration": 0.058852,
     "end_time": "2021-12-08T16:20:17.193960",
     "exception": false,
     "start_time": "2021-12-08T16:20:17.135108",
     "status": "completed"
    },
    "tags": []
   },
   "source": [
    "5. Data Transformation Before Model Building"
   ]
  },
  {
   "cell_type": "code",
   "execution_count": 24,
   "id": "4ec2752a",
   "metadata": {
    "execution": {
     "iopub.execute_input": "2021-12-08T16:20:17.321313Z",
     "iopub.status.busy": "2021-12-08T16:20:17.314786Z",
     "iopub.status.idle": "2021-12-08T16:20:17.355746Z",
     "shell.execute_reply": "2021-12-08T16:20:17.356702Z",
     "shell.execute_reply.started": "2021-12-08T16:13:55.967564Z"
    },
    "id": "IuVX68aweyPg",
    "papermill": {
     "duration": 0.103921,
     "end_time": "2021-12-08T16:20:17.357012",
     "exception": false,
     "start_time": "2021-12-08T16:20:17.253091",
     "status": "completed"
    },
    "tags": []
   },
   "outputs": [],
   "source": [
    "# Imupute Values for 0 Cholesterol, Method Used: KNN-Imputation \n",
    "\n",
    "df['Cholesterol'].replace(to_replace = 0, value =np.nan, inplace=True)\n",
    "KNN_imputed = KNNImputer(n_neighbors=5)\n",
    "I=KNN_imputed.fit_transform(df)\n",
    "Cholesterol=[]\n",
    "for i in range(0,len(df)):\n",
    "  Cholesterol.append(I[i][2])\n",
    "df['Cholesterol']=Cholesterol "
   ]
  },
  {
   "cell_type": "code",
   "execution_count": 25,
   "id": "1f4a8959",
   "metadata": {
    "execution": {
     "iopub.execute_input": "2021-12-08T16:20:17.529739Z",
     "iopub.status.busy": "2021-12-08T16:20:17.528620Z",
     "iopub.status.idle": "2021-12-08T16:20:17.590852Z",
     "shell.execute_reply": "2021-12-08T16:20:17.591851Z",
     "shell.execute_reply.started": "2021-12-08T16:13:56.008667Z"
    },
    "id": "T8zkXZgUhhlA",
    "papermill": {
     "duration": 0.130228,
     "end_time": "2021-12-08T16:20:17.592150",
     "exception": false,
     "start_time": "2021-12-08T16:20:17.461922",
     "status": "completed"
    },
    "tags": []
   },
   "outputs": [],
   "source": [
    "# Find VIF (Variance Inflation Factor) To Check for collinearity among independent variables\n",
    "vif = df.copy()\n",
    "vif.drop(columns='HeartDisease',axis=1,inplace=True)\n",
    "vif_data = pd.DataFrame()\n",
    "vif_data[\"feature\"] = vif.columns\n",
    "vif_data[\"VIF\"] = [variance_inflation_factor(vif.values, i)\n",
    "                          for i in range(len(vif.columns))]\n"
   ]
  },
  {
   "cell_type": "code",
   "execution_count": 26,
   "id": "fc6ee53f",
   "metadata": {
    "execution": {
     "iopub.execute_input": "2021-12-08T16:20:17.772404Z",
     "iopub.status.busy": "2021-12-08T16:20:17.771338Z",
     "iopub.status.idle": "2021-12-08T16:20:17.778148Z",
     "shell.execute_reply": "2021-12-08T16:20:17.778643Z",
     "shell.execute_reply.started": "2021-12-08T16:13:56.519959Z"
    },
    "id": "Rx25sAkojiP7",
    "outputId": "33ba77e5-c8fa-494e-a9c8-06a7ea315298",
    "papermill": {
     "duration": 0.074793,
     "end_time": "2021-12-08T16:20:17.778830",
     "exception": false,
     "start_time": "2021-12-08T16:20:17.704037",
     "status": "completed"
    },
    "tags": []
   },
   "outputs": [
    {
     "data": {
      "text/html": [
       "<div>\n",
       "<style scoped>\n",
       "    .dataframe tbody tr th:only-of-type {\n",
       "        vertical-align: middle;\n",
       "    }\n",
       "\n",
       "    .dataframe tbody tr th {\n",
       "        vertical-align: top;\n",
       "    }\n",
       "\n",
       "    .dataframe thead th {\n",
       "        text-align: right;\n",
       "    }\n",
       "</style>\n",
       "<table border=\"1\" class=\"dataframe\">\n",
       "  <thead>\n",
       "    <tr style=\"text-align: right;\">\n",
       "      <th></th>\n",
       "      <th>feature</th>\n",
       "      <th>VIF</th>\n",
       "    </tr>\n",
       "  </thead>\n",
       "  <tbody>\n",
       "    <tr>\n",
       "      <th>0</th>\n",
       "      <td>Age</td>\n",
       "      <td>33.387612</td>\n",
       "    </tr>\n",
       "    <tr>\n",
       "      <th>1</th>\n",
       "      <td>RestingBP</td>\n",
       "      <td>53.889014</td>\n",
       "    </tr>\n",
       "    <tr>\n",
       "      <th>2</th>\n",
       "      <td>Cholesterol</td>\n",
       "      <td>23.587329</td>\n",
       "    </tr>\n",
       "    <tr>\n",
       "      <th>3</th>\n",
       "      <td>FastingBS</td>\n",
       "      <td>1.431929</td>\n",
       "    </tr>\n",
       "    <tr>\n",
       "      <th>4</th>\n",
       "      <td>MaxHR</td>\n",
       "      <td>27.855792</td>\n",
       "    </tr>\n",
       "    <tr>\n",
       "      <th>5</th>\n",
       "      <td>Oldpeak</td>\n",
       "      <td>2.569567</td>\n",
       "    </tr>\n",
       "    <tr>\n",
       "      <th>6</th>\n",
       "      <td>ChestPainType_ATA</td>\n",
       "      <td>1.841542</td>\n",
       "    </tr>\n",
       "    <tr>\n",
       "      <th>7</th>\n",
       "      <td>ChestPainType_NAP</td>\n",
       "      <td>1.626664</td>\n",
       "    </tr>\n",
       "    <tr>\n",
       "      <th>8</th>\n",
       "      <td>ChestPainType_TA</td>\n",
       "      <td>1.184258</td>\n",
       "    </tr>\n",
       "    <tr>\n",
       "      <th>9</th>\n",
       "      <td>Sex_M</td>\n",
       "      <td>4.895356</td>\n",
       "    </tr>\n",
       "    <tr>\n",
       "      <th>10</th>\n",
       "      <td>RestingECG_Normal</td>\n",
       "      <td>3.820894</td>\n",
       "    </tr>\n",
       "    <tr>\n",
       "      <th>11</th>\n",
       "      <td>RestingECG_ST</td>\n",
       "      <td>1.977411</td>\n",
       "    </tr>\n",
       "    <tr>\n",
       "      <th>12</th>\n",
       "      <td>ExerciseAngina_Y</td>\n",
       "      <td>2.634832</td>\n",
       "    </tr>\n",
       "    <tr>\n",
       "      <th>13</th>\n",
       "      <td>ST_Slope_Flat</td>\n",
       "      <td>8.388073</td>\n",
       "    </tr>\n",
       "    <tr>\n",
       "      <th>14</th>\n",
       "      <td>ST_Slope_Up</td>\n",
       "      <td>9.226993</td>\n",
       "    </tr>\n",
       "  </tbody>\n",
       "</table>\n",
       "</div>"
      ],
      "text/plain": [
       "              feature        VIF\n",
       "0                 Age  33.387612\n",
       "1           RestingBP  53.889014\n",
       "2         Cholesterol  23.587329\n",
       "3           FastingBS   1.431929\n",
       "4               MaxHR  27.855792\n",
       "5             Oldpeak   2.569567\n",
       "6   ChestPainType_ATA   1.841542\n",
       "7   ChestPainType_NAP   1.626664\n",
       "8    ChestPainType_TA   1.184258\n",
       "9               Sex_M   4.895356\n",
       "10  RestingECG_Normal   3.820894\n",
       "11      RestingECG_ST   1.977411\n",
       "12   ExerciseAngina_Y   2.634832\n",
       "13      ST_Slope_Flat   8.388073\n",
       "14        ST_Slope_Up   9.226993"
      ]
     },
     "execution_count": 26,
     "metadata": {},
     "output_type": "execute_result"
    }
   ],
   "source": [
    "vif_data # Standard practice is to deal with variables with VIF >= 10"
   ]
  },
  {
   "cell_type": "code",
   "execution_count": 27,
   "id": "af7b5443",
   "metadata": {
    "execution": {
     "iopub.execute_input": "2021-12-08T16:20:17.903690Z",
     "iopub.status.busy": "2021-12-08T16:20:17.903044Z",
     "iopub.status.idle": "2021-12-08T16:20:17.914093Z",
     "shell.execute_reply": "2021-12-08T16:20:17.914691Z",
     "shell.execute_reply.started": "2021-12-08T16:13:56.736346Z"
    },
    "id": "TLkpJfLLqrQY",
    "outputId": "f8d6c2dd-8405-4aac-a124-d25833352392",
    "papermill": {
     "duration": 0.074014,
     "end_time": "2021-12-08T16:20:17.914865",
     "exception": false,
     "start_time": "2021-12-08T16:20:17.840851",
     "status": "completed"
    },
    "tags": []
   },
   "outputs": [
    {
     "data": {
      "text/plain": [
       "array([[-1.43497494,  0.41135011,  0.90884654, ..., -0.82435309,\n",
       "        -0.99780942,  1.14405453],\n",
       "       [-0.47964407,  1.52654424, -1.2497362 , ..., -0.82435309,\n",
       "         1.00219539, -0.87408421],\n",
       "       [-1.75341857, -0.14624695,  0.79002547, ..., -0.82435309,\n",
       "        -0.99780942,  1.14405453],\n",
       "       ...,\n",
       "       [ 0.36953893, -0.14624695, -2.22010825, ...,  1.21307243,\n",
       "         1.00219539, -0.87408421],\n",
       "       [ 0.36953893, -0.14624695, -0.14073956, ..., -0.82435309,\n",
       "         1.00219539, -0.87408421],\n",
       "       [-1.64727069,  0.2998307 , -1.34875375, ..., -0.82435309,\n",
       "        -0.99780942,  1.14405453]])"
      ]
     },
     "execution_count": 27,
     "metadata": {},
     "output_type": "execute_result"
    }
   ],
   "source": [
    "# Scale Data For Higher Efficiency\n",
    "\n",
    "from sklearn.preprocessing import StandardScaler # Converts Columnar Data into Standard Normal Distribution\n",
    "scaler=StandardScaler()\n",
    "scaler.fit(vif)\n",
    "scaled_data=scaler.transform(vif)\n",
    "scaled_data\n",
    "\n"
   ]
  },
  {
   "cell_type": "code",
   "execution_count": 28,
   "id": "7032e26e",
   "metadata": {
    "execution": {
     "iopub.execute_input": "2021-12-08T16:20:18.044004Z",
     "iopub.status.busy": "2021-12-08T16:20:18.043307Z",
     "iopub.status.idle": "2021-12-08T16:20:18.065671Z",
     "shell.execute_reply": "2021-12-08T16:20:18.066711Z",
     "shell.execute_reply.started": "2021-12-08T16:13:57.544211Z"
    },
    "id": "N7HMXRM4Epwc",
    "outputId": "6e1b80c7-90d9-43f0-eedf-ac9d0bfa607b",
    "papermill": {
     "duration": 0.091711,
     "end_time": "2021-12-08T16:20:18.067005",
     "exception": false,
     "start_time": "2021-12-08T16:20:17.975294",
     "status": "completed"
    },
    "tags": []
   },
   "outputs": [
    {
     "data": {
      "text/plain": [
       "array([[ 2.96196536, -0.32607017,  1.65159492, ..., -0.48242366,\n",
       "        -0.96897897, -0.29772444],\n",
       "       [ 0.284037  , -1.05263117, -1.10757972, ..., -1.99653336,\n",
       "        -0.69976878,  0.44105539],\n",
       "       [ 1.5284447 ,  2.19764344,  1.21517963, ...,  0.81540077,\n",
       "        -1.25161928,  0.37361669],\n",
       "       ...,\n",
       "       [-1.51604508, -1.64883654, -0.71441383, ..., -0.5043577 ,\n",
       "         0.13243627,  0.33962526],\n",
       "       [ 1.01169527,  0.3660804 ,  1.5499496 , ..., -1.26051025,\n",
       "        -0.1881711 , -1.24151054],\n",
       "       [ 2.67043799, -0.61322532, -2.16689401, ..., -0.922637  ,\n",
       "        -0.80415661,  0.55521724]])"
      ]
     },
     "execution_count": 28,
     "metadata": {},
     "output_type": "execute_result"
    }
   ],
   "source": [
    "from sklearn.decomposition import PCA # Reduce Dimensions by Principal Component Analysis To Compensate for Variables with High VIF\n",
    "pca=PCA(n_components=11)\n",
    "pca.fit(scaled_data)\n",
    "x_pca=pca.transform(scaled_data)\n",
    "x_pca"
   ]
  },
  {
   "cell_type": "markdown",
   "id": "c57efea5",
   "metadata": {
    "id": "b_OJaY2Tz3Y8",
    "papermill": {
     "duration": 0.060682,
     "end_time": "2021-12-08T16:20:18.238982",
     "exception": false,
     "start_time": "2021-12-08T16:20:18.178300",
     "status": "completed"
    },
    "tags": []
   },
   "source": []
  },
  {
   "cell_type": "markdown",
   "id": "44575a9f",
   "metadata": {
    "id": "zeUTVOfry-2Z",
    "papermill": {
     "duration": 0.065589,
     "end_time": "2021-12-08T16:20:18.365132",
     "exception": false,
     "start_time": "2021-12-08T16:20:18.299543",
     "status": "completed"
    },
    "tags": []
   },
   "source": [
    "**6. Final Model and Algorithms Used**"
   ]
  },
  {
   "cell_type": "code",
   "execution_count": 29,
   "id": "1847e7a2",
   "metadata": {
    "execution": {
     "iopub.execute_input": "2021-12-08T16:20:18.493389Z",
     "iopub.status.busy": "2021-12-08T16:20:18.492313Z",
     "iopub.status.idle": "2021-12-08T16:20:18.496302Z",
     "shell.execute_reply": "2021-12-08T16:20:18.496854Z",
     "shell.execute_reply.started": "2021-12-08T16:14:00.519902Z"
    },
    "id": "-ljh9Ef7FHb9",
    "papermill": {
     "duration": 0.070812,
     "end_time": "2021-12-08T16:20:18.497033",
     "exception": false,
     "start_time": "2021-12-08T16:20:18.426221",
     "status": "completed"
    },
    "tags": []
   },
   "outputs": [],
   "source": [
    "from sklearn.model_selection import train_test_split\n",
    "x_train, x_test, y_train, y_test = train_test_split(x_pca, df['HeartDisease'], test_size=0.25, random_state=0)"
   ]
  },
  {
   "cell_type": "markdown",
   "id": "875657c4",
   "metadata": {
    "id": "lpt7MCXvzNLX",
    "papermill": {
     "duration": 0.063077,
     "end_time": "2021-12-08T16:20:18.621521",
     "exception": false,
     "start_time": "2021-12-08T16:20:18.558444",
     "status": "completed"
    },
    "tags": []
   },
   "source": [
    "6.1 Support Vector Machine (Radial Basis Function Kernel)"
   ]
  },
  {
   "cell_type": "code",
   "execution_count": 30,
   "id": "f94de5fb",
   "metadata": {
    "execution": {
     "iopub.execute_input": "2021-12-08T16:20:18.746599Z",
     "iopub.status.busy": "2021-12-08T16:20:18.745885Z",
     "iopub.status.idle": "2021-12-08T16:20:18.767537Z",
     "shell.execute_reply": "2021-12-08T16:20:18.768100Z",
     "shell.execute_reply.started": "2021-12-08T16:14:02.863991Z"
    },
    "id": "srJ-bUkOFKMS",
    "papermill": {
     "duration": 0.085441,
     "end_time": "2021-12-08T16:20:18.768278",
     "exception": false,
     "start_time": "2021-12-08T16:20:18.682837",
     "status": "completed"
    },
    "tags": []
   },
   "outputs": [],
   "source": [
    "from sklearn.svm import SVC\n",
    "classifier = SVC(kernel='rbf', random_state=0)\n",
    "classifier.fit(x_train, y_train)\n",
    "y_pred = classifier.predict(x_test)"
   ]
  },
  {
   "cell_type": "code",
   "execution_count": 31,
   "id": "bf0f1f5d",
   "metadata": {
    "execution": {
     "iopub.execute_input": "2021-12-08T16:20:18.920658Z",
     "iopub.status.busy": "2021-12-08T16:20:18.919970Z",
     "iopub.status.idle": "2021-12-08T16:20:19.167582Z",
     "shell.execute_reply": "2021-12-08T16:20:19.168141Z",
     "shell.execute_reply.started": "2021-12-08T16:14:03.376440Z"
    },
    "id": "gKP-qpfDF9VV",
    "outputId": "8b5c8dfe-3185-41ea-8dde-14cf724f47cc",
    "papermill": {
     "duration": 0.331256,
     "end_time": "2021-12-08T16:20:19.168334",
     "exception": false,
     "start_time": "2021-12-08T16:20:18.837078",
     "status": "completed"
    },
    "tags": []
   },
   "outputs": [
    {
     "name": "stdout",
     "output_type": "stream",
     "text": [
      "              precision    recall  f1-score   support\n",
      "\n",
      "           0       0.82      0.90      0.86        92\n",
      "           1       0.93      0.87      0.90       136\n",
      "\n",
      "    accuracy                           0.88       228\n",
      "   macro avg       0.88      0.88      0.88       228\n",
      "weighted avg       0.89      0.88      0.88       228\n",
      "\n",
      "\n",
      "------------------------\n",
      "Confusion Matrix\n",
      "------------------------\n",
      "\n",
      "[[ 83   9]\n",
      " [ 18 118]]\n"
     ]
    },
    {
     "data": {
      "image/png": "[encoded data removed]",
      "text/plain": [
       "<Figure size 576x396 with 2 Axes>"
      ]
     },
     "metadata": {},
     "output_type": "display_data"
    }
   ],
   "source": [
    "from sklearn.metrics import classification_report\n",
    "import warnings\n",
    "warnings.filterwarnings(\"ignore\")\n",
    "print(classification_report(y_test, y_pred))\n",
    "print('')\n",
    "print('------------------------')\n",
    "print('Confusion Matrix')\n",
    "print('------------------------')\n",
    "print('')\n",
    "from sklearn.metrics import confusion_matrix\n",
    "from sklearn.metrics import plot_confusion_matrix\n",
    "print(confusion_matrix(y_test, y_pred))\n",
    "plot_confusion_matrix(classifier, x_test, y_test,cmap=\"binary\") \n",
    "plt.grid(False)\n",
    "plt.show()"
   ]
  },
  {
   "cell_type": "markdown",
   "id": "efb441a5",
   "metadata": {
    "id": "Fg0iJsht0OX2",
    "papermill": {
     "duration": 0.061489,
     "end_time": "2021-12-08T16:20:19.291360",
     "exception": false,
     "start_time": "2021-12-08T16:20:19.229871",
     "status": "completed"
    },
    "tags": []
   },
   "source": [
    "6.2 Logistic Regression Function"
   ]
  },
  {
   "cell_type": "code",
   "execution_count": 32,
   "id": "2b1cb98b",
   "metadata": {
    "execution": {
     "iopub.execute_input": "2021-12-08T16:20:19.418883Z",
     "iopub.status.busy": "2021-12-08T16:20:19.417829Z",
     "iopub.status.idle": "2021-12-08T16:20:19.436986Z",
     "shell.execute_reply": "2021-12-08T16:20:19.437512Z",
     "shell.execute_reply.started": "2021-12-08T16:14:33.569408Z"
    },
    "id": "wHli9reNGOOx",
    "outputId": "799ad4aa-745c-45f1-fa8f-3302a39b1123",
    "papermill": {
     "duration": 0.084523,
     "end_time": "2021-12-08T16:20:19.437709",
     "exception": false,
     "start_time": "2021-12-08T16:20:19.353186",
     "status": "completed"
    },
    "tags": []
   },
   "outputs": [
    {
     "name": "stdout",
     "output_type": "stream",
     "text": [
      "Accuracy of logistic regression classifier on test set: 0.89\n",
      "\n",
      "              precision    recall  f1-score   support\n",
      "\n",
      "           0       0.82      0.90      0.86        92\n",
      "           1       0.93      0.87      0.90       136\n",
      "\n",
      "    accuracy                           0.88       228\n",
      "   macro avg       0.88      0.88      0.88       228\n",
      "weighted avg       0.89      0.88      0.88       228\n",
      "\n",
      "[[ 83   9]\n",
      " [ 18 118]]\n"
     ]
    }
   ],
   "source": [
    "logreg = LogisticRegression()\n",
    "logreg.fit(x_train, y_train)\n",
    "print('Accuracy of logistic regression classifier on test set: {:.2f}'.format(logreg.score(x_test, y_test)))\n",
    "print('')\n",
    "print(classification_report(y_test, y_pred))\n",
    "print(confusion_matrix(y_test, y_pred))\n"
   ]
  },
  {
   "cell_type": "markdown",
   "id": "213165b1",
   "metadata": {
    "id": "5Gj0WpAk0T6P",
    "papermill": {
     "duration": 0.064097,
     "end_time": "2021-12-08T16:20:19.563799",
     "exception": false,
     "start_time": "2021-12-08T16:20:19.499702",
     "status": "completed"
    },
    "tags": []
   },
   "source": [
    "6.3 Random Forest Classifier"
   ]
  },
  {
   "cell_type": "code",
   "execution_count": 33,
   "id": "8e6c8944",
   "metadata": {
    "execution": {
     "iopub.execute_input": "2021-12-08T16:20:19.698912Z",
     "iopub.status.busy": "2021-12-08T16:20:19.698188Z",
     "iopub.status.idle": "2021-12-08T16:20:19.700099Z",
     "shell.execute_reply": "2021-12-08T16:20:19.700773Z",
     "shell.execute_reply.started": "2021-12-08T16:14:38.235802Z"
    },
    "id": "vBFI7BsYGWuD",
    "outputId": "decdf52c-50df-4508-867a-d40df3d8186f",
    "papermill": {
     "duration": 0.074996,
     "end_time": "2021-12-08T16:20:19.701010",
     "exception": false,
     "start_time": "2021-12-08T16:20:19.626014",
     "status": "completed"
    },
    "tags": []
   },
   "outputs": [],
   "source": [
    "from sklearn.model_selection import RandomizedSearchCV\n",
    "# Number of trees in random forest\n",
    "n_estimators = [int(x) for x in np.linspace(start = 103, stop = 300, num = 10)]\n",
    "# Number of features to consider at every split\n",
    "max_features = ['auto', 'sqrt']\n",
    "# Maximum number of levels in tree\n",
    "max_depth = [int(x) for x in np.linspace(10, 110, num = 11)]\n",
    "max_depth.append(None)\n",
    "# Minimum number of samples required to split a node\n",
    "min_samples_split = [2, 5, 10]\n",
    "# Minimum number of samples required at each leaf node\n",
    "min_samples_leaf = [1, 2, 4]\n",
    "# Method of selecting samples for training each tree\n",
    "bootstrap = [True, False]\n",
    "# Create the random grid\n",
    "random_grid = {'n_estimators': n_estimators,\n",
    "               'max_features': max_features,\n",
    "               'max_depth': max_depth,\n",
    "               'min_samples_split': min_samples_split,\n",
    "               'min_samples_leaf': min_samples_leaf,\n",
    "               'bootstrap': bootstrap}"
   ]
  },
  {
   "cell_type": "code",
   "execution_count": 34,
   "id": "babbf0ff",
   "metadata": {
    "execution": {
     "iopub.execute_input": "2021-12-08T16:20:19.832169Z",
     "iopub.status.busy": "2021-12-08T16:20:19.831507Z",
     "iopub.status.idle": "2021-12-08T16:21:21.401903Z",
     "shell.execute_reply": "2021-12-08T16:21:21.401232Z",
     "shell.execute_reply.started": "2021-12-08T16:15:19.361698Z"
    },
    "papermill": {
     "duration": 61.63742,
     "end_time": "2021-12-08T16:21:21.402070",
     "exception": false,
     "start_time": "2021-12-08T16:20:19.764650",
     "status": "completed"
    },
    "tags": []
   },
   "outputs": [
    {
     "name": "stdout",
     "output_type": "stream",
     "text": [
      "Fitting 3 folds for each of 100 candidates, totalling 300 fits\n"
     ]
    },
    {
     "name": "stderr",
     "output_type": "stream",
     "text": [
      "[Parallel(n_jobs=-1)]: Using backend LokyBackend with 4 concurrent workers.\n",
      "[Parallel(n_jobs=-1)]: Done  33 tasks      | elapsed:    9.3s\n"
     ]
    },
    {
     "name": "stdout",
     "output_type": "stream",
     "text": [
      "[CV] n_estimators=124, min_samples_split=5, min_samples_leaf=1, max_features=sqrt, max_depth=30, bootstrap=True \n",
      "[CV]  n_estimators=124, min_samples_split=5, min_samples_leaf=1, max_features=sqrt, max_depth=30, bootstrap=True, total=   0.5s\n",
      "[CV] n_estimators=212, min_samples_split=5, min_samples_leaf=2, max_features=sqrt, max_depth=10, bootstrap=False \n",
      "[CV]  n_estimators=212, min_samples_split=5, min_samples_leaf=2, max_features=sqrt, max_depth=10, bootstrap=False, total=   0.8s\n",
      "[CV] n_estimators=212, min_samples_split=5, min_samples_leaf=2, max_features=sqrt, max_depth=10, bootstrap=False \n",
      "[CV]  n_estimators=212, min_samples_split=5, min_samples_leaf=2, max_features=sqrt, max_depth=10, bootstrap=False, total=   0.8s\n",
      "[CV] n_estimators=256, min_samples_split=2, min_samples_leaf=4, max_features=sqrt, max_depth=10, bootstrap=True \n",
      "[CV]  n_estimators=256, min_samples_split=2, min_samples_leaf=4, max_features=sqrt, max_depth=10, bootstrap=True, total=   1.0s\n",
      "[CV] n_estimators=168, min_samples_split=5, min_samples_leaf=4, max_features=sqrt, max_depth=30, bootstrap=False \n",
      "[CV]  n_estimators=168, min_samples_split=5, min_samples_leaf=4, max_features=sqrt, max_depth=30, bootstrap=False, total=   0.6s\n",
      "[CV] n_estimators=168, min_samples_split=5, min_samples_leaf=4, max_features=sqrt, max_depth=30, bootstrap=False \n",
      "[CV]  n_estimators=168, min_samples_split=5, min_samples_leaf=4, max_features=sqrt, max_depth=30, bootstrap=False, total=   0.6s\n",
      "[CV] n_estimators=146, min_samples_split=5, min_samples_leaf=1, max_features=sqrt, max_depth=60, bootstrap=False \n",
      "[CV]  n_estimators=146, min_samples_split=5, min_samples_leaf=1, max_features=sqrt, max_depth=60, bootstrap=False, total=   0.6s\n",
      "[CV] n_estimators=190, min_samples_split=2, min_samples_leaf=1, max_features=auto, max_depth=50, bootstrap=False \n",
      "[CV]  n_estimators=190, min_samples_split=2, min_samples_leaf=1, max_features=auto, max_depth=50, bootstrap=False, total=   0.8s\n",
      "[CV] n_estimators=278, min_samples_split=5, min_samples_leaf=4, max_features=auto, max_depth=10, bootstrap=False \n",
      "[CV]  n_estimators=278, min_samples_split=5, min_samples_leaf=4, max_features=auto, max_depth=10, bootstrap=False, total=   1.0s\n",
      "[CV] n_estimators=168, min_samples_split=5, min_samples_leaf=1, max_features=sqrt, max_depth=90, bootstrap=False \n",
      "[CV]  n_estimators=168, min_samples_split=5, min_samples_leaf=1, max_features=sqrt, max_depth=90, bootstrap=False, total=   0.6s\n",
      "[CV] n_estimators=256, min_samples_split=5, min_samples_leaf=2, max_features=sqrt, max_depth=10, bootstrap=False \n",
      "[CV]  n_estimators=256, min_samples_split=5, min_samples_leaf=2, max_features=sqrt, max_depth=10, bootstrap=False, total=   1.0s\n",
      "[CV] n_estimators=168, min_samples_split=10, min_samples_leaf=2, max_features=sqrt, max_depth=30, bootstrap=False \n",
      "[CV]  n_estimators=168, min_samples_split=10, min_samples_leaf=2, max_features=sqrt, max_depth=30, bootstrap=False, total=   0.6s\n",
      "[CV] n_estimators=278, min_samples_split=2, min_samples_leaf=4, max_features=auto, max_depth=50, bootstrap=False \n",
      "[CV]  n_estimators=278, min_samples_split=2, min_samples_leaf=4, max_features=auto, max_depth=50, bootstrap=False, total=   1.0s\n",
      "[CV] n_estimators=146, min_samples_split=5, min_samples_leaf=2, max_features=auto, max_depth=70, bootstrap=False \n",
      "[CV]  n_estimators=146, min_samples_split=5, min_samples_leaf=2, max_features=auto, max_depth=70, bootstrap=False, total=   0.5s\n",
      "[CV] n_estimators=190, min_samples_split=2, min_samples_leaf=1, max_features=sqrt, max_depth=20, bootstrap=True \n",
      "[CV]  n_estimators=190, min_samples_split=2, min_samples_leaf=1, max_features=sqrt, max_depth=20, bootstrap=True, total=   0.8s\n",
      "[CV] n_estimators=146, min_samples_split=5, min_samples_leaf=1, max_features=auto, max_depth=80, bootstrap=True \n",
      "[CV]  n_estimators=146, min_samples_split=5, min_samples_leaf=1, max_features=auto, max_depth=80, bootstrap=True, total=   0.6s\n",
      "[CV] n_estimators=278, min_samples_split=10, min_samples_leaf=1, max_features=sqrt, max_depth=30, bootstrap=False \n",
      "[CV]  n_estimators=278, min_samples_split=10, min_samples_leaf=1, max_features=sqrt, max_depth=30, bootstrap=False, total=   1.0s\n",
      "[CV] n_estimators=256, min_samples_split=5, min_samples_leaf=1, max_features=sqrt, max_depth=70, bootstrap=False \n",
      "[CV]  n_estimators=256, min_samples_split=5, min_samples_leaf=1, max_features=sqrt, max_depth=70, bootstrap=False, total=   1.0s\n",
      "[CV] n_estimators=234, min_samples_split=5, min_samples_leaf=4, max_features=sqrt, max_depth=80, bootstrap=True \n",
      "[CV]  n_estimators=234, min_samples_split=5, min_samples_leaf=4, max_features=sqrt, max_depth=80, bootstrap=True, total=   0.9s\n",
      "[CV] n_estimators=234, min_samples_split=5, min_samples_leaf=1, max_features=sqrt, max_depth=80, bootstrap=False \n",
      "[CV]  n_estimators=234, min_samples_split=5, min_samples_leaf=1, max_features=sqrt, max_depth=80, bootstrap=False, total=   1.0s\n",
      "[CV] n_estimators=124, min_samples_split=2, min_samples_leaf=1, max_features=sqrt, max_depth=None, bootstrap=False \n",
      "[CV]  n_estimators=124, min_samples_split=2, min_samples_leaf=1, max_features=sqrt, max_depth=None, bootstrap=False, total=   0.6s\n",
      "[CV] n_estimators=234, min_samples_split=2, min_samples_leaf=1, max_features=auto, max_depth=40, bootstrap=False \n",
      "[CV]  n_estimators=234, min_samples_split=2, min_samples_leaf=1, max_features=auto, max_depth=40, bootstrap=False, total=   0.9s\n",
      "[CV] n_estimators=190, min_samples_split=5, min_samples_leaf=2, max_features=sqrt, max_depth=20, bootstrap=True \n",
      "[CV]  n_estimators=190, min_samples_split=5, min_samples_leaf=2, max_features=sqrt, max_depth=20, bootstrap=True, total=   0.7s\n",
      "[CV] n_estimators=212, min_samples_split=2, min_samples_leaf=2, max_features=sqrt, max_depth=20, bootstrap=True \n",
      "[CV]  n_estimators=212, min_samples_split=2, min_samples_leaf=2, max_features=sqrt, max_depth=20, bootstrap=True, total=   0.8s\n",
      "[CV] n_estimators=212, min_samples_split=10, min_samples_leaf=4, max_features=sqrt, max_depth=20, bootstrap=False \n",
      "[CV]  n_estimators=212, min_samples_split=10, min_samples_leaf=4, max_features=sqrt, max_depth=20, bootstrap=False, total=   0.7s\n",
      "[CV] n_estimators=168, min_samples_split=2, min_samples_leaf=2, max_features=sqrt, max_depth=50, bootstrap=False \n",
      "[CV]  n_estimators=168, min_samples_split=2, min_samples_leaf=2, max_features=sqrt, max_depth=50, bootstrap=False, total=   0.6s\n",
      "[CV] n_estimators=168, min_samples_split=5, min_samples_leaf=1, max_features=sqrt, max_depth=100, bootstrap=False \n",
      "[CV]  n_estimators=168, min_samples_split=5, min_samples_leaf=1, max_features=sqrt, max_depth=100, bootstrap=False, total=   0.6s\n",
      "[CV] n_estimators=278, min_samples_split=2, min_samples_leaf=4, max_features=sqrt, max_depth=90, bootstrap=True \n",
      "[CV]  n_estimators=278, min_samples_split=2, min_samples_leaf=4, max_features=sqrt, max_depth=90, bootstrap=True, total=   1.1s\n",
      "[CV] n_estimators=168, min_samples_split=10, min_samples_leaf=2, max_features=sqrt, max_depth=20, bootstrap=False \n",
      "[CV]  n_estimators=168, min_samples_split=10, min_samples_leaf=2, max_features=sqrt, max_depth=20, bootstrap=False, total=   0.6s\n",
      "[CV] n_estimators=168, min_samples_split=2, min_samples_leaf=1, max_features=auto, max_depth=100, bootstrap=True \n",
      "[CV]  n_estimators=168, min_samples_split=2, min_samples_leaf=1, max_features=auto, max_depth=100, bootstrap=True, total=   0.7s\n",
      "[CV] n_estimators=168, min_samples_split=5, min_samples_leaf=2, max_features=auto, max_depth=None, bootstrap=True \n",
      "[CV]  n_estimators=168, min_samples_split=5, min_samples_leaf=2, max_features=auto, max_depth=None, bootstrap=True, total=   0.7s\n",
      "[CV] n_estimators=190, min_samples_split=2, min_samples_leaf=2, max_features=sqrt, max_depth=60, bootstrap=True \n",
      "[CV]  n_estimators=190, min_samples_split=2, min_samples_leaf=2, max_features=sqrt, max_depth=60, bootstrap=True, total=   0.7s\n",
      "[CV] n_estimators=146, min_samples_split=10, min_samples_leaf=2, max_features=sqrt, max_depth=60, bootstrap=True \n",
      "[CV]  n_estimators=146, min_samples_split=10, min_samples_leaf=2, max_features=sqrt, max_depth=60, bootstrap=True, total=   0.6s\n",
      "[CV] n_estimators=168, min_samples_split=2, min_samples_leaf=4, max_features=sqrt, max_depth=90, bootstrap=True \n",
      "[CV]  n_estimators=168, min_samples_split=2, min_samples_leaf=4, max_features=sqrt, max_depth=90, bootstrap=True, total=   0.6s[CV] n_estimators=124, min_samples_split=5, min_samples_leaf=1, max_features=sqrt, max_depth=30, bootstrap=True \n",
      "[CV]  n_estimators=124, min_samples_split=5, min_samples_leaf=1, max_features=sqrt, max_depth=30, bootstrap=True, total=   0.5s\n",
      "[CV] n_estimators=300, min_samples_split=5, min_samples_leaf=1, max_features=sqrt, max_depth=10, bootstrap=True \n",
      "[CV]  n_estimators=300, min_samples_split=5, min_samples_leaf=1, max_features=sqrt, max_depth=10, bootstrap=True, total=   1.2s\n",
      "[CV] n_estimators=300, min_samples_split=2, min_samples_leaf=4, max_features=auto, max_depth=30, bootstrap=False \n",
      "[CV]  n_estimators=300, min_samples_split=2, min_samples_leaf=4, max_features=auto, max_depth=30, bootstrap=False, total=   1.1s\n",
      "[CV] n_estimators=256, min_samples_split=2, min_samples_leaf=4, max_features=sqrt, max_depth=10, bootstrap=True \n",
      "[CV]  n_estimators=256, min_samples_split=2, min_samples_leaf=4, max_features=sqrt, max_depth=10, bootstrap=True, total=   1.0s\n",
      "[CV] n_estimators=190, min_samples_split=5, min_samples_leaf=2, max_features=sqrt, max_depth=100, bootstrap=False \n",
      "[CV]  n_estimators=190, min_samples_split=5, min_samples_leaf=2, max_features=sqrt, max_depth=100, bootstrap=False, total=   0.7s\n",
      "[CV] n_estimators=146, min_samples_split=5, min_samples_leaf=1, max_features=sqrt, max_depth=60, bootstrap=False \n",
      "[CV]  n_estimators=146, min_samples_split=5, min_samples_leaf=1, max_features=sqrt, max_depth=60, bootstrap=False, total=   0.6s\n",
      "[CV] n_estimators=278, min_samples_split=5, min_samples_leaf=4, max_features=auto, max_depth=10, bootstrap=False \n",
      "[CV]  n_estimators=278, min_samples_split=5, min_samples_leaf=4, max_features=auto, max_depth=10, bootstrap=False, total=   1.0s\n",
      "[CV] n_estimators=124, min_samples_split=10, min_samples_leaf=4, max_features=auto, max_depth=70, bootstrap=True \n",
      "[CV]  n_estimators=124, min_samples_split=10, min_samples_leaf=4, max_features=auto, max_depth=70, bootstrap=True, total=   0.5s\n",
      "[CV] n_estimators=168, min_samples_split=5, min_samples_leaf=1, max_features=sqrt, max_depth=90, bootstrap=False \n",
      "[CV]  n_estimators=168, min_samples_split=5, min_samples_leaf=1, max_features=sqrt, max_depth=90, bootstrap=False, total=   0.6s\n",
      "[CV] n_estimators=300, min_samples_split=10, min_samples_leaf=1, max_features=sqrt, max_depth=10, bootstrap=False \n",
      "[CV]  n_estimators=300, min_samples_split=10, min_samples_leaf=1, max_features=sqrt, max_depth=10, bootstrap=False, total=   1.2s\n",
      "[CV] n_estimators=168, min_samples_split=10, min_samples_leaf=2, max_features=sqrt, max_depth=30, bootstrap=False \n",
      "[CV]  n_estimators=168, min_samples_split=10, min_samples_leaf=2, max_features=sqrt, max_depth=30, bootstrap=False, total=   0.6s\n",
      "[CV] n_estimators=278, min_samples_split=2, min_samples_leaf=4, max_features=auto, max_depth=50, bootstrap=False \n",
      "[CV]  n_estimators=278, min_samples_split=2, min_samples_leaf=4, max_features=auto, max_depth=50, bootstrap=False, total=   1.0s\n",
      "[CV] n_estimators=190, min_samples_split=2, min_samples_leaf=1, max_features=sqrt, max_depth=20, bootstrap=True \n",
      "[CV]  n_estimators=190, min_samples_split=2, min_samples_leaf=1, max_features=sqrt, max_depth=20, bootstrap=True, total=   0.8s\n",
      "[CV] n_estimators=278, min_samples_split=10, min_samples_leaf=2, max_features=auto, max_depth=110, bootstrap=False \n",
      "[CV]  n_estimators=278, min_samples_split=10, min_samples_leaf=2, max_features=auto, max_depth=110, bootstrap=False, total=   1.0s\n",
      "[CV] n_estimators=146, min_samples_split=5, min_samples_leaf=1, max_features=auto, max_depth=80, bootstrap=True \n",
      "[CV]  n_estimators=146, min_samples_split=5, min_samples_leaf=1, max_features=auto, max_depth=80, bootstrap=True, total=   0.6s\n",
      "[CV] n_estimators=256, min_samples_split=5, min_samples_leaf=1, max_features=sqrt, max_depth=70, bootstrap=False \n",
      "[CV]  n_estimators=256, min_samples_split=5, min_samples_leaf=1, max_features=sqrt, max_depth=70, bootstrap=False, total=   1.0s\n",
      "[CV] n_estimators=234, min_samples_split=5, min_samples_leaf=4, max_features=sqrt, max_depth=80, bootstrap=True \n",
      "[CV]  n_estimators=234, min_samples_split=5, min_samples_leaf=4, max_features=sqrt, max_depth=80, bootstrap=True, total=   0.9s\n",
      "[CV] n_estimators=278, min_samples_split=2, min_samples_leaf=2, max_features=auto, max_depth=None, bootstrap=True \n",
      "[CV]  n_estimators=278, min_samples_split=2, min_samples_leaf=2, max_features=auto, max_depth=None, bootstrap=True, total=   1.3s\n",
      "[CV] n_estimators=124, min_samples_split=2, min_samples_leaf=1, max_features=sqrt, max_depth=None, bootstrap=False \n",
      "[CV]  n_estimators=124, min_samples_split=2, min_samples_leaf=1, max_features=sqrt, max_depth=None, bootstrap=False, total=   0.5s\n",
      "[CV] n_estimators=124, min_samples_split=2, min_samples_leaf=1, max_features=sqrt, max_depth=None, bootstrap=False \n",
      "[CV]  n_estimators=124, min_samples_split=2, min_samples_leaf=1, max_features=sqrt, max_depth=None, bootstrap=False, total=   0.5s\n",
      "[CV] n_estimators=190, min_samples_split=5, min_samples_leaf=2, max_features=sqrt, max_depth=20, bootstrap=True \n",
      "[CV]  n_estimators=190, min_samples_split=5, min_samples_leaf=2, max_features=sqrt, max_depth=20, bootstrap=True, total=   0.7s\n",
      "[CV] n_estimators=300, min_samples_split=10, min_samples_leaf=4, max_features=auto, max_depth=100, bootstrap=False \n",
      "[CV]  n_estimators=300, min_samples_split=10, min_samples_leaf=4, max_features=auto, max_depth=100, bootstrap=False, total=   1.0s\n",
      "[CV] n_estimators=212, min_samples_split=2, min_samples_leaf=2, max_features=sqrt, max_depth=20, bootstrap=True \n",
      "[CV]  n_estimators=212, min_samples_split=2, min_samples_leaf=2, max_features=sqrt, max_depth=20, bootstrap=True, total=   0.8s\n",
      "[CV] n_estimators=212, min_samples_split=10, min_samples_leaf=4, max_features=sqrt, max_depth=20, bootstrap=False \n",
      "[CV]  n_estimators=212, min_samples_split=10, min_samples_leaf=4, max_features=sqrt, max_depth=20, bootstrap=False, total=   0.7s\n",
      "[CV] n_estimators=168, min_samples_split=5, min_samples_leaf=1, max_features=sqrt, max_depth=100, bootstrap=False \n",
      "[CV]  n_estimators=168, min_samples_split=5, min_samples_leaf=1, max_features=sqrt, max_depth=100, bootstrap=False, total=   0.6s\n",
      "[CV] n_estimators=168, min_samples_split=10, min_samples_leaf=4, max_features=sqrt, max_depth=50, bootstrap=True \n",
      "[CV]  n_estimators=168, min_samples_split=10, min_samples_leaf=4, max_features=sqrt, max_depth=50, bootstrap=True, total=   0.6s\n",
      "[CV] n_estimators=168, min_samples_split=10, min_samples_leaf=2, max_features=sqrt, max_depth=20, bootstrap=False \n",
      "[CV]  n_estimators=168, min_samples_split=10, min_samples_leaf=2, max_features=sqrt, max_depth=20, bootstrap=False, total=   0.6s\n",
      "[CV] n_estimators=168, min_samples_split=10, min_samples_leaf=2, max_features=sqrt, max_depth=20, bootstrap=False \n",
      "[CV]  n_estimators=168, min_samples_split=10, min_samples_leaf=2, max_features=sqrt, max_depth=20, bootstrap=False, total=   0.6s\n",
      "[CV] n_estimators=212, min_samples_split=5, min_samples_leaf=2, max_features=sqrt, max_depth=20, bootstrap=True \n",
      "[CV]  n_estimators=212, min_samples_split=5, min_samples_leaf=2, max_features=sqrt, max_depth=20, bootstrap=True, total=   0.8s\n",
      "[CV] n_estimators=168, min_samples_split=5, min_samples_leaf=2, max_features=auto, max_depth=None, bootstrap=True \n",
      "[CV]  n_estimators=168, min_samples_split=5, min_samples_leaf=2, max_features=auto, max_depth=None, bootstrap=True, total=   0.6s\n",
      "[CV] n_estimators=190, min_samples_split=2, min_samples_leaf=2, max_features=sqrt, max_depth=60, bootstrap=True \n",
      "[CV]  n_estimators=190, min_samples_split=2, min_samples_leaf=2, max_features=sqrt, max_depth=60, bootstrap=True, total=   0.7s\n",
      "[CV] n_estimators=146, min_samples_split=10, min_samples_leaf=2, max_features=sqrt, max_depth=60, bootstrap=True \n",
      "[CV]  n_estimators=146, min_samples_split=10, min_samples_leaf=2, max_features=sqrt, max_depth=60, bootstrap=True, total=   0.5s\n",
      "[CV] n_estimators=168, min_samples_split=2, min_samples_leaf=4, max_features=sqrt, max_depth=90, bootstrap=True \n",
      "[CV]  n_estimators=168, min_samples_split=2, min_samples_leaf=4, max_features=sqrt, max_depth=90, bootstrap=True, total=   0.6s\n",
      "[CV] n_estimators=103, min_samples_split=5, min_samples_leaf=2, max_features=auto, max_depth=90, bootstrap=False \n",
      "[CV]  n_estimators=103, min_samples_split=5, min_samples_leaf=2, max_features=auto, max_depth=90, bootstrap=False, total=   0.4s[CV] n_estimators=124, min_samples_split=5, min_samples_leaf=1, max_features=sqrt, max_depth=30, bootstrap=True \n",
      "[CV]  n_estimators=124, min_samples_split=5, min_samples_leaf=1, max_features=sqrt, max_depth=30, bootstrap=True, total=   0.5s\n",
      "[CV] n_estimators=300, min_samples_split=5, min_samples_leaf=1, max_features=sqrt, max_depth=10, bootstrap=True \n",
      "[CV]  n_estimators=300, min_samples_split=5, min_samples_leaf=1, max_features=sqrt, max_depth=10, bootstrap=True, total=   1.2s\n",
      "[CV] n_estimators=300, min_samples_split=2, min_samples_leaf=4, max_features=auto, max_depth=30, bootstrap=False \n",
      "[CV]  n_estimators=300, min_samples_split=2, min_samples_leaf=4, max_features=auto, max_depth=30, bootstrap=False, total=   1.1s\n",
      "[CV] n_estimators=256, min_samples_split=2, min_samples_leaf=4, max_features=sqrt, max_depth=10, bootstrap=True \n",
      "[CV]  n_estimators=256, min_samples_split=2, min_samples_leaf=4, max_features=sqrt, max_depth=10, bootstrap=True, total=   1.0s\n",
      "[CV] n_estimators=190, min_samples_split=5, min_samples_leaf=2, max_features=sqrt, max_depth=100, bootstrap=False \n",
      "[CV]  n_estimators=190, min_samples_split=5, min_samples_leaf=2, max_features=sqrt, max_depth=100, bootstrap=False, total=   0.7s\n",
      "[CV] n_estimators=146, min_samples_split=5, min_samples_leaf=1, max_features=sqrt, max_depth=60, bootstrap=False \n",
      "[CV]  n_estimators=146, min_samples_split=5, min_samples_leaf=1, max_features=sqrt, max_depth=60, bootstrap=False, total=   0.6s\n",
      "[CV] n_estimators=190, min_samples_split=2, min_samples_leaf=1, max_features=auto, max_depth=50, bootstrap=False \n",
      "[CV]  n_estimators=190, min_samples_split=2, min_samples_leaf=1, max_features=auto, max_depth=50, bootstrap=False, total=   0.7s\n",
      "[CV] n_estimators=124, min_samples_split=10, min_samples_leaf=4, max_features=auto, max_depth=70, bootstrap=True \n",
      "[CV]  n_estimators=124, min_samples_split=10, min_samples_leaf=4, max_features=auto, max_depth=70, bootstrap=True, total=   0.5s\n",
      "[CV] n_estimators=124, min_samples_split=10, min_samples_leaf=4, max_features=auto, max_depth=70, bootstrap=True \n",
      "[CV]  n_estimators=124, min_samples_split=10, min_samples_leaf=4, max_features=auto, max_depth=70, bootstrap=True, total=   0.5s\n",
      "[CV] n_estimators=300, min_samples_split=10, min_samples_leaf=1, max_features=sqrt, max_depth=10, bootstrap=False \n",
      "[CV]  n_estimators=300, min_samples_split=10, min_samples_leaf=1, max_features=sqrt, max_depth=10, bootstrap=False, total=   1.1s\n",
      "[CV] n_estimators=256, min_samples_split=5, min_samples_leaf=2, max_features=sqrt, max_depth=10, bootstrap=False \n",
      "[CV]  n_estimators=256, min_samples_split=5, min_samples_leaf=2, max_features=sqrt, max_depth=10, bootstrap=False, total=   0.9s\n",
      "[CV] n_estimators=168, min_samples_split=10, min_samples_leaf=2, max_features=sqrt, max_depth=30, bootstrap=False \n",
      "[CV]  n_estimators=168, min_samples_split=10, min_samples_leaf=2, max_features=sqrt, max_depth=30, bootstrap=False, total=   0.6s\n",
      "[CV] n_estimators=146, min_samples_split=5, min_samples_leaf=2, max_features=auto, max_depth=70, bootstrap=False \n",
      "[CV]  n_estimators=146, min_samples_split=5, min_samples_leaf=2, max_features=auto, max_depth=70, bootstrap=False, total=   0.5s\n",
      "[CV] n_estimators=190, min_samples_split=2, min_samples_leaf=1, max_features=sqrt, max_depth=20, bootstrap=True \n",
      "[CV]  n_estimators=190, min_samples_split=2, min_samples_leaf=1, max_features=sqrt, max_depth=20, bootstrap=True, total=   0.8s\n",
      "[CV] n_estimators=278, min_samples_split=10, min_samples_leaf=2, max_features=auto, max_depth=110, bootstrap=False \n",
      "[CV]  n_estimators=278, min_samples_split=10, min_samples_leaf=2, max_features=auto, max_depth=110, bootstrap=False, total=   1.0s\n",
      "[CV] n_estimators=278, min_samples_split=10, min_samples_leaf=1, max_features=sqrt, max_depth=30, bootstrap=False \n",
      "[CV]  n_estimators=278, min_samples_split=10, min_samples_leaf=1, max_features=sqrt, max_depth=30, bootstrap=False, total=   1.0s\n",
      "[CV] n_estimators=256, min_samples_split=5, min_samples_leaf=1, max_features=sqrt, max_depth=70, bootstrap=False \n",
      "[CV]  n_estimators=256, min_samples_split=5, min_samples_leaf=1, max_features=sqrt, max_depth=70, bootstrap=False, total=   0.9s\n",
      "[CV] n_estimators=278, min_samples_split=2, min_samples_leaf=2, max_features=auto, max_depth=None, bootstrap=True \n",
      "[CV]  n_estimators=278, min_samples_split=2, min_samples_leaf=2, max_features=auto, max_depth=None, bootstrap=True, total=   1.1s\n",
      "[CV] n_estimators=234, min_samples_split=5, min_samples_leaf=1, max_features=sqrt, max_depth=80, bootstrap=False \n",
      "[CV]  n_estimators=234, min_samples_split=5, min_samples_leaf=1, max_features=sqrt, max_depth=80, bootstrap=False, total=   1.3s\n",
      "[CV] n_estimators=234, min_samples_split=2, min_samples_leaf=1, max_features=auto, max_depth=40, bootstrap=False \n",
      "[CV]  n_estimators=234, min_samples_split=2, min_samples_leaf=1, max_features=auto, max_depth=40, bootstrap=False, total=   0.9s\n",
      "[CV] n_estimators=190, min_samples_split=5, min_samples_leaf=2, max_features=sqrt, max_depth=20, bootstrap=True \n",
      "[CV]  n_estimators=190, min_samples_split=5, min_samples_leaf=2, max_features=sqrt, max_depth=20, bootstrap=True, total=   0.7s\n",
      "[CV] n_estimators=300, min_samples_split=10, min_samples_leaf=4, max_features=auto, max_depth=100, bootstrap=False \n",
      "[CV]  n_estimators=300, min_samples_split=10, min_samples_leaf=4, max_features=auto, max_depth=100, bootstrap=False, total=   1.1s\n",
      "[CV] n_estimators=212, min_samples_split=10, min_samples_leaf=4, max_features=sqrt, max_depth=20, bootstrap=False \n",
      "[CV]  n_estimators=212, min_samples_split=10, min_samples_leaf=4, max_features=sqrt, max_depth=20, bootstrap=False, total=   0.7s\n",
      "[CV] n_estimators=168, min_samples_split=2, min_samples_leaf=2, max_features=sqrt, max_depth=50, bootstrap=False \n",
      "[CV]  n_estimators=168, min_samples_split=2, min_samples_leaf=2, max_features=sqrt, max_depth=50, bootstrap=False, total=   0.6s\n",
      "[CV] n_estimators=168, min_samples_split=10, min_samples_leaf=4, max_features=sqrt, max_depth=50, bootstrap=True \n",
      "[CV]  n_estimators=168, min_samples_split=10, min_samples_leaf=4, max_features=sqrt, max_depth=50, bootstrap=True, total=   0.6s\n",
      "[CV] n_estimators=278, min_samples_split=2, min_samples_leaf=4, max_features=sqrt, max_depth=90, bootstrap=True \n",
      "[CV]  n_estimators=278, min_samples_split=2, min_samples_leaf=4, max_features=sqrt, max_depth=90, bootstrap=True, total=   1.1s\n",
      "[CV] n_estimators=212, min_samples_split=5, min_samples_leaf=2, max_features=sqrt, max_depth=20, bootstrap=True \n",
      "[CV]  n_estimators=212, min_samples_split=5, min_samples_leaf=2, max_features=sqrt, max_depth=20, bootstrap=True, total=   0.8s\n",
      "[CV] n_estimators=168, min_samples_split=2, min_samples_leaf=1, max_features=auto, max_depth=100, bootstrap=True \n",
      "[CV]  n_estimators=168, min_samples_split=2, min_samples_leaf=1, max_features=auto, max_depth=100, bootstrap=True, total=   0.7s\n",
      "[CV] n_estimators=168, min_samples_split=5, min_samples_leaf=2, max_features=auto, max_depth=None, bootstrap=True \n",
      "[CV]  n_estimators=168, min_samples_split=5, min_samples_leaf=2, max_features=auto, max_depth=None, bootstrap=True, total=   0.6s\n",
      "[CV] n_estimators=103, min_samples_split=5, min_samples_leaf=4, max_features=auto, max_depth=10, bootstrap=True \n",
      "[CV]  n_estimators=103, min_samples_split=5, min_samples_leaf=4, max_features=auto, max_depth=10, bootstrap=True, total=   0.4s\n",
      "[CV] n_estimators=103, min_samples_split=5, min_samples_leaf=4, max_features=auto, max_depth=10, bootstrap=True \n",
      "[CV]  n_estimators=103, min_samples_split=5, min_samples_leaf=4, max_features=auto, max_depth=10, bootstrap=True, total=   0.4s\n",
      "[CV] n_estimators=168, min_samples_split=2, min_samples_leaf=4, max_features=sqrt, max_depth=90, bootstrap=True \n",
      "[CV]  n_estimators=168, min_samples_split=2, min_samples_leaf=4, max_features=sqrt, max_depth=90, bootstrap=True, total=   0.6s\n",
      "[CV] n_estimators=124, min_samples_split=10, min_samples_leaf=4, max_features=sqrt, max_depth=90, bootstrap=True \n",
      "[CV]  n_estimators=124, min_samples_split=10, min_samples_leaf=4, max_features=sqrt, max_depth=90, bootstrap=True, total=   0.5s\n",
      "[CV] n_estimators=103, min_samples_split=5, min_samples_leaf=2, max_features=auto, max_depth=90, bootstrap=False \n",
      "[CV]  n_estimators=103, min_samples_split=5, min_samples_leaf=2, max_features=auto, max_depth=90, bootstrap=False, total=   0.4s[CV] n_estimators=300, min_samples_split=5, min_samples_leaf=1, max_features=sqrt, max_depth=10, bootstrap=True \n",
      "[CV]  n_estimators=300, min_samples_split=5, min_samples_leaf=1, max_features=sqrt, max_depth=10, bootstrap=True, total=   1.2s\n",
      "[CV] n_estimators=212, min_samples_split=5, min_samples_leaf=2, max_features=sqrt, max_depth=10, bootstrap=False \n",
      "[CV]  n_estimators=212, min_samples_split=5, min_samples_leaf=2, max_features=sqrt, max_depth=10, bootstrap=False, total=   0.8s\n",
      "[CV] n_estimators=300, min_samples_split=2, min_samples_leaf=4, max_features=auto, max_depth=30, bootstrap=False \n",
      "[CV]  n_estimators=300, min_samples_split=2, min_samples_leaf=4, max_features=auto, max_depth=30, bootstrap=False, total=   1.0s\n",
      "[CV] n_estimators=168, min_samples_split=5, min_samples_leaf=4, max_features=sqrt, max_depth=30, bootstrap=False \n",
      "[CV]  n_estimators=168, min_samples_split=5, min_samples_leaf=4, max_features=sqrt, max_depth=30, bootstrap=False, total=   0.6s\n",
      "[CV] n_estimators=190, min_samples_split=5, min_samples_leaf=2, max_features=sqrt, max_depth=100, bootstrap=False \n",
      "[CV]  n_estimators=190, min_samples_split=5, min_samples_leaf=2, max_features=sqrt, max_depth=100, bootstrap=False, total=   0.8s\n",
      "[CV] n_estimators=190, min_samples_split=2, min_samples_leaf=1, max_features=auto, max_depth=50, bootstrap=False \n",
      "[CV]  n_estimators=190, min_samples_split=2, min_samples_leaf=1, max_features=auto, max_depth=50, bootstrap=False, total=   0.8s\n",
      "[CV] n_estimators=278, min_samples_split=5, min_samples_leaf=4, max_features=auto, max_depth=10, bootstrap=False \n",
      "[CV]  n_estimators=278, min_samples_split=5, min_samples_leaf=4, max_features=auto, max_depth=10, bootstrap=False, total=   1.0s\n",
      "[CV] n_estimators=168, min_samples_split=5, min_samples_leaf=1, max_features=sqrt, max_depth=90, bootstrap=False \n",
      "[CV]  n_estimators=168, min_samples_split=5, min_samples_leaf=1, max_features=sqrt, max_depth=90, bootstrap=False, total=   0.6s\n",
      "[CV] n_estimators=300, min_samples_split=10, min_samples_leaf=1, max_features=sqrt, max_depth=10, bootstrap=False \n",
      "[CV]  n_estimators=300, min_samples_split=10, min_samples_leaf=1, max_features=sqrt, max_depth=10, bootstrap=False, total=   1.1s\n",
      "[CV] n_estimators=256, min_samples_split=5, min_samples_leaf=2, max_features=sqrt, max_depth=10, bootstrap=False \n",
      "[CV]  n_estimators=256, min_samples_split=5, min_samples_leaf=2, max_features=sqrt, max_depth=10, bootstrap=False, total=   0.9s\n",
      "[CV] n_estimators=278, min_samples_split=2, min_samples_leaf=4, max_features=auto, max_depth=50, bootstrap=False \n",
      "[CV]  n_estimators=278, min_samples_split=2, min_samples_leaf=4, max_features=auto, max_depth=50, bootstrap=False, total=   1.0s\n",
      "[CV] n_estimators=146, min_samples_split=5, min_samples_leaf=2, max_features=auto, max_depth=70, bootstrap=False \n",
      "[CV]  n_estimators=146, min_samples_split=5, min_samples_leaf=2, max_features=auto, max_depth=70, bootstrap=False, total=   0.5s\n",
      "[CV] n_estimators=278, min_samples_split=10, min_samples_leaf=2, max_features=auto, max_depth=110, bootstrap=False \n",
      "[CV]  n_estimators=278, min_samples_split=10, min_samples_leaf=2, max_features=auto, max_depth=110, bootstrap=False, total=   1.0s\n",
      "[CV] n_estimators=146, min_samples_split=5, min_samples_leaf=1, max_features=auto, max_depth=80, bootstrap=True \n",
      "[CV]  n_estimators=146, min_samples_split=5, min_samples_leaf=1, max_features=auto, max_depth=80, bootstrap=True, total=   0.6s\n",
      "[CV] n_estimators=278, min_samples_split=10, min_samples_leaf=1, max_features=sqrt, max_depth=30, bootstrap=False \n",
      "[CV]  n_estimators=278, min_samples_split=10, min_samples_leaf=1, max_features=sqrt, max_depth=30, bootstrap=False, total=   1.0s\n",
      "[CV] n_estimators=234, min_samples_split=5, min_samples_leaf=4, max_features=sqrt, max_depth=80, bootstrap=True \n",
      "[CV]  n_estimators=234, min_samples_split=5, min_samples_leaf=4, max_features=sqrt, max_depth=80, bootstrap=True, total=   0.9s\n",
      "[CV] n_estimators=278, min_samples_split=2, min_samples_leaf=2, max_features=auto, max_depth=None, bootstrap=True \n",
      "[CV]  n_estimators=278, min_samples_split=2, min_samples_leaf=2, max_features=auto, max_depth=None, bootstrap=True, total=   1.2s\n",
      "[CV] n_estimators=234, min_samples_split=5, min_samples_leaf=1, max_features=sqrt, max_depth=80, bootstrap=False \n",
      "[CV]  n_estimators=234, min_samples_split=5, min_samples_leaf=1, max_features=sqrt, max_depth=80, bootstrap=False, total=   1.1s\n",
      "[CV] n_estimators=234, min_samples_split=2, min_samples_leaf=1, max_features=auto, max_depth=40, bootstrap=False \n",
      "[CV]  n_estimators=234, min_samples_split=2, min_samples_leaf=1, max_features=auto, max_depth=40, bootstrap=False, total=   0.9s\n",
      "[CV] n_estimators=300, min_samples_split=10, min_samples_leaf=4, max_features=auto, max_depth=100, bootstrap=False \n",
      "[CV]  n_estimators=300, min_samples_split=10, min_samples_leaf=4, max_features=auto, max_depth=100, bootstrap=False, total=   1.1s\n",
      "[CV] n_estimators=212, min_samples_split=2, min_samples_leaf=2, max_features=sqrt, max_depth=20, bootstrap=True \n",
      "[CV]  n_estimators=212, min_samples_split=2, min_samples_leaf=2, max_features=sqrt, max_depth=20, bootstrap=True, total=   0.9s\n",
      "[CV] n_estimators=168, min_samples_split=2, min_samples_leaf=2, max_features=sqrt, max_depth=50, bootstrap=False \n",
      "[CV]  n_estimators=168, min_samples_split=2, min_samples_leaf=2, max_features=sqrt, max_depth=50, bootstrap=False, total=   0.6s\n",
      "[CV] n_estimators=168, min_samples_split=5, min_samples_leaf=1, max_features=sqrt, max_depth=100, bootstrap=False \n",
      "[CV]  n_estimators=168, min_samples_split=5, min_samples_leaf=1, max_features=sqrt, max_depth=100, bootstrap=False, total=   0.6s\n",
      "[CV] n_estimators=168, min_samples_split=10, min_samples_leaf=4, max_features=sqrt, max_depth=50, bootstrap=True \n",
      "[CV]  n_estimators=168, min_samples_split=10, min_samples_leaf=4, max_features=sqrt, max_depth=50, bootstrap=True, total=   0.6s\n",
      "[CV] n_estimators=278, min_samples_split=2, min_samples_leaf=4, max_features=sqrt, max_depth=90, bootstrap=True \n",
      "[CV]  n_estimators=278, min_samples_split=2, min_samples_leaf=4, max_features=sqrt, max_depth=90, bootstrap=True, total=   1.0s\n",
      "[CV] n_estimators=212, min_samples_split=5, min_samples_leaf=2, max_features=sqrt, max_depth=20, bootstrap=True \n",
      "[CV]  n_estimators=212, min_samples_split=5, min_samples_leaf=2, max_features=sqrt, max_depth=20, bootstrap=True, total=   0.8s\n",
      "[CV] n_estimators=168, min_samples_split=2, min_samples_leaf=1, max_features=auto, max_depth=100, bootstrap=True \n",
      "[CV]  n_estimators=168, min_samples_split=2, min_samples_leaf=1, max_features=auto, max_depth=100, bootstrap=True, total=   0.7s\n",
      "[CV] n_estimators=190, min_samples_split=2, min_samples_leaf=2, max_features=sqrt, max_depth=60, bootstrap=True \n",
      "[CV]  n_estimators=190, min_samples_split=2, min_samples_leaf=2, max_features=sqrt, max_depth=60, bootstrap=True, total=   0.7s\n",
      "[CV] n_estimators=103, min_samples_split=5, min_samples_leaf=4, max_features=auto, max_depth=10, bootstrap=True \n",
      "[CV]  n_estimators=103, min_samples_split=5, min_samples_leaf=4, max_features=auto, max_depth=10, bootstrap=True, total=   0.4s\n",
      "[CV] n_estimators=146, min_samples_split=10, min_samples_leaf=2, max_features=sqrt, max_depth=60, bootstrap=True \n",
      "[CV]  n_estimators=146, min_samples_split=10, min_samples_leaf=2, max_features=sqrt, max_depth=60, bootstrap=True, total=   0.5s\n",
      "[CV] n_estimators=124, min_samples_split=10, min_samples_leaf=4, max_features=sqrt, max_depth=90, bootstrap=True \n",
      "[CV]  n_estimators=124, min_samples_split=10, min_samples_leaf=4, max_features=sqrt, max_depth=90, bootstrap=True, total=   0.5s\n",
      "[CV] n_estimators=103, min_samples_split=5, min_samples_leaf=2, max_features=auto, max_depth=90, bootstrap=False \n",
      "[CV]  n_estimators=103, min_samples_split=5, min_samples_leaf=2, max_features=auto, max_depth=90, bootstrap=False, total=   0.4s\n",
      "[CV] n_estimators=190, min_samples_split=2, min_samples_leaf=1, max_features=sqrt, max_depth=110, bootstrap=True \n",
      "[CV]  n_estimators=190, min_samples_split=2, min_samples_leaf=1, max_features=sqrt, max_depth=110, bootstrap=True, total=   0.7s\n",
      "[CV] n_estimators=300, min_samples_split=2, min_samples_leaf=2, max_features=auto, max_depth=90, bootstrap=True \n",
      "[CV]  n_estimators=300, min_samples_split=2, min_samples_leaf=2, max_features=auto, max_depth=90, bootstrap=True, total=   1.1s"
     ]
    },
    {
     "name": "stderr",
     "output_type": "stream",
     "text": [
      "[Parallel(n_jobs=-1)]: Done 154 tasks      | elapsed:   32.8s\n"
     ]
    },
    {
     "name": "stdout",
     "output_type": "stream",
     "text": [
      "\n",
      "[CV] n_estimators=124, min_samples_split=10, min_samples_leaf=4, max_features=sqrt, max_depth=90, bootstrap=True \n",
      "[CV]  n_estimators=124, min_samples_split=10, min_samples_leaf=4, max_features=sqrt, max_depth=90, bootstrap=True, total=   0.5s\n",
      "[CV] n_estimators=190, min_samples_split=2, min_samples_leaf=1, max_features=sqrt, max_depth=110, bootstrap=True \n",
      "[CV]  n_estimators=190, min_samples_split=2, min_samples_leaf=1, max_features=sqrt, max_depth=110, bootstrap=True, total=   0.7s\n",
      "[CV] n_estimators=124, min_samples_split=10, min_samples_leaf=4, max_features=sqrt, max_depth=80, bootstrap=False \n",
      "[CV]  n_estimators=124, min_samples_split=10, min_samples_leaf=4, max_features=sqrt, max_depth=80, bootstrap=False, total=   0.4s\n",
      "[CV] n_estimators=124, min_samples_split=10, min_samples_leaf=4, max_features=sqrt, max_depth=80, bootstrap=False \n",
      "[CV]  n_estimators=124, min_samples_split=10, min_samples_leaf=4, max_features=sqrt, max_depth=80, bootstrap=False, total=   0.4s\n",
      "[CV] n_estimators=212, min_samples_split=2, min_samples_leaf=4, max_features=sqrt, max_depth=70, bootstrap=False \n",
      "[CV]  n_estimators=212, min_samples_split=2, min_samples_leaf=4, max_features=sqrt, max_depth=70, bootstrap=False, total=   0.7s\n",
      "[CV] n_estimators=146, min_samples_split=2, min_samples_leaf=2, max_features=sqrt, max_depth=110, bootstrap=False \n",
      "[CV]  n_estimators=146, min_samples_split=2, min_samples_leaf=2, max_features=sqrt, max_depth=110, bootstrap=False, total=   0.5s\n",
      "[CV] n_estimators=278, min_samples_split=2, min_samples_leaf=1, max_features=auto, max_depth=20, bootstrap=False \n",
      "[CV]  n_estimators=278, min_samples_split=2, min_samples_leaf=1, max_features=auto, max_depth=20, bootstrap=False, total=   1.1s\n",
      "[CV] n_estimators=190, min_samples_split=10, min_samples_leaf=4, max_features=auto, max_depth=50, bootstrap=False \n",
      "[CV]  n_estimators=190, min_samples_split=10, min_samples_leaf=4, max_features=auto, max_depth=50, bootstrap=False, total=   0.7s\n",
      "[CV] n_estimators=190, min_samples_split=10, min_samples_leaf=4, max_features=auto, max_depth=50, bootstrap=False \n",
      "[CV]  n_estimators=190, min_samples_split=10, min_samples_leaf=4, max_features=auto, max_depth=50, bootstrap=False, total=   0.7s\n",
      "[CV] n_estimators=234, min_samples_split=5, min_samples_leaf=2, max_features=sqrt, max_depth=None, bootstrap=False \n",
      "[CV]  n_estimators=234, min_samples_split=5, min_samples_leaf=2, max_features=sqrt, max_depth=None, bootstrap=False, total=   0.9s\n",
      "[CV] n_estimators=146, min_samples_split=2, min_samples_leaf=4, max_features=sqrt, max_depth=60, bootstrap=False \n",
      "[CV]  n_estimators=146, min_samples_split=2, min_samples_leaf=4, max_features=sqrt, max_depth=60, bootstrap=False, total=   0.5s\n",
      "[CV] n_estimators=278, min_samples_split=2, min_samples_leaf=2, max_features=auto, max_depth=80, bootstrap=True \n",
      "[CV]  n_estimators=278, min_samples_split=2, min_samples_leaf=2, max_features=auto, max_depth=80, bootstrap=True, total=   1.1s\n",
      "[CV] n_estimators=234, min_samples_split=2, min_samples_leaf=1, max_features=auto, max_depth=100, bootstrap=True \n",
      "[CV]  n_estimators=234, min_samples_split=2, min_samples_leaf=1, max_features=auto, max_depth=100, bootstrap=True, total=   0.9s\n",
      "[CV] n_estimators=234, min_samples_split=10, min_samples_leaf=2, max_features=sqrt, max_depth=80, bootstrap=True \n",
      "[CV]  n_estimators=234, min_samples_split=10, min_samples_leaf=2, max_features=sqrt, max_depth=80, bootstrap=True, total=   0.9s\n",
      "[CV] n_estimators=124, min_samples_split=2, min_samples_leaf=4, max_features=sqrt, max_depth=10, bootstrap=True \n",
      "[CV]  n_estimators=124, min_samples_split=2, min_samples_leaf=4, max_features=sqrt, max_depth=10, bootstrap=True, total=   0.5s\n",
      "[CV] n_estimators=190, min_samples_split=10, min_samples_leaf=4, max_features=auto, max_depth=80, bootstrap=False \n",
      "[CV]  n_estimators=190, min_samples_split=10, min_samples_leaf=4, max_features=auto, max_depth=80, bootstrap=False, total=   0.7s\n",
      "[CV] n_estimators=212, min_samples_split=10, min_samples_leaf=2, max_features=auto, max_depth=None, bootstrap=False \n",
      "[CV]  n_estimators=212, min_samples_split=10, min_samples_leaf=2, max_features=auto, max_depth=None, bootstrap=False, total=   0.8s\n",
      "[CV] n_estimators=256, min_samples_split=10, min_samples_leaf=2, max_features=auto, max_depth=None, bootstrap=True \n",
      "[CV]  n_estimators=256, min_samples_split=10, min_samples_leaf=2, max_features=auto, max_depth=None, bootstrap=True, total=   1.0s\n",
      "[CV] n_estimators=278, min_samples_split=2, min_samples_leaf=4, max_features=auto, max_depth=10, bootstrap=False \n",
      "[CV]  n_estimators=278, min_samples_split=2, min_samples_leaf=4, max_features=auto, max_depth=10, bootstrap=False, total=   1.0s\n",
      "[CV] n_estimators=234, min_samples_split=2, min_samples_leaf=2, max_features=auto, max_depth=70, bootstrap=True \n",
      "[CV]  n_estimators=234, min_samples_split=2, min_samples_leaf=2, max_features=auto, max_depth=70, bootstrap=True, total=   0.9s\n",
      "[CV] n_estimators=300, min_samples_split=10, min_samples_leaf=2, max_features=auto, max_depth=60, bootstrap=False \n",
      "[CV]  n_estimators=300, min_samples_split=10, min_samples_leaf=2, max_features=auto, max_depth=60, bootstrap=False, total=   1.1s\n",
      "[CV] n_estimators=234, min_samples_split=2, min_samples_leaf=4, max_features=sqrt, max_depth=80, bootstrap=False \n",
      "[CV]  n_estimators=234, min_samples_split=2, min_samples_leaf=4, max_features=sqrt, max_depth=80, bootstrap=False, total=   0.8s\n",
      "[CV] n_estimators=278, min_samples_split=5, min_samples_leaf=2, max_features=sqrt, max_depth=60, bootstrap=True \n",
      "[CV]  n_estimators=278, min_samples_split=5, min_samples_leaf=2, max_features=sqrt, max_depth=60, bootstrap=True, total=   1.1s\n",
      "[CV] n_estimators=256, min_samples_split=5, min_samples_leaf=1, max_features=auto, max_depth=90, bootstrap=True \n",
      "[CV]  n_estimators=256, min_samples_split=5, min_samples_leaf=1, max_features=auto, max_depth=90, bootstrap=True, total=   1.0s\n",
      "[CV] n_estimators=124, min_samples_split=10, min_samples_leaf=2, max_features=sqrt, max_depth=90, bootstrap=False \n",
      "[CV]  n_estimators=124, min_samples_split=10, min_samples_leaf=2, max_features=sqrt, max_depth=90, bootstrap=False, total=   0.4s\n",
      "[CV] n_estimators=300, min_samples_split=5, min_samples_leaf=1, max_features=sqrt, max_depth=100, bootstrap=True \n",
      "[CV]  n_estimators=300, min_samples_split=5, min_samples_leaf=1, max_features=sqrt, max_depth=100, bootstrap=True, total=   1.2s\n",
      "[CV] n_estimators=190, min_samples_split=5, min_samples_leaf=2, max_features=sqrt, max_depth=10, bootstrap=True \n",
      "[CV]  n_estimators=190, min_samples_split=5, min_samples_leaf=2, max_features=sqrt, max_depth=10, bootstrap=True, total=   0.7s\n",
      "[CV] n_estimators=103, min_samples_split=5, min_samples_leaf=4, max_features=auto, max_depth=80, bootstrap=True \n",
      "[CV]  n_estimators=103, min_samples_split=5, min_samples_leaf=4, max_features=auto, max_depth=80, bootstrap=True, total=   0.4s\n",
      "[CV] n_estimators=300, min_samples_split=2, min_samples_leaf=4, max_features=auto, max_depth=60, bootstrap=False \n",
      "[CV]  n_estimators=300, min_samples_split=2, min_samples_leaf=4, max_features=auto, max_depth=60, bootstrap=False, total=   1.4s\n",
      "[CV] n_estimators=190, min_samples_split=5, min_samples_leaf=4, max_features=auto, max_depth=100, bootstrap=True \n",
      "[CV]  n_estimators=190, min_samples_split=5, min_samples_leaf=4, max_features=auto, max_depth=100, bootstrap=True, total=   0.8s\n",
      "[CV] n_estimators=168, min_samples_split=10, min_samples_leaf=2, max_features=auto, max_depth=None, bootstrap=False \n",
      "[CV]  n_estimators=168, min_samples_split=10, min_samples_leaf=2, max_features=auto, max_depth=None, bootstrap=False, total=   0.6s\n",
      "[CV] n_estimators=168, min_samples_split=5, min_samples_leaf=4, max_features=sqrt, max_depth=70, bootstrap=False \n",
      "[CV]  n_estimators=168, min_samples_split=5, min_samples_leaf=4, max_features=sqrt, max_depth=70, bootstrap=False, total=   0.6s\n",
      "[CV] n_estimators=124, min_samples_split=5, min_samples_leaf=1, max_features=sqrt, max_depth=100, bootstrap=True \n",
      "[CV]  n_estimators=124, min_samples_split=5, min_samples_leaf=1, max_features=sqrt, max_depth=100, bootstrap=True, total=   0.5s\n",
      "[CV] n_estimators=256, min_samples_split=2, min_samples_leaf=4, max_features=sqrt, max_depth=80, bootstrap=True \n",
      "[CV]  n_estimators=256, min_samples_split=2, min_samples_leaf=4, max_features=sqrt, max_depth=80, bootstrap=True, total=   1.0s\n",
      "[CV] n_estimators=146, min_samples_split=2, min_samples_leaf=2, max_features=sqrt, max_depth=110, bootstrap=False \n",
      "[CV]  n_estimators=146, min_samples_split=2, min_samples_leaf=2, max_features=sqrt, max_depth=110, bootstrap=False, total=   0.6s\n",
      "[CV] n_estimators=146, min_samples_split=2, min_samples_leaf=2, max_features=sqrt, max_depth=110, bootstrap=False \n",
      "[CV]  n_estimators=146, min_samples_split=2, min_samples_leaf=2, max_features=sqrt, max_depth=110, bootstrap=False, total=   0.5s\n",
      "[CV] n_estimators=300, min_samples_split=10, min_samples_leaf=2, max_features=auto, max_depth=50, bootstrap=False \n",
      "[CV]  n_estimators=300, min_samples_split=10, min_samples_leaf=2, max_features=auto, max_depth=50, bootstrap=False, total=   1.1s\n",
      "[CV] n_estimators=190, min_samples_split=10, min_samples_leaf=4, max_features=auto, max_depth=50, bootstrap=False \n",
      "[CV]  n_estimators=190, min_samples_split=10, min_samples_leaf=4, max_features=auto, max_depth=50, bootstrap=False, total=   0.7s\n",
      "[CV] n_estimators=190, min_samples_split=5, min_samples_leaf=4, max_features=auto, max_depth=30, bootstrap=False \n",
      "[CV]  n_estimators=190, min_samples_split=5, min_samples_leaf=4, max_features=auto, max_depth=30, bootstrap=False, total=   0.7s\n",
      "[CV] n_estimators=234, min_samples_split=5, min_samples_leaf=2, max_features=sqrt, max_depth=None, bootstrap=False \n",
      "[CV]  n_estimators=234, min_samples_split=5, min_samples_leaf=2, max_features=sqrt, max_depth=None, bootstrap=False, total=   0.8s\n",
      "[CV] n_estimators=256, min_samples_split=5, min_samples_leaf=1, max_features=auto, max_depth=10, bootstrap=True \n",
      "[CV]  n_estimators=256, min_samples_split=5, min_samples_leaf=1, max_features=auto, max_depth=10, bootstrap=True, total=   1.0s\n",
      "[CV] n_estimators=278, min_samples_split=2, min_samples_leaf=2, max_features=auto, max_depth=80, bootstrap=True \n",
      "[CV]  n_estimators=278, min_samples_split=2, min_samples_leaf=2, max_features=auto, max_depth=80, bootstrap=True, total=   1.1s\n",
      "[CV] n_estimators=234, min_samples_split=10, min_samples_leaf=2, max_features=sqrt, max_depth=80, bootstrap=True \n",
      "[CV]  n_estimators=234, min_samples_split=10, min_samples_leaf=2, max_features=sqrt, max_depth=80, bootstrap=True, total=   0.9s\n",
      "[CV] n_estimators=103, min_samples_split=2, min_samples_leaf=1, max_features=sqrt, max_depth=50, bootstrap=True \n",
      "[CV]  n_estimators=103, min_samples_split=2, min_samples_leaf=1, max_features=sqrt, max_depth=50, bootstrap=True, total=   0.4s\n",
      "[CV] n_estimators=124, min_samples_split=2, min_samples_leaf=4, max_features=sqrt, max_depth=10, bootstrap=True \n",
      "[CV]  n_estimators=124, min_samples_split=2, min_samples_leaf=4, max_features=sqrt, max_depth=10, bootstrap=True, total=   0.5s\n",
      "[CV] n_estimators=212, min_samples_split=10, min_samples_leaf=2, max_features=auto, max_depth=None, bootstrap=False \n",
      "[CV]  n_estimators=212, min_samples_split=10, min_samples_leaf=2, max_features=auto, max_depth=None, bootstrap=False, total=   0.8s\n",
      "[CV] n_estimators=256, min_samples_split=10, min_samples_leaf=1, max_features=sqrt, max_depth=20, bootstrap=True \n",
      "[CV]  n_estimators=256, min_samples_split=10, min_samples_leaf=1, max_features=sqrt, max_depth=20, bootstrap=True, total=   1.0s\n",
      "[CV] n_estimators=256, min_samples_split=10, min_samples_leaf=2, max_features=auto, max_depth=None, bootstrap=True \n",
      "[CV]  n_estimators=256, min_samples_split=10, min_samples_leaf=2, max_features=auto, max_depth=None, bootstrap=True, total=   1.0s\n",
      "[CV] n_estimators=234, min_samples_split=2, min_samples_leaf=2, max_features=auto, max_depth=70, bootstrap=True \n",
      "[CV]  n_estimators=234, min_samples_split=2, min_samples_leaf=2, max_features=auto, max_depth=70, bootstrap=True, total=   0.9s\n",
      "[CV] n_estimators=190, min_samples_split=10, min_samples_leaf=1, max_features=sqrt, max_depth=80, bootstrap=False \n",
      "[CV]  n_estimators=190, min_samples_split=10, min_samples_leaf=1, max_features=sqrt, max_depth=80, bootstrap=False, total=   0.8s\n",
      "[CV] n_estimators=300, min_samples_split=10, min_samples_leaf=2, max_features=auto, max_depth=60, bootstrap=False \n",
      "[CV]  n_estimators=300, min_samples_split=10, min_samples_leaf=2, max_features=auto, max_depth=60, bootstrap=False, total=   1.1s\n",
      "[CV] n_estimators=168, min_samples_split=2, min_samples_leaf=4, max_features=sqrt, max_depth=20, bootstrap=False \n",
      "[CV]  n_estimators=168, min_samples_split=2, min_samples_leaf=4, max_features=sqrt, max_depth=20, bootstrap=False, total=   0.6s\n",
      "[CV] n_estimators=278, min_samples_split=5, min_samples_leaf=2, max_features=sqrt, max_depth=60, bootstrap=True \n",
      "[CV]  n_estimators=278, min_samples_split=5, min_samples_leaf=2, max_features=sqrt, max_depth=60, bootstrap=True, total=   1.1s\n",
      "[CV] n_estimators=124, min_samples_split=5, min_samples_leaf=1, max_features=auto, max_depth=90, bootstrap=False \n",
      "[CV]  n_estimators=124, min_samples_split=5, min_samples_leaf=1, max_features=auto, max_depth=90, bootstrap=False, total=   0.5s\n",
      "[CV] n_estimators=124, min_samples_split=10, min_samples_leaf=2, max_features=sqrt, max_depth=90, bootstrap=False \n",
      "[CV]  n_estimators=124, min_samples_split=10, min_samples_leaf=2, max_features=sqrt, max_depth=90, bootstrap=False, total=   0.4s\n",
      "[CV] n_estimators=124, min_samples_split=10, min_samples_leaf=2, max_features=sqrt, max_depth=90, bootstrap=False \n",
      "[CV]  n_estimators=124, min_samples_split=10, min_samples_leaf=2, max_features=sqrt, max_depth=90, bootstrap=False, total=   0.4s\n",
      "[CV] n_estimators=256, min_samples_split=10, min_samples_leaf=1, max_features=sqrt, max_depth=None, bootstrap=True \n",
      "[CV]  n_estimators=256, min_samples_split=10, min_samples_leaf=1, max_features=sqrt, max_depth=None, bootstrap=True, total=   1.0s\n",
      "[CV] n_estimators=300, min_samples_split=5, min_samples_leaf=1, max_features=sqrt, max_depth=100, bootstrap=True \n",
      "[CV]  n_estimators=300, min_samples_split=5, min_samples_leaf=1, max_features=sqrt, max_depth=100, bootstrap=True, total=   1.2s\n",
      "[CV] n_estimators=103, min_samples_split=5, min_samples_leaf=4, max_features=auto, max_depth=80, bootstrap=True \n",
      "[CV]  n_estimators=103, min_samples_split=5, min_samples_leaf=4, max_features=auto, max_depth=80, bootstrap=True, total=   0.4s\n",
      "[CV] n_estimators=146, min_samples_split=10, min_samples_leaf=2, max_features=auto, max_depth=100, bootstrap=True \n",
      "[CV]  n_estimators=146, min_samples_split=10, min_samples_leaf=2, max_features=auto, max_depth=100, bootstrap=True, total=   0.6s\n",
      "[CV] n_estimators=146, min_samples_split=10, min_samples_leaf=2, max_features=auto, max_depth=100, bootstrap=True \n",
      "[CV]  n_estimators=146, min_samples_split=10, min_samples_leaf=2, max_features=auto, max_depth=100, bootstrap=True, total=   0.7s\n",
      "[CV] n_estimators=146, min_samples_split=10, min_samples_leaf=2, max_features=auto, max_depth=100, bootstrap=True \n",
      "[CV]  n_estimators=146, min_samples_split=10, min_samples_leaf=2, max_features=auto, max_depth=100, bootstrap=True, total=   0.7s\n",
      "[CV] n_estimators=168, min_samples_split=10, min_samples_leaf=2, max_features=auto, max_depth=None, bootstrap=False \n",
      "[CV]  n_estimators=168, min_samples_split=10, min_samples_leaf=2, max_features=auto, max_depth=None, bootstrap=False, total=   0.6s\n",
      "[CV] n_estimators=168, min_samples_split=5, min_samples_leaf=4, max_features=sqrt, max_depth=70, bootstrap=False \n",
      "[CV]  n_estimators=168, min_samples_split=5, min_samples_leaf=4, max_features=sqrt, max_depth=70, bootstrap=False, total=   0.6s\n",
      "[CV] n_estimators=146, min_samples_split=10, min_samples_leaf=1, max_features=sqrt, max_depth=40, bootstrap=False \n",
      "[CV]  n_estimators=146, min_samples_split=10, min_samples_leaf=1, max_features=sqrt, max_depth=40, bootstrap=False, total=   0.5s\n",
      "[CV] n_estimators=256, min_samples_split=2, min_samples_leaf=4, max_features=sqrt, max_depth=80, bootstrap=True \n",
      "[CV]  n_estimators=256, min_samples_split=2, min_samples_leaf=4, max_features=sqrt, max_depth=80, bootstrap=True, total=   1.0s\n",
      "[CV] n_estimators=168, min_samples_split=10, min_samples_leaf=4, max_features=sqrt, max_depth=100, bootstrap=True \n",
      "[CV]  n_estimators=168, min_samples_split=10, min_samples_leaf=4, max_features=sqrt, max_depth=100, bootstrap=True, total=   0.6s\n",
      "[CV] n_estimators=146, min_samples_split=10, min_samples_leaf=1, max_features=sqrt, max_depth=110, bootstrap=True \n",
      "[CV]  n_estimators=146, min_samples_split=10, min_samples_leaf=1, max_features=sqrt, max_depth=110, bootstrap=True, total=   0.6s\n",
      "[CV] n_estimators=300, min_samples_split=2, min_samples_leaf=2, max_features=auto, max_depth=90, bootstrap=True \n",
      "[CV]  n_estimators=300, min_samples_split=2, min_samples_leaf=2, max_features=auto, max_depth=90, bootstrap=True, total=   1.1s\n",
      "[CV] n_estimators=124, min_samples_split=10, min_samples_leaf=4, max_features=sqrt, max_depth=80, bootstrap=False \n",
      "[CV]  n_estimators=124, min_samples_split=10, min_samples_leaf=4, max_features=sqrt, max_depth=80, bootstrap=False, total=   0.4s\n",
      "[CV] n_estimators=212, min_samples_split=2, min_samples_leaf=4, max_features=sqrt, max_depth=70, bootstrap=False \n",
      "[CV]  n_estimators=212, min_samples_split=2, min_samples_leaf=4, max_features=sqrt, max_depth=70, bootstrap=False, total=   0.8s\n",
      "[CV] n_estimators=278, min_samples_split=2, min_samples_leaf=1, max_features=auto, max_depth=20, bootstrap=False \n",
      "[CV]  n_estimators=278, min_samples_split=2, min_samples_leaf=1, max_features=auto, max_depth=20, bootstrap=False, total=   1.1s\n",
      "[CV] n_estimators=300, min_samples_split=10, min_samples_leaf=2, max_features=auto, max_depth=50, bootstrap=False \n",
      "[CV]  n_estimators=300, min_samples_split=10, min_samples_leaf=2, max_features=auto, max_depth=50, bootstrap=False, total=   1.1s\n",
      "[CV] n_estimators=190, min_samples_split=5, min_samples_leaf=4, max_features=auto, max_depth=30, bootstrap=False \n",
      "[CV]  n_estimators=190, min_samples_split=5, min_samples_leaf=4, max_features=auto, max_depth=30, bootstrap=False, total=   0.7s\n",
      "[CV] n_estimators=234, min_samples_split=5, min_samples_leaf=2, max_features=sqrt, max_depth=None, bootstrap=False \n",
      "[CV]  n_estimators=234, min_samples_split=5, min_samples_leaf=2, max_features=sqrt, max_depth=None, bootstrap=False, total=   0.9s\n",
      "[CV] n_estimators=256, min_samples_split=5, min_samples_leaf=1, max_features=auto, max_depth=10, bootstrap=True \n",
      "[CV]  n_estimators=256, min_samples_split=5, min_samples_leaf=1, max_features=auto, max_depth=10, bootstrap=True, total=   1.0s\n",
      "[CV] n_estimators=278, min_samples_split=2, min_samples_leaf=2, max_features=auto, max_depth=80, bootstrap=True \n",
      "[CV]  n_estimators=278, min_samples_split=2, min_samples_leaf=2, max_features=auto, max_depth=80, bootstrap=True, total=   1.1s\n",
      "[CV] n_estimators=234, min_samples_split=2, min_samples_leaf=1, max_features=auto, max_depth=100, bootstrap=True \n",
      "[CV]  n_estimators=234, min_samples_split=2, min_samples_leaf=1, max_features=auto, max_depth=100, bootstrap=True, total=   0.9s\n",
      "[CV] n_estimators=103, min_samples_split=2, min_samples_leaf=1, max_features=sqrt, max_depth=50, bootstrap=True \n",
      "[CV]  n_estimators=103, min_samples_split=2, min_samples_leaf=1, max_features=sqrt, max_depth=50, bootstrap=True, total=   0.4s\n",
      "[CV] n_estimators=124, min_samples_split=2, min_samples_leaf=4, max_features=sqrt, max_depth=10, bootstrap=True \n",
      "[CV]  n_estimators=124, min_samples_split=2, min_samples_leaf=4, max_features=sqrt, max_depth=10, bootstrap=True, total=   0.5s\n",
      "[CV] n_estimators=190, min_samples_split=10, min_samples_leaf=4, max_features=auto, max_depth=80, bootstrap=False \n",
      "[CV]  n_estimators=190, min_samples_split=10, min_samples_leaf=4, max_features=auto, max_depth=80, bootstrap=False, total=   0.6s\n",
      "[CV] n_estimators=256, min_samples_split=10, min_samples_leaf=1, max_features=sqrt, max_depth=20, bootstrap=True \n",
      "[CV]  n_estimators=256, min_samples_split=10, min_samples_leaf=1, max_features=sqrt, max_depth=20, bootstrap=True, total=   1.0s\n",
      "[CV] n_estimators=256, min_samples_split=10, min_samples_leaf=2, max_features=auto, max_depth=None, bootstrap=True \n",
      "[CV]  n_estimators=256, min_samples_split=10, min_samples_leaf=2, max_features=auto, max_depth=None, bootstrap=True, total=   1.0s\n",
      "[CV] n_estimators=278, min_samples_split=2, min_samples_leaf=4, max_features=auto, max_depth=10, bootstrap=False \n",
      "[CV]  n_estimators=278, min_samples_split=2, min_samples_leaf=4, max_features=auto, max_depth=10, bootstrap=False, total=   1.0s\n",
      "[CV] n_estimators=190, min_samples_split=10, min_samples_leaf=1, max_features=sqrt, max_depth=80, bootstrap=False \n",
      "[CV]  n_estimators=190, min_samples_split=10, min_samples_leaf=1, max_features=sqrt, max_depth=80, bootstrap=False, total=   0.7s\n",
      "[CV] n_estimators=300, min_samples_split=10, min_samples_leaf=2, max_features=auto, max_depth=60, bootstrap=False \n",
      "[CV]  n_estimators=300, min_samples_split=10, min_samples_leaf=2, max_features=auto, max_depth=60, bootstrap=False, total=   1.1s\n",
      "[CV] n_estimators=168, min_samples_split=2, min_samples_leaf=4, max_features=sqrt, max_depth=20, bootstrap=False \n",
      "[CV]  n_estimators=168, min_samples_split=2, min_samples_leaf=4, max_features=sqrt, max_depth=20, bootstrap=False, total=   0.6s\n",
      "[CV] n_estimators=168, min_samples_split=2, min_samples_leaf=4, max_features=sqrt, max_depth=20, bootstrap=False \n",
      "[CV]  n_estimators=168, min_samples_split=2, min_samples_leaf=4, max_features=sqrt, max_depth=20, bootstrap=False, total=   0.6s\n",
      "[CV] n_estimators=124, min_samples_split=5, min_samples_leaf=1, max_features=auto, max_depth=90, bootstrap=False \n",
      "[CV]  n_estimators=124, min_samples_split=5, min_samples_leaf=1, max_features=auto, max_depth=90, bootstrap=False, total=   0.5s\n",
      "[CV] n_estimators=124, min_samples_split=5, min_samples_leaf=1, max_features=auto, max_depth=90, bootstrap=False \n",
      "[CV]  n_estimators=124, min_samples_split=5, min_samples_leaf=1, max_features=auto, max_depth=90, bootstrap=False, total=   0.5s\n",
      "[CV] n_estimators=256, min_samples_split=5, min_samples_leaf=1, max_features=auto, max_depth=90, bootstrap=True \n",
      "[CV]  n_estimators=256, min_samples_split=5, min_samples_leaf=1, max_features=auto, max_depth=90, bootstrap=True, total=   1.0s\n",
      "[CV] n_estimators=256, min_samples_split=10, min_samples_leaf=1, max_features=sqrt, max_depth=None, bootstrap=True \n",
      "[CV]  n_estimators=256, min_samples_split=10, min_samples_leaf=1, max_features=sqrt, max_depth=None, bootstrap=True, total=   1.0s\n",
      "[CV] n_estimators=190, min_samples_split=5, min_samples_leaf=2, max_features=sqrt, max_depth=10, bootstrap=True \n",
      "[CV]  n_estimators=190, min_samples_split=5, min_samples_leaf=2, max_features=sqrt, max_depth=10, bootstrap=True, total=   0.7s\n",
      "[CV] n_estimators=190, min_samples_split=5, min_samples_leaf=2, max_features=sqrt, max_depth=10, bootstrap=True \n",
      "[CV]  n_estimators=190, min_samples_split=5, min_samples_leaf=2, max_features=sqrt, max_depth=10, bootstrap=True, total=   0.7s\n",
      "[CV] n_estimators=300, min_samples_split=2, min_samples_leaf=4, max_features=auto, max_depth=60, bootstrap=False \n",
      "[CV]  n_estimators=300, min_samples_split=2, min_samples_leaf=4, max_features=auto, max_depth=60, bootstrap=False, total=   1.4s\n",
      "[CV] n_estimators=190, min_samples_split=5, min_samples_leaf=4, max_features=auto, max_depth=100, bootstrap=True \n",
      "[CV]  n_estimators=190, min_samples_split=5, min_samples_leaf=4, max_features=auto, max_depth=100, bootstrap=True, total=   0.8s\n",
      "[CV] n_estimators=168, min_samples_split=5, min_samples_leaf=4, max_features=sqrt, max_depth=70, bootstrap=False \n",
      "[CV]  n_estimators=168, min_samples_split=5, min_samples_leaf=4, max_features=sqrt, max_depth=70, bootstrap=False, total=   0.6s\n",
      "[CV] n_estimators=146, min_samples_split=10, min_samples_leaf=1, max_features=sqrt, max_depth=40, bootstrap=False \n",
      "[CV]  n_estimators=146, min_samples_split=10, min_samples_leaf=1, max_features=sqrt, max_depth=40, bootstrap=False, total=   0.5s\n",
      "[CV] n_estimators=124, min_samples_split=5, min_samples_leaf=1, max_features=sqrt, max_depth=100, bootstrap=True \n",
      "[CV]  n_estimators=124, min_samples_split=5, min_samples_leaf=1, max_features=sqrt, max_depth=100, bootstrap=True, total=   0.5s\n",
      "[CV] n_estimators=168, min_samples_split=10, min_samples_leaf=4, max_features=sqrt, max_depth=100, bootstrap=True \n",
      "[CV]  n_estimators=168, min_samples_split=10, min_samples_leaf=4, max_features=sqrt, max_depth=100, bootstrap=True, total=   0.7s\n",
      "[CV] n_estimators=168, min_samples_split=10, min_samples_leaf=4, max_features=sqrt, max_depth=100, bootstrap=True \n",
      "[CV]  n_estimators=168, min_samples_split=10, min_samples_leaf=4, max_features=sqrt, max_depth=100, bootstrap=True, total=   0.7s\n",
      "[CV] n_estimators=190, min_samples_split=10, min_samples_leaf=2, max_features=sqrt, max_depth=10, bootstrap=True \n",
      "[CV]  n_estimators=190, min_samples_split=10, min_samples_leaf=2, max_features=sqrt, max_depth=10, bootstrap=True, total=   0.7s\n",
      "[CV] n_estimators=190, min_samples_split=2, min_samples_leaf=1, max_features=sqrt, max_depth=110, bootstrap=True \n",
      "[CV]  n_estimators=190, min_samples_split=2, min_samples_leaf=1, max_features=sqrt, max_depth=110, bootstrap=True, total=   0.7s\n",
      "[CV] n_estimators=300, min_samples_split=2, min_samples_leaf=2, max_features=auto, max_depth=90, bootstrap=True \n",
      "[CV]  n_estimators=300, min_samples_split=2, min_samples_leaf=2, max_features=auto, max_depth=90, bootstrap=True, total=   1.1s\n",
      "[CV] n_estimators=212, min_samples_split=2, min_samples_leaf=4, max_features=sqrt, max_depth=70, bootstrap=False \n",
      "[CV]  n_estimators=212, min_samples_split=2, min_samples_leaf=4, max_features=sqrt, max_depth=70, bootstrap=False, total=   0.8s\n",
      "[CV] n_estimators=278, min_samples_split=2, min_samples_leaf=1, max_features=auto, max_depth=20, bootstrap=False \n",
      "[CV]  n_estimators=278, min_samples_split=2, min_samples_leaf=1, max_features=auto, max_depth=20, bootstrap=False, total=   1.1s\n",
      "[CV] n_estimators=300, min_samples_split=10, min_samples_leaf=2, max_features=auto, max_depth=50, bootstrap=False \n",
      "[CV]  n_estimators=300, min_samples_split=10, min_samples_leaf=2, max_features=auto, max_depth=50, bootstrap=False, total=   1.1s\n",
      "[CV] n_estimators=190, min_samples_split=5, min_samples_leaf=4, max_features=auto, max_depth=30, bootstrap=False \n",
      "[CV]  n_estimators=190, min_samples_split=5, min_samples_leaf=4, max_features=auto, max_depth=30, bootstrap=False, total=   0.7s\n",
      "[CV] n_estimators=146, min_samples_split=2, min_samples_leaf=4, max_features=sqrt, max_depth=60, bootstrap=False \n",
      "[CV]  n_estimators=146, min_samples_split=2, min_samples_leaf=4, max_features=sqrt, max_depth=60, bootstrap=False, total=   0.5s\n",
      "[CV] n_estimators=146, min_samples_split=2, min_samples_leaf=4, max_features=sqrt, max_depth=60, bootstrap=False \n",
      "[CV]  n_estimators=146, min_samples_split=2, min_samples_leaf=4, max_features=sqrt, max_depth=60, bootstrap=False, total=   0.5s\n",
      "[CV] n_estimators=256, min_samples_split=5, min_samples_leaf=1, max_features=auto, max_depth=10, bootstrap=True \n",
      "[CV]  n_estimators=256, min_samples_split=5, min_samples_leaf=1, max_features=auto, max_depth=10, bootstrap=True, total=   1.0s\n",
      "[CV] n_estimators=234, min_samples_split=2, min_samples_leaf=1, max_features=auto, max_depth=100, bootstrap=True \n",
      "[CV]  n_estimators=234, min_samples_split=2, min_samples_leaf=1, max_features=auto, max_depth=100, bootstrap=True, total=   0.9s\n",
      "[CV] n_estimators=234, min_samples_split=10, min_samples_leaf=2, max_features=sqrt, max_depth=80, bootstrap=True \n",
      "[CV]  n_estimators=234, min_samples_split=10, min_samples_leaf=2, max_features=sqrt, max_depth=80, bootstrap=True, total=   0.9s\n",
      "[CV] n_estimators=103, min_samples_split=2, min_samples_leaf=1, max_features=sqrt, max_depth=50, bootstrap=True \n",
      "[CV]  n_estimators=103, min_samples_split=2, min_samples_leaf=1, max_features=sqrt, max_depth=50, bootstrap=True, total=   0.4s\n",
      "[CV] n_estimators=190, min_samples_split=10, min_samples_leaf=4, max_features=auto, max_depth=80, bootstrap=False \n",
      "[CV]  n_estimators=190, min_samples_split=10, min_samples_leaf=4, max_features=auto, max_depth=80, bootstrap=False, total=   0.7s\n",
      "[CV] n_estimators=212, min_samples_split=10, min_samples_leaf=2, max_features=auto, max_depth=None, bootstrap=False \n",
      "[CV]  n_estimators=212, min_samples_split=10, min_samples_leaf=2, max_features=auto, max_depth=None, bootstrap=False, total=   0.8s\n",
      "[CV] n_estimators=256, min_samples_split=10, min_samples_leaf=1, max_features=sqrt, max_depth=20, bootstrap=True \n",
      "[CV]  n_estimators=256, min_samples_split=10, min_samples_leaf=1, max_features=sqrt, max_depth=20, bootstrap=True, total=   1.0s\n",
      "[CV] n_estimators=278, min_samples_split=2, min_samples_leaf=4, max_features=auto, max_depth=10, bootstrap=False \n",
      "[CV]  n_estimators=278, min_samples_split=2, min_samples_leaf=4, max_features=auto, max_depth=10, bootstrap=False, total=   1.0s\n",
      "[CV] n_estimators=234, min_samples_split=2, min_samples_leaf=2, max_features=auto, max_depth=70, bootstrap=True \n",
      "[CV]  n_estimators=234, min_samples_split=2, min_samples_leaf=2, max_features=auto, max_depth=70, bootstrap=True, total=   0.9s\n",
      "[CV] n_estimators=190, min_samples_split=10, min_samples_leaf=1, max_features=sqrt, max_depth=80, bootstrap=False \n",
      "[CV]  n_estimators=190, min_samples_split=10, min_samples_leaf=1, max_features=sqrt, max_depth=80, bootstrap=False, total=   0.7s\n",
      "[CV] n_estimators=234, min_samples_split=2, min_samples_leaf=4, max_features=sqrt, max_depth=80, bootstrap=False \n",
      "[CV]  n_estimators=234, min_samples_split=2, min_samples_leaf=4, max_features=sqrt, max_depth=80, bootstrap=False, total=   0.8s\n",
      "[CV] n_estimators=234, min_samples_split=2, min_samples_leaf=4, max_features=sqrt, max_depth=80, bootstrap=False \n",
      "[CV]  n_estimators=234, min_samples_split=2, min_samples_leaf=4, max_features=sqrt, max_depth=80, bootstrap=False, total=   0.8s\n",
      "[CV] n_estimators=278, min_samples_split=5, min_samples_leaf=2, max_features=sqrt, max_depth=60, bootstrap=True \n",
      "[CV]  n_estimators=278, min_samples_split=5, min_samples_leaf=2, max_features=sqrt, max_depth=60, bootstrap=True, total=   1.1s\n",
      "[CV] n_estimators=256, min_samples_split=5, min_samples_leaf=1, max_features=auto, max_depth=90, bootstrap=True \n",
      "[CV]  n_estimators=256, min_samples_split=5, min_samples_leaf=1, max_features=auto, max_depth=90, bootstrap=True, total=   1.0s\n",
      "[CV] n_estimators=256, min_samples_split=10, min_samples_leaf=1, max_features=sqrt, max_depth=None, bootstrap=True \n",
      "[CV]  n_estimators=256, min_samples_split=10, min_samples_leaf=1, max_features=sqrt, max_depth=None, bootstrap=True, total=   1.0s\n",
      "[CV] n_estimators=300, min_samples_split=5, min_samples_leaf=1, max_features=sqrt, max_depth=100, bootstrap=True \n",
      "[CV]  n_estimators=300, min_samples_split=5, min_samples_leaf=1, max_features=sqrt, max_depth=100, bootstrap=True, total=   1.2s\n",
      "[CV] n_estimators=103, min_samples_split=5, min_samples_leaf=4, max_features=auto, max_depth=80, bootstrap=True \n",
      "[CV]  n_estimators=103, min_samples_split=5, min_samples_leaf=4, max_features=auto, max_depth=80, bootstrap=True, total=   0.4s\n",
      "[CV] n_estimators=300, min_samples_split=2, min_samples_leaf=4, max_features=auto, max_depth=60, bootstrap=False \n",
      "[CV]  n_estimators=300, min_samples_split=2, min_samples_leaf=4, max_features=auto, max_depth=60, bootstrap=False, total=   1.4s\n",
      "[CV] n_estimators=190, min_samples_split=5, min_samples_leaf=4, max_features=auto, max_depth=100, bootstrap=True \n",
      "[CV]  n_estimators=190, min_samples_split=5, min_samples_leaf=4, max_features=auto, max_depth=100, bootstrap=True, total=   0.8s\n",
      "[CV] n_estimators=168, min_samples_split=10, min_samples_leaf=2, max_features=auto, max_depth=None, bootstrap=False \n",
      "[CV]  n_estimators=168, min_samples_split=10, min_samples_leaf=2, max_features=auto, max_depth=None, bootstrap=False, total=   0.6s\n",
      "[CV] n_estimators=146, min_samples_split=10, min_samples_leaf=1, max_features=sqrt, max_depth=40, bootstrap=False \n",
      "[CV]  n_estimators=146, min_samples_split=10, min_samples_leaf=1, max_features=sqrt, max_depth=40, bootstrap=False, total=   0.5s\n",
      "[CV] n_estimators=124, min_samples_split=5, min_samples_leaf=1, max_features=sqrt, max_depth=100, bootstrap=True \n",
      "[CV]  n_estimators=124, min_samples_split=5, min_samples_leaf=1, max_features=sqrt, max_depth=100, bootstrap=True, total=   0.5s\n",
      "[CV] n_estimators=256, min_samples_split=2, min_samples_leaf=4, max_features=sqrt, max_depth=80, bootstrap=True \n",
      "[CV]  n_estimators=256, min_samples_split=2, min_samples_leaf=4, max_features=sqrt, max_depth=80, bootstrap=True, total=   1.1s\n",
      "[CV] n_estimators=190, min_samples_split=10, min_samples_leaf=2, max_features=sqrt, max_depth=10, bootstrap=True \n",
      "[CV]  n_estimators=190, min_samples_split=10, min_samples_leaf=2, max_features=sqrt, max_depth=10, bootstrap=True, total=   0.8s\n",
      "[CV] n_estimators=146, min_samples_split=10, min_samples_leaf=1, max_features=sqrt, max_depth=110, bootstrap=True \n",
      "[CV]  n_estimators=146, min_samples_split=10, min_samples_leaf=1, max_features=sqrt, max_depth=110, bootstrap=True, total=   0.6s\n",
      "[CV] n_estimators=168, min_samples_split=5, min_samples_leaf=1, max_features=sqrt, max_depth=40, bootstrap=True \n",
      "[CV]  n_estimators=168, min_samples_split=5, min_samples_leaf=1, max_features=sqrt, max_depth=40, bootstrap=True, total=   0.7s"
     ]
    },
    {
     "name": "stderr",
     "output_type": "stream",
     "text": [
      "[Parallel(n_jobs=-1)]: Done 300 out of 300 | elapsed:  1.0min finished\n"
     ]
    },
    {
     "data": {
      "text/plain": [
       "RandomizedSearchCV(cv=3, estimator=RandomForestClassifier(), n_iter=100,\n",
       "                   n_jobs=-1,\n",
       "                   param_distributions={'bootstrap': [True, False],\n",
       "                                        'max_depth': [10, 20, 30, 40, 50, 60,\n",
       "                                                      70, 80, 90, 100, 110,\n",
       "                                                      None],\n",
       "                                        'max_features': ['auto', 'sqrt'],\n",
       "                                        'min_samples_leaf': [1, 2, 4],\n",
       "                                        'min_samples_split': [2, 5, 10],\n",
       "                                        'n_estimators': [103, 124, 146, 168,\n",
       "                                                         190, 212, 234, 256,\n",
       "                                                         278, 300]},\n",
       "                   random_state=42, verbose=2)"
      ]
     },
     "execution_count": 34,
     "metadata": {},
     "output_type": "execute_result"
    }
   ],
   "source": [
    "from sklearn.ensemble import RandomForestClassifier\n",
    "from sklearn.model_selection import train_test_split\n",
    "rf = RandomForestClassifier()\n",
    "rf_random = RandomizedSearchCV(estimator = rf, param_distributions = random_grid, n_iter = 100, cv = 3, verbose=2, random_state=42, n_jobs = -1)\n",
    "# Fit the random search model\n",
    "rf_random.fit(x_train, y_train)"
   ]
  },
  {
   "cell_type": "code",
   "execution_count": 35,
   "id": "d89da8c8",
   "metadata": {
    "execution": {
     "iopub.execute_input": "2021-12-08T16:21:21.545345Z",
     "iopub.status.busy": "2021-12-08T16:21:21.544637Z",
     "iopub.status.idle": "2021-12-08T16:21:21.548698Z",
     "shell.execute_reply": "2021-12-08T16:21:21.548138Z",
     "shell.execute_reply.started": "2021-12-08T16:16:20.556969Z"
    },
    "papermill": {
     "duration": 0.078959,
     "end_time": "2021-12-08T16:21:21.548855",
     "exception": false,
     "start_time": "2021-12-08T16:21:21.469896",
     "status": "completed"
    },
    "tags": []
   },
   "outputs": [
    {
     "data": {
      "text/plain": [
       "{'n_estimators': 124,\n",
       " 'min_samples_split': 10,\n",
       " 'min_samples_leaf': 2,\n",
       " 'max_features': 'sqrt',\n",
       " 'max_depth': 90,\n",
       " 'bootstrap': False}"
      ]
     },
     "execution_count": 35,
     "metadata": {},
     "output_type": "execute_result"
    }
   ],
   "source": [
    "rf_random.best_params_"
   ]
  },
  {
   "cell_type": "code",
   "execution_count": 36,
   "id": "0c735382",
   "metadata": {
    "execution": {
     "iopub.execute_input": "2021-12-08T16:21:21.693903Z",
     "iopub.status.busy": "2021-12-08T16:21:21.692827Z",
     "iopub.status.idle": "2021-12-08T16:21:22.344404Z",
     "shell.execute_reply": "2021-12-08T16:21:22.344944Z",
     "shell.execute_reply.started": "2021-12-08T16:18:14.544560Z"
    },
    "id": "vBFI7BsYGWuD",
    "outputId": "decdf52c-50df-4508-867a-d40df3d8186f",
    "papermill": {
     "duration": 0.726433,
     "end_time": "2021-12-08T16:21:22.345123",
     "exception": false,
     "start_time": "2021-12-08T16:21:21.618690",
     "status": "completed"
    },
    "tags": []
   },
   "outputs": [
    {
     "name": "stdout",
     "output_type": "stream",
     "text": [
      "              precision    recall  f1-score   support\n",
      "\n",
      "           0       0.82      0.85      0.83        92\n",
      "           1       0.89      0.88      0.88       136\n",
      "\n",
      "    accuracy                           0.86       228\n",
      "   macro avg       0.86      0.86      0.86       228\n",
      "weighted avg       0.87      0.86      0.86       228\n",
      "\n",
      "\n",
      "------------------------\n",
      "Confusion Matrix\n",
      "------------------------\n",
      "\n",
      "[[ 78  14]\n",
      " [ 17 119]]\n"
     ]
    },
    {
     "data": {
      "image/png": "[encoded data removed]",
      "text/plain": [
       "<Figure size 576x396 with 2 Axes>"
      ]
     },
     "metadata": {},
     "output_type": "display_data"
    }
   ],
   "source": [
    "from sklearn.ensemble import RandomForestClassifier\n",
    "from sklearn.model_selection import train_test_split\n",
    "x_train, x_test, y_train, y_test = train_test_split(x_pca, df['HeartDisease'], test_size=0.25, random_state=0)\n",
    "clf=RandomForestClassifier(n_estimators=124,min_samples_split= 2,\n",
    "                           min_samples_leaf= 1,max_features='sqrt',max_depth=None, bootstrap=False)\n",
    "clf.fit(x_train,y_train)\n",
    "y_pred=clf.predict(x_test)\n",
    "import warnings\n",
    "warnings.filterwarnings(\"ignore\")\n",
    "print(classification_report(y_test, y_pred))\n",
    "print('')\n",
    "print('------------------------')\n",
    "print('Confusion Matrix')\n",
    "print('------------------------')\n",
    "print('')\n",
    "from sklearn.metrics import confusion_matrix\n",
    "from sklearn.metrics import plot_confusion_matrix\n",
    "print(confusion_matrix(y_test, y_pred))\n",
    "plot_confusion_matrix(clf, x_test, y_test,cmap=\"binary\") \n",
    "plt.grid(False)\n",
    "plt.show()"
   ]
  },
  {
   "cell_type": "markdown",
   "id": "f8e0dae9",
   "metadata": {
    "id": "93caxl1y00uo",
    "papermill": {
     "duration": 0.070022,
     "end_time": "2021-12-08T16:21:22.484103",
     "exception": false,
     "start_time": "2021-12-08T16:21:22.414081",
     "status": "completed"
    },
    "tags": []
   },
   "source": [
    "6.4 Support Vector Machine (Radial Basis Function Kernel) with Grid Search CV"
   ]
  },
  {
   "cell_type": "code",
   "execution_count": 37,
   "id": "ec3ce428",
   "metadata": {
    "execution": {
     "iopub.execute_input": "2021-12-08T16:21:22.627833Z",
     "iopub.status.busy": "2021-12-08T16:21:22.626824Z",
     "iopub.status.idle": "2021-12-08T16:21:25.024116Z",
     "shell.execute_reply": "2021-12-08T16:21:25.023464Z",
     "shell.execute_reply.started": "2021-12-08T16:18:48.881948Z"
    },
    "id": "BIYCSORCHLJM",
    "outputId": "eef3de6a-1cb5-4dd8-cff3-d79063bb93c6",
    "papermill": {
     "duration": 2.471012,
     "end_time": "2021-12-08T16:21:25.024261",
     "exception": false,
     "start_time": "2021-12-08T16:21:22.553249",
     "status": "completed"
    },
    "tags": []
   },
   "outputs": [
    {
     "name": "stdout",
     "output_type": "stream",
     "text": [
      "Fitting 5 folds for each of 25 candidates, totalling 125 fits\n",
      "[CV] C=0.1, gamma=1, kernel=rbf ......................................\n",
      "[CV] .......... C=0.1, gamma=1, kernel=rbf, score=0.533, total=   0.0s\n",
      "[CV] C=0.1, gamma=1, kernel=rbf ......................................\n",
      "[CV] .......... C=0.1, gamma=1, kernel=rbf, score=0.540, total=   0.0s\n",
      "[CV] C=0.1, gamma=1, kernel=rbf ......................................\n",
      "[CV] .......... C=0.1, gamma=1, kernel=rbf, score=0.540, total=   0.0s\n",
      "[CV] C=0.1, gamma=1, kernel=rbf ......................................\n",
      "[CV] .......... C=0.1, gamma=1, kernel=rbf, score=0.540, total=   0.0s\n",
      "[CV] C=0.1, gamma=1, kernel=rbf ......................................\n",
      "[CV] .......... C=0.1, gamma=1, kernel=rbf, score=0.537, total=   0.0s\n",
      "[CV] C=0.1, gamma=0.1, kernel=rbf ....................................\n",
      "[CV] ........ C=0.1, gamma=0.1, kernel=rbf, score=0.869, total=   0.0s\n",
      "[CV] C=0.1, gamma=0.1, kernel=rbf ....................................\n",
      "[CV] ........ C=0.1, gamma=0.1, kernel=rbf, score=0.861, total=   0.0s\n",
      "[CV] C=0.1, gamma=0.1, kernel=rbf ....................................\n",
      "[CV] ........ C=0.1, gamma=0.1, kernel=rbf, score=0.861, total=   0.0s\n",
      "[CV] C=0.1, gamma=0.1, kernel=rbf ....................................\n",
      "[CV] ........ C=0.1, gamma=0.1, kernel=rbf, score=0.825, total=   0.0s\n",
      "[CV] C=0.1, gamma=0.1, kernel=rbf ....................................\n",
      "[CV] ........ C=0.1, gamma=0.1, kernel=rbf, score=0.838, total=   0.0s\n",
      "[CV] C=0.1, gamma=0.01, kernel=rbf ...................................\n",
      "[CV] ....... C=0.1, gamma=0.01, kernel=rbf, score=0.876, total=   0.0s\n",
      "[CV] C=0.1, gamma=0.01, kernel=rbf ...................................\n"
     ]
    },
    {
     "name": "stderr",
     "output_type": "stream",
     "text": [
      "[Parallel(n_jobs=1)]: Using backend SequentialBackend with 1 concurrent workers.\n",
      "[Parallel(n_jobs=1)]: Done   1 out of   1 | elapsed:    0.0s remaining:    0.0s\n",
      "[Parallel(n_jobs=1)]: Done   2 out of   2 | elapsed:    0.0s remaining:    0.0s\n"
     ]
    },
    {
     "name": "stdout",
     "output_type": "stream",
     "text": [
      "[CV] ....... C=0.1, gamma=0.01, kernel=rbf, score=0.839, total=   0.0s\n",
      "[CV] C=0.1, gamma=0.01, kernel=rbf ...................................\n",
      "[CV] ....... C=0.1, gamma=0.01, kernel=rbf, score=0.861, total=   0.0s\n",
      "[CV] C=0.1, gamma=0.01, kernel=rbf ...................................\n",
      "[CV] ....... C=0.1, gamma=0.01, kernel=rbf, score=0.796, total=   0.0s\n",
      "[CV] C=0.1, gamma=0.01, kernel=rbf ...................................\n",
      "[CV] ....... C=0.1, gamma=0.01, kernel=rbf, score=0.838, total=   0.0s\n",
      "[CV] C=0.1, gamma=0.001, kernel=rbf ..................................\n",
      "[CV] ...... C=0.1, gamma=0.001, kernel=rbf, score=0.533, total=   0.0s\n",
      "[CV] C=0.1, gamma=0.001, kernel=rbf ..................................\n",
      "[CV] ...... C=0.1, gamma=0.001, kernel=rbf, score=0.540, total=   0.0s\n",
      "[CV] C=0.1, gamma=0.001, kernel=rbf ..................................\n",
      "[CV] ...... C=0.1, gamma=0.001, kernel=rbf, score=0.540, total=   0.0s\n",
      "[CV] C=0.1, gamma=0.001, kernel=rbf ..................................\n",
      "[CV] ...... C=0.1, gamma=0.001, kernel=rbf, score=0.540, total=   0.0s\n",
      "[CV] C=0.1, gamma=0.001, kernel=rbf ..................................\n",
      "[CV] ...... C=0.1, gamma=0.001, kernel=rbf, score=0.537, total=   0.0s\n",
      "[CV] C=0.1, gamma=0.0001, kernel=rbf .................................\n",
      "[CV] ..... C=0.1, gamma=0.0001, kernel=rbf, score=0.533, total=   0.0s\n",
      "[CV] C=0.1, gamma=0.0001, kernel=rbf .................................\n",
      "[CV] ..... C=0.1, gamma=0.0001, kernel=rbf, score=0.540, total=   0.0s\n",
      "[CV] C=0.1, gamma=0.0001, kernel=rbf .................................\n",
      "[CV] ..... C=0.1, gamma=0.0001, kernel=rbf, score=0.540, total=   0.0s\n",
      "[CV] C=0.1, gamma=0.0001, kernel=rbf .................................\n",
      "[CV] ..... C=0.1, gamma=0.0001, kernel=rbf, score=0.540, total=   0.0s\n",
      "[CV] C=0.1, gamma=0.0001, kernel=rbf .................................\n",
      "[CV] ..... C=0.1, gamma=0.0001, kernel=rbf, score=0.537, total=   0.0s\n",
      "[CV] C=1, gamma=1, kernel=rbf ........................................\n",
      "[CV] ............ C=1, gamma=1, kernel=rbf, score=0.766, total=   0.0s\n",
      "[CV] C=1, gamma=1, kernel=rbf ........................................\n",
      "[CV] ............ C=1, gamma=1, kernel=rbf, score=0.701, total=   0.0s\n",
      "[CV] C=1, gamma=1, kernel=rbf ........................................\n",
      "[CV] ............ C=1, gamma=1, kernel=rbf, score=0.759, total=   0.0s\n",
      "[CV] C=1, gamma=1, kernel=rbf ........................................\n",
      "[CV] ............ C=1, gamma=1, kernel=rbf, score=0.723, total=   0.0s\n",
      "[CV] C=1, gamma=1, kernel=rbf ........................................\n",
      "[CV] ............ C=1, gamma=1, kernel=rbf, score=0.713, total=   0.0s\n",
      "[CV] C=1, gamma=0.1, kernel=rbf ......................................\n",
      "[CV] .......... C=1, gamma=0.1, kernel=rbf, score=0.883, total=   0.0s\n",
      "[CV] C=1, gamma=0.1, kernel=rbf ......................................\n",
      "[CV] .......... C=1, gamma=0.1, kernel=rbf, score=0.861, total=   0.0s\n",
      "[CV] C=1, gamma=0.1, kernel=rbf ......................................\n",
      "[CV] .......... C=1, gamma=0.1, kernel=rbf, score=0.883, total=   0.0s\n",
      "[CV] C=1, gamma=0.1, kernel=rbf ......................................\n",
      "[CV] .......... C=1, gamma=0.1, kernel=rbf, score=0.810, total=   0.0s\n",
      "[CV] C=1, gamma=0.1, kernel=rbf ......................................\n",
      "[CV] .......... C=1, gamma=0.1, kernel=rbf, score=0.853, total=   0.0s\n",
      "[CV] C=1, gamma=0.01, kernel=rbf .....................................\n",
      "[CV] ......... C=1, gamma=0.01, kernel=rbf, score=0.883, total=   0.0s\n",
      "[CV] C=1, gamma=0.01, kernel=rbf .....................................\n",
      "[CV] ......... C=1, gamma=0.01, kernel=rbf, score=0.839, total=   0.0s\n",
      "[CV] C=1, gamma=0.01, kernel=rbf .....................................\n",
      "[CV] ......... C=1, gamma=0.01, kernel=rbf, score=0.876, total=   0.0s\n",
      "[CV] C=1, gamma=0.01, kernel=rbf .....................................\n",
      "[CV] ......... C=1, gamma=0.01, kernel=rbf, score=0.803, total=   0.0s\n",
      "[CV] C=1, gamma=0.01, kernel=rbf .....................................\n",
      "[CV] ......... C=1, gamma=0.01, kernel=rbf, score=0.838, total=   0.0s\n",
      "[CV] C=1, gamma=0.001, kernel=rbf ....................................\n",
      "[CV] ........ C=1, gamma=0.001, kernel=rbf, score=0.876, total=   0.0s\n",
      "[CV] C=1, gamma=0.001, kernel=rbf ....................................\n",
      "[CV] ........ C=1, gamma=0.001, kernel=rbf, score=0.810, total=   0.0s\n",
      "[CV] C=1, gamma=0.001, kernel=rbf ....................................\n",
      "[CV] ........ C=1, gamma=0.001, kernel=rbf, score=0.861, total=   0.0s\n",
      "[CV] C=1, gamma=0.001, kernel=rbf ....................................\n",
      "[CV] ........ C=1, gamma=0.001, kernel=rbf, score=0.796, total=   0.0s\n",
      "[CV] C=1, gamma=0.001, kernel=rbf ....................................\n",
      "[CV] ........ C=1, gamma=0.001, kernel=rbf, score=0.838, total=   0.0s\n",
      "[CV] C=1, gamma=0.0001, kernel=rbf ...................................\n",
      "[CV] ....... C=1, gamma=0.0001, kernel=rbf, score=0.533, total=   0.0s\n",
      "[CV] C=1, gamma=0.0001, kernel=rbf ...................................\n",
      "[CV] ....... C=1, gamma=0.0001, kernel=rbf, score=0.540, total=   0.0s\n",
      "[CV] C=1, gamma=0.0001, kernel=rbf ...................................\n",
      "[CV] ....... C=1, gamma=0.0001, kernel=rbf, score=0.540, total=   0.0s\n",
      "[CV] C=1, gamma=0.0001, kernel=rbf ...................................\n",
      "[CV] ....... C=1, gamma=0.0001, kernel=rbf, score=0.540, total=   0.0s\n",
      "[CV] C=1, gamma=0.0001, kernel=rbf ...................................\n",
      "[CV] ....... C=1, gamma=0.0001, kernel=rbf, score=0.537, total=   0.0s\n",
      "[CV] C=10, gamma=1, kernel=rbf .......................................\n",
      "[CV] ........... C=10, gamma=1, kernel=rbf, score=0.766, total=   0.0s\n",
      "[CV] C=10, gamma=1, kernel=rbf .......................................\n",
      "[CV] ........... C=10, gamma=1, kernel=rbf, score=0.723, total=   0.0s\n",
      "[CV] C=10, gamma=1, kernel=rbf .......................................\n",
      "[CV] ........... C=10, gamma=1, kernel=rbf, score=0.788, total=   0.0s\n",
      "[CV] C=10, gamma=1, kernel=rbf .......................................\n",
      "[CV] ........... C=10, gamma=1, kernel=rbf, score=0.723, total=   0.0s\n",
      "[CV] C=10, gamma=1, kernel=rbf .......................................\n",
      "[CV] ........... C=10, gamma=1, kernel=rbf, score=0.721, total=   0.0s\n",
      "[CV] C=10, gamma=0.1, kernel=rbf .....................................\n",
      "[CV] ......... C=10, gamma=0.1, kernel=rbf, score=0.891, total=   0.0s\n",
      "[CV] C=10, gamma=0.1, kernel=rbf .....................................\n",
      "[CV] ......... C=10, gamma=0.1, kernel=rbf, score=0.810, total=   0.0s\n",
      "[CV] C=10, gamma=0.1, kernel=rbf .....................................\n",
      "[CV] ......... C=10, gamma=0.1, kernel=rbf, score=0.869, total=   0.0s\n",
      "[CV] C=10, gamma=0.1, kernel=rbf .....................................\n",
      "[CV] ......... C=10, gamma=0.1, kernel=rbf, score=0.818, total=   0.0s\n",
      "[CV] C=10, gamma=0.1, kernel=rbf .....................................\n",
      "[CV] ......... C=10, gamma=0.1, kernel=rbf, score=0.868, total=   0.0s\n",
      "[CV] C=10, gamma=0.01, kernel=rbf ....................................\n",
      "[CV] ........ C=10, gamma=0.01, kernel=rbf, score=0.869, total=   0.0s\n",
      "[CV] C=10, gamma=0.01, kernel=rbf ....................................\n",
      "[CV] ........ C=10, gamma=0.01, kernel=rbf, score=0.876, total=   0.0s\n",
      "[CV] C=10, gamma=0.01, kernel=rbf ....................................\n",
      "[CV] ........ C=10, gamma=0.01, kernel=rbf, score=0.898, total=   0.0s\n",
      "[CV] C=10, gamma=0.01, kernel=rbf ....................................\n",
      "[CV] ........ C=10, gamma=0.01, kernel=rbf, score=0.803, total=   0.0s\n",
      "[CV] C=10, gamma=0.01, kernel=rbf ....................................\n",
      "[CV] ........ C=10, gamma=0.01, kernel=rbf, score=0.853, total=   0.0s\n",
      "[CV] C=10, gamma=0.001, kernel=rbf ...................................\n",
      "[CV] ....... C=10, gamma=0.001, kernel=rbf, score=0.891, total=   0.0s\n",
      "[CV] C=10, gamma=0.001, kernel=rbf ...................................\n",
      "[CV] ....... C=10, gamma=0.001, kernel=rbf, score=0.832, total=   0.0s\n",
      "[CV] C=10, gamma=0.001, kernel=rbf ...................................\n",
      "[CV] ....... C=10, gamma=0.001, kernel=rbf, score=0.876, total=   0.0s\n",
      "[CV] C=10, gamma=0.001, kernel=rbf ...................................\n",
      "[CV] ....... C=10, gamma=0.001, kernel=rbf, score=0.810, total=   0.0s\n",
      "[CV] C=10, gamma=0.001, kernel=rbf ...................................\n",
      "[CV] ....... C=10, gamma=0.001, kernel=rbf, score=0.838, total=   0.0s\n",
      "[CV] C=10, gamma=0.0001, kernel=rbf ..................................\n",
      "[CV] ...... C=10, gamma=0.0001, kernel=rbf, score=0.876, total=   0.0s\n",
      "[CV] C=10, gamma=0.0001, kernel=rbf ..................................\n",
      "[CV] ...... C=10, gamma=0.0001, kernel=rbf, score=0.810, total=   0.0s\n",
      "[CV] C=10, gamma=0.0001, kernel=rbf ..................................\n",
      "[CV] ...... C=10, gamma=0.0001, kernel=rbf, score=0.861, total=   0.0s\n",
      "[CV] C=10, gamma=0.0001, kernel=rbf ..................................\n",
      "[CV] ...... C=10, gamma=0.0001, kernel=rbf, score=0.796, total=   0.0s\n",
      "[CV] C=10, gamma=0.0001, kernel=rbf ..................................\n",
      "[CV] ...... C=10, gamma=0.0001, kernel=rbf, score=0.838, total=   0.0s\n",
      "[CV] C=100, gamma=1, kernel=rbf ......................................\n",
      "[CV] .......... C=100, gamma=1, kernel=rbf, score=0.766, total=   0.0s\n",
      "[CV] C=100, gamma=1, kernel=rbf ......................................\n",
      "[CV] .......... C=100, gamma=1, kernel=rbf, score=0.723, total=   0.0s\n",
      "[CV] C=100, gamma=1, kernel=rbf ......................................\n",
      "[CV] .......... C=100, gamma=1, kernel=rbf, score=0.788, total=   0.0s\n",
      "[CV] C=100, gamma=1, kernel=rbf ......................................\n",
      "[CV] .......... C=100, gamma=1, kernel=rbf, score=0.723, total=   0.0s\n",
      "[CV] C=100, gamma=1, kernel=rbf ......................................\n",
      "[CV] .......... C=100, gamma=1, kernel=rbf, score=0.721, total=   0.0s\n",
      "[CV] C=100, gamma=0.1, kernel=rbf ....................................\n",
      "[CV] ........ C=100, gamma=0.1, kernel=rbf, score=0.825, total=   0.0s\n",
      "[CV] C=100, gamma=0.1, kernel=rbf ....................................\n",
      "[CV] ........ C=100, gamma=0.1, kernel=rbf, score=0.803, total=   0.0s\n",
      "[CV] C=100, gamma=0.1, kernel=rbf ....................................\n",
      "[CV] ........ C=100, gamma=0.1, kernel=rbf, score=0.876, total=   0.0s\n",
      "[CV] C=100, gamma=0.1, kernel=rbf ....................................\n",
      "[CV] ........ C=100, gamma=0.1, kernel=rbf, score=0.759, total=   0.0s\n",
      "[CV] C=100, gamma=0.1, kernel=rbf ....................................\n",
      "[CV] ........ C=100, gamma=0.1, kernel=rbf, score=0.838, total=   0.0s\n",
      "[CV] C=100, gamma=0.01, kernel=rbf ...................................\n",
      "[CV] ....... C=100, gamma=0.01, kernel=rbf, score=0.891, total=   0.0s\n",
      "[CV] C=100, gamma=0.01, kernel=rbf ...................................\n",
      "[CV] ....... C=100, gamma=0.01, kernel=rbf, score=0.839, total=   0.0s\n",
      "[CV] C=100, gamma=0.01, kernel=rbf ...................................\n",
      "[CV] ....... C=100, gamma=0.01, kernel=rbf, score=0.869, total=   0.0s\n",
      "[CV] C=100, gamma=0.01, kernel=rbf ...................................\n",
      "[CV] ....... C=100, gamma=0.01, kernel=rbf, score=0.825, total=   0.0s\n",
      "[CV] C=100, gamma=0.01, kernel=rbf ...................................\n",
      "[CV] ....... C=100, gamma=0.01, kernel=rbf, score=0.846, total=   0.0s\n",
      "[CV] C=100, gamma=0.001, kernel=rbf ..................................\n",
      "[CV] ...... C=100, gamma=0.001, kernel=rbf, score=0.898, total=   0.0s\n",
      "[CV] C=100, gamma=0.001, kernel=rbf ..................................\n",
      "[CV] ...... C=100, gamma=0.001, kernel=rbf, score=0.861, total=   0.0s\n",
      "[CV] C=100, gamma=0.001, kernel=rbf ..................................\n",
      "[CV] ...... C=100, gamma=0.001, kernel=rbf, score=0.876, total=   0.0s\n",
      "[CV] C=100, gamma=0.001, kernel=rbf ..................................\n",
      "[CV] ...... C=100, gamma=0.001, kernel=rbf, score=0.810, total=   0.0s\n",
      "[CV] C=100, gamma=0.001, kernel=rbf ..................................\n",
      "[CV] ...... C=100, gamma=0.001, kernel=rbf, score=0.838, total=   0.0s\n",
      "[CV] C=100, gamma=0.0001, kernel=rbf .................................\n",
      "[CV] ..... C=100, gamma=0.0001, kernel=rbf, score=0.891, total=   0.0s\n",
      "[CV] C=100, gamma=0.0001, kernel=rbf .................................\n",
      "[CV] ..... C=100, gamma=0.0001, kernel=rbf, score=0.825, total=   0.0s\n",
      "[CV] C=100, gamma=0.0001, kernel=rbf .................................\n",
      "[CV] ..... C=100, gamma=0.0001, kernel=rbf, score=0.876, total=   0.0s\n",
      "[CV] C=100, gamma=0.0001, kernel=rbf .................................\n",
      "[CV] ..... C=100, gamma=0.0001, kernel=rbf, score=0.810, total=   0.0s\n",
      "[CV] C=100, gamma=0.0001, kernel=rbf .................................\n",
      "[CV] ..... C=100, gamma=0.0001, kernel=rbf, score=0.838, total=   0.0s\n",
      "[CV] C=1000, gamma=1, kernel=rbf .....................................\n",
      "[CV] ......... C=1000, gamma=1, kernel=rbf, score=0.766, total=   0.0s\n",
      "[CV] C=1000, gamma=1, kernel=rbf .....................................\n",
      "[CV] ......... C=1000, gamma=1, kernel=rbf, score=0.723, total=   0.0s\n",
      "[CV] C=1000, gamma=1, kernel=rbf .....................................\n",
      "[CV] ......... C=1000, gamma=1, kernel=rbf, score=0.788, total=   0.0s\n",
      "[CV] C=1000, gamma=1, kernel=rbf .....................................\n",
      "[CV] ......... C=1000, gamma=1, kernel=rbf, score=0.723, total=   0.0s\n",
      "[CV] C=1000, gamma=1, kernel=rbf .....................................\n",
      "[CV] ......... C=1000, gamma=1, kernel=rbf, score=0.721, total=   0.0s\n",
      "[CV] C=1000, gamma=0.1, kernel=rbf ...................................\n",
      "[CV] ....... C=1000, gamma=0.1, kernel=rbf, score=0.803, total=   0.0s\n",
      "[CV] C=1000, gamma=0.1, kernel=rbf ...................................\n",
      "[CV] ....... C=1000, gamma=0.1, kernel=rbf, score=0.781, total=   0.0s\n",
      "[CV] C=1000, gamma=0.1, kernel=rbf ...................................\n",
      "[CV] ....... C=1000, gamma=0.1, kernel=rbf, score=0.832, total=   0.0s\n",
      "[CV] C=1000, gamma=0.1, kernel=rbf ...................................\n",
      "[CV] ....... C=1000, gamma=0.1, kernel=rbf, score=0.774, total=   0.0s\n",
      "[CV] C=1000, gamma=0.1, kernel=rbf ...................................\n",
      "[CV] ....... C=1000, gamma=0.1, kernel=rbf, score=0.838, total=   0.0s\n",
      "[CV] C=1000, gamma=0.01, kernel=rbf ..................................\n",
      "[CV] ...... C=1000, gamma=0.01, kernel=rbf, score=0.883, total=   0.1s\n",
      "[CV] C=1000, gamma=0.01, kernel=rbf ..................................\n",
      "[CV] ...... C=1000, gamma=0.01, kernel=rbf, score=0.788, total=   0.1s\n",
      "[CV] C=1000, gamma=0.01, kernel=rbf ..................................\n",
      "[CV] ...... C=1000, gamma=0.01, kernel=rbf, score=0.876, total=   0.1s\n",
      "[CV] C=1000, gamma=0.01, kernel=rbf ..................................\n",
      "[CV] ...... C=1000, gamma=0.01, kernel=rbf, score=0.803, total=   0.1s\n",
      "[CV] C=1000, gamma=0.01, kernel=rbf ..................................\n",
      "[CV] ...... C=1000, gamma=0.01, kernel=rbf, score=0.875, total=   0.1s\n",
      "[CV] C=1000, gamma=0.001, kernel=rbf .................................\n",
      "[CV] ..... C=1000, gamma=0.001, kernel=rbf, score=0.869, total=   0.0s\n",
      "[CV] C=1000, gamma=0.001, kernel=rbf .................................\n",
      "[CV] ..... C=1000, gamma=0.001, kernel=rbf, score=0.876, total=   0.0s\n",
      "[CV] C=1000, gamma=0.001, kernel=rbf .................................\n",
      "[CV] ..... C=1000, gamma=0.001, kernel=rbf, score=0.898, total=   0.0s\n",
      "[CV] C=1000, gamma=0.001, kernel=rbf .................................\n",
      "[CV] ..... C=1000, gamma=0.001, kernel=rbf, score=0.810, total=   0.0s\n",
      "[CV] C=1000, gamma=0.001, kernel=rbf .................................\n",
      "[CV] ..... C=1000, gamma=0.001, kernel=rbf, score=0.853, total=   0.0s\n",
      "[CV] C=1000, gamma=0.0001, kernel=rbf ................................\n",
      "[CV] .... C=1000, gamma=0.0001, kernel=rbf, score=0.898, total=   0.0s\n",
      "[CV] C=1000, gamma=0.0001, kernel=rbf ................................\n",
      "[CV] .... C=1000, gamma=0.0001, kernel=rbf, score=0.854, total=   0.0s\n",
      "[CV] C=1000, gamma=0.0001, kernel=rbf ................................\n",
      "[CV] .... C=1000, gamma=0.0001, kernel=rbf, score=0.869, total=   0.0s\n",
      "[CV] C=1000, gamma=0.0001, kernel=rbf ................................\n",
      "[CV] .... C=1000, gamma=0.0001, kernel=rbf, score=0.818, total=   0.0s\n",
      "[CV] C=1000, gamma=0.0001, kernel=rbf ................................\n",
      "[CV] .... C=1000, gamma=0.0001, kernel=rbf, score=0.831, total=   0.0s\n"
     ]
    },
    {
     "name": "stderr",
     "output_type": "stream",
     "text": [
      "[Parallel(n_jobs=1)]: Done 125 out of 125 | elapsed:    2.4s finished\n"
     ]
    },
    {
     "data": {
      "text/plain": [
       "GridSearchCV(cv=5, estimator=SVC(),\n",
       "             param_grid={'C': [0.1, 1, 10, 100, 1000],\n",
       "                         'gamma': [1, 0.1, 0.01, 0.001, 0.0001],\n",
       "                         'kernel': ['rbf']},\n",
       "             verbose=3)"
      ]
     },
     "execution_count": 37,
     "metadata": {},
     "output_type": "execute_result"
    }
   ],
   "source": [
    "\n",
    "from sklearn.model_selection import GridSearchCV\n",
    "param_grid = {'C': [0.1, 1, 10, 100, 1000],\n",
    "\t\t\t'gamma': [1, 0.1, 0.01, 0.001, 0.0001],\n",
    "\t\t\t'kernel': ['rbf']}\n",
    "\n",
    "grid = GridSearchCV(SVC(), param_grid, refit = True, verbose = 3, cv=5)\n",
    "grid.fit(x_train, y_train)\n"
   ]
  },
  {
   "cell_type": "code",
   "execution_count": 38,
   "id": "cbc7de05",
   "metadata": {
    "execution": {
     "iopub.execute_input": "2021-12-08T16:21:25.182729Z",
     "iopub.status.busy": "2021-12-08T16:21:25.181992Z",
     "iopub.status.idle": "2021-12-08T16:21:25.420783Z",
     "shell.execute_reply": "2021-12-08T16:21:25.420239Z",
     "shell.execute_reply.started": "2021-12-08T16:18:51.302402Z"
    },
    "id": "jiPjJwX5IwfA",
    "outputId": "fb184601-462e-4171-8e45-127e8ab725a5",
    "papermill": {
     "duration": 0.321556,
     "end_time": "2021-12-08T16:21:25.420930",
     "exception": false,
     "start_time": "2021-12-08T16:21:25.099374",
     "status": "completed"
    },
    "tags": []
   },
   "outputs": [
    {
     "name": "stdout",
     "output_type": "stream",
     "text": [
      "{'C': 1000, 'gamma': 0.001, 'kernel': 'rbf'}\n",
      "SVC(C=1000, gamma=0.001)\n",
      "              precision    recall  f1-score   support\n",
      "\n",
      "           0       0.82      0.88      0.85        92\n",
      "           1       0.91      0.87      0.89       136\n",
      "\n",
      "    accuracy                           0.87       228\n",
      "   macro avg       0.87      0.87      0.87       228\n",
      "weighted avg       0.88      0.87      0.87       228\n",
      "\n",
      "\n",
      "------------------------\n",
      "Confusion Matrix\n",
      "------------------------\n",
      "\n",
      "[[ 81  11]\n",
      " [ 18 118]]\n"
     ]
    },
    {
     "data": {
      "image/png": "[encoded data removed]",
      "text/plain": [
       "<Figure size 576x396 with 2 Axes>"
      ]
     },
     "metadata": {},
     "output_type": "display_data"
    }
   ],
   "source": [
    "print(grid.best_params_)\n",
    "print(grid.best_estimator_)\n",
    "y_pred = grid.predict(x_test)\n",
    "print(classification_report(y_test, y_pred))\n",
    "print('')\n",
    "print('------------------------')\n",
    "print('Confusion Matrix')\n",
    "print('------------------------')\n",
    "print('')\n",
    "from sklearn.metrics import confusion_matrix\n",
    "from sklearn.metrics import plot_confusion_matrix\n",
    "print(confusion_matrix(y_test, y_pred))\n",
    "plot_confusion_matrix(grid, x_test, y_test,cmap=\"binary\") \n",
    "plt.grid(False)\n",
    "plt.show()\n",
    "\n"
   ]
  },
  {
   "cell_type": "markdown",
   "id": "b3f7cc38",
   "metadata": {
    "id": "cZLmbrLf1J68",
    "papermill": {
     "duration": 0.075067,
     "end_time": "2021-12-08T16:21:25.571056",
     "exception": false,
     "start_time": "2021-12-08T16:21:25.495989",
     "status": "completed"
    },
    "tags": []
   },
   "source": [
    "6.5 Neural Network Using Tensor flow "
   ]
  },
  {
   "cell_type": "code",
   "execution_count": 39,
   "id": "06d5ceb0",
   "metadata": {
    "execution": {
     "iopub.execute_input": "2021-12-08T16:21:25.730303Z",
     "iopub.status.busy": "2021-12-08T16:21:25.729620Z",
     "iopub.status.idle": "2021-12-08T16:21:39.164007Z",
     "shell.execute_reply": "2021-12-08T16:21:39.163378Z",
     "shell.execute_reply.started": "2021-12-08T16:18:51.554209Z"
    },
    "id": "jGPul0XOYki3",
    "outputId": "770a9da8-ba1e-4e39-f13f-6f82be29e36d",
    "papermill": {
     "duration": 13.517451,
     "end_time": "2021-12-08T16:21:39.164174",
     "exception": false,
     "start_time": "2021-12-08T16:21:25.646723",
     "status": "completed"
    },
    "tags": []
   },
   "outputs": [
    {
     "name": "stderr",
     "output_type": "stream",
     "text": [
      "\n",
      "User settings:\n",
      "\n",
      "   KMP_AFFINITY=granularity=fine,verbose,compact,1,0\n",
      "   KMP_BLOCKTIME=0\n",
      "   KMP_DUPLICATE_LIB_OK=True\n",
      "   KMP_INIT_AT_FORK=FALSE\n",
      "   KMP_SETTINGS=1\n",
      "   KMP_WARNINGS=0\n",
      "\n",
      "Effective settings:\n",
      "\n",
      "   KMP_ABORT_DELAY=0\n",
      "   KMP_ADAPTIVE_LOCK_PROPS='1,1024'\n",
      "   KMP_ALIGN_ALLOC=64\n",
      "   KMP_ALL_THREADPRIVATE=128\n",
      "   KMP_ATOMIC_MODE=2\n",
      "   KMP_BLOCKTIME=0\n",
      "   KMP_CPUINFO_FILE: value is not defined\n",
      "   KMP_DETERMINISTIC_REDUCTION=false\n",
      "   KMP_DEVICE_THREAD_LIMIT=2147483647\n",
      "   KMP_DISP_NUM_BUFFERS=7\n",
      "   KMP_DUPLICATE_LIB_OK=true\n",
      "   KMP_ENABLE_TASK_THROTTLING=true\n",
      "   KMP_FORCE_REDUCTION: value is not defined\n",
      "   KMP_FOREIGN_THREADS_THREADPRIVATE=true\n",
      "   KMP_FORKJOIN_BARRIER='2,2'\n",
      "   KMP_FORKJOIN_BARRIER_PATTERN='hyper,hyper'\n",
      "   KMP_GTID_MODE=3\n",
      "   KMP_HANDLE_SIGNALS=false\n",
      "   KMP_HOT_TEAMS_MAX_LEVEL=1\n",
      "   KMP_HOT_TEAMS_MODE=0\n",
      "   KMP_INIT_AT_FORK=true\n",
      "   KMP_LIBRARY=throughput\n",
      "   KMP_LOCK_KIND=queuing\n",
      "   KMP_MALLOC_POOL_INCR=1M\n",
      "   KMP_NUM_LOCKS_IN_BLOCK=1\n",
      "   KMP_PLAIN_BARRIER='2,2'\n",
      "   KMP_PLAIN_BARRIER_PATTERN='hyper,hyper'\n",
      "   KMP_REDUCTION_BARRIER='1,1'\n",
      "   KMP_REDUCTION_BARRIER_PATTERN='hyper,hyper'\n",
      "   KMP_SCHEDULE='static,balanced;guided,iterative'\n",
      "   KMP_SETTINGS=true\n",
      "   KMP_SPIN_BACKOFF_PARAMS='4096,100'\n",
      "   KMP_STACKOFFSET=64\n",
      "   KMP_STACKPAD=0\n",
      "   KMP_STACKSIZE=8M\n",
      "   KMP_STORAGE_MAP=false\n",
      "   KMP_TASKING=2\n",
      "   KMP_TASKLOOP_MIN_TASKS=0\n",
      "   KMP_TASK_STEALING_CONSTRAINT=1\n",
      "   KMP_TEAMS_THREAD_LIMIT=4\n",
      "   KMP_TOPOLOGY_METHOD=all\n",
      "   KMP_USE_YIELD=1\n",
      "   KMP_VERSION=false\n",
      "   KMP_WARNINGS=false\n",
      "   OMP_AFFINITY_FORMAT='OMP: pid %P tid %i thread %n bound to OS proc set {%A}'\n",
      "   OMP_ALLOCATOR=omp_default_mem_alloc\n",
      "   OMP_CANCELLATION=false\n",
      "   OMP_DEFAULT_DEVICE=0\n",
      "   OMP_DISPLAY_AFFINITY=false\n",
      "   OMP_DISPLAY_ENV=false\n",
      "   OMP_DYNAMIC=false\n",
      "   OMP_MAX_ACTIVE_LEVELS=1\n",
      "   OMP_MAX_TASK_PRIORITY=0\n",
      "   OMP_NESTED: deprecated; max-active-levels-var=1\n",
      "   OMP_NUM_THREADS: value is not defined\n",
      "   OMP_PLACES: value is not defined\n",
      "   OMP_PROC_BIND='intel'\n",
      "   OMP_SCHEDULE='static'\n",
      "   OMP_STACKSIZE=8M\n",
      "   OMP_TARGET_OFFLOAD=DEFAULT\n",
      "   OMP_THREAD_LIMIT=2147483647\n",
      "   OMP_WAIT_POLICY=PASSIVE\n",
      "   KMP_AFFINITY='verbose,warnings,respect,granularity=fine,compact,1,0'\n",
      "\n",
      "2021-12-08 16:21:32.185826: I tensorflow/core/common_runtime/process_util.cc:146] Creating new thread pool with default inter op setting: 2. Tune using inter_op_parallelism_threads for best performance.\n",
      "2021-12-08 16:21:32.322518: I tensorflow/compiler/mlir/mlir_graph_optimization_pass.cc:185] None of the MLIR Optimization Passes are enabled (registered 2)\n"
     ]
    },
    {
     "name": "stdout",
     "output_type": "stream",
     "text": [
      "Epoch 1/100\n",
      "22/22 [==============================] - 1s 3ms/step - loss: 0.4474 - accuracy: 0.8041 - precision: 0.8047 - recall: 0.8397\n",
      "Epoch 2/100\n",
      "22/22 [==============================] - 0s 3ms/step - loss: 0.3378 - accuracy: 0.8699 - precision: 0.8514 - recall: 0.9185\n",
      "Epoch 3/100\n",
      "22/22 [==============================] - 0s 3ms/step - loss: 0.3214 - accuracy: 0.8801 - precision: 0.8743 - recall: 0.9076\n",
      "Epoch 4/100\n",
      "22/22 [==============================] - 0s 2ms/step - loss: 0.3046 - accuracy: 0.8787 - precision: 0.8645 - recall: 0.9185\n",
      "Epoch 5/100\n",
      "22/22 [==============================] - 0s 2ms/step - loss: 0.3017 - accuracy: 0.8874 - precision: 0.8819 - recall: 0.9130\n",
      "Epoch 6/100\n",
      "22/22 [==============================] - 0s 2ms/step - loss: 0.2981 - accuracy: 0.8787 - precision: 0.8780 - recall: 0.8995\n",
      "Epoch 7/100\n",
      "22/22 [==============================] - 0s 2ms/step - loss: 0.2764 - accuracy: 0.8845 - precision: 0.8813 - recall: 0.9076\n",
      "Epoch 8/100\n",
      "22/22 [==============================] - 0s 2ms/step - loss: 0.2817 - accuracy: 0.8816 - precision: 0.8806 - recall: 0.9022\n",
      "Epoch 9/100\n",
      "22/22 [==============================] - 0s 2ms/step - loss: 0.2623 - accuracy: 0.8991 - precision: 0.8966 - recall: 0.9185\n",
      "Epoch 10/100\n",
      "22/22 [==============================] - 0s 2ms/step - loss: 0.2589 - accuracy: 0.8977 - precision: 0.9027 - recall: 0.9076\n",
      "Epoch 11/100\n",
      "22/22 [==============================] - 0s 2ms/step - loss: 0.2363 - accuracy: 0.8991 - precision: 0.8903 - recall: 0.9266\n",
      "Epoch 12/100\n",
      "22/22 [==============================] - 0s 2ms/step - loss: 0.2462 - accuracy: 0.9006 - precision: 0.8927 - recall: 0.9266\n",
      "Epoch 13/100\n",
      "22/22 [==============================] - 0s 2ms/step - loss: 0.2464 - accuracy: 0.9108 - precision: 0.9029 - recall: 0.9348\n",
      "Epoch 14/100\n",
      "22/22 [==============================] - 0s 2ms/step - loss: 0.2178 - accuracy: 0.9094 - precision: 0.9069 - recall: 0.9266\n",
      "Epoch 15/100\n",
      "22/22 [==============================] - 0s 3ms/step - loss: 0.2012 - accuracy: 0.9254 - precision: 0.9366 - recall: 0.9239\n",
      "Epoch 16/100\n",
      "22/22 [==============================] - 0s 2ms/step - loss: 0.1986 - accuracy: 0.9225 - precision: 0.9245 - recall: 0.9321\n",
      "Epoch 17/100\n",
      "22/22 [==============================] - 0s 2ms/step - loss: 0.2049 - accuracy: 0.9137 - precision: 0.9256 - recall: 0.9130\n",
      "Epoch 18/100\n",
      "22/22 [==============================] - 0s 2ms/step - loss: 0.2012 - accuracy: 0.9094 - precision: 0.9113 - recall: 0.9212\n",
      "Epoch 19/100\n",
      "22/22 [==============================] - 0s 3ms/step - loss: 0.2147 - accuracy: 0.9225 - precision: 0.9245 - recall: 0.9321\n",
      "Epoch 20/100\n",
      "22/22 [==============================] - 0s 2ms/step - loss: 0.2063 - accuracy: 0.9123 - precision: 0.9162 - recall: 0.9212\n",
      "Epoch 21/100\n",
      "22/22 [==============================] - 0s 2ms/step - loss: 0.2040 - accuracy: 0.9181 - precision: 0.9127 - recall: 0.9375\n",
      "Epoch 22/100\n",
      "22/22 [==============================] - 0s 3ms/step - loss: 0.1833 - accuracy: 0.9240 - precision: 0.9247 - recall: 0.9348\n",
      "Epoch 23/100\n",
      "22/22 [==============================] - 0s 3ms/step - loss: 0.1802 - accuracy: 0.9240 - precision: 0.9270 - recall: 0.9321\n",
      "Epoch 24/100\n",
      "22/22 [==============================] - 0s 2ms/step - loss: 0.1746 - accuracy: 0.9298 - precision: 0.9420 - recall: 0.9266\n",
      "Epoch 25/100\n",
      "22/22 [==============================] - 0s 2ms/step - loss: 0.1869 - accuracy: 0.9284 - precision: 0.9322 - recall: 0.9348\n",
      "Epoch 26/100\n",
      "22/22 [==============================] - 0s 2ms/step - loss: 0.1640 - accuracy: 0.9371 - precision: 0.9526 - recall: 0.9293\n",
      "Epoch 27/100\n",
      "22/22 [==============================] - 0s 2ms/step - loss: 0.1195 - accuracy: 0.9459 - precision: 0.9559 - recall: 0.9429\n",
      "Epoch 28/100\n",
      "22/22 [==============================] - 0s 3ms/step - loss: 0.1115 - accuracy: 0.9547 - precision: 0.9591 - recall: 0.9565\n",
      "Epoch 29/100\n",
      "22/22 [==============================] - 0s 2ms/step - loss: 0.1153 - accuracy: 0.9503 - precision: 0.9538 - recall: 0.9538\n",
      "Epoch 30/100\n",
      "22/22 [==============================] - 0s 2ms/step - loss: 0.0948 - accuracy: 0.9693 - precision: 0.9677 - recall: 0.9755\n",
      "Epoch 31/100\n",
      "22/22 [==============================] - 0s 2ms/step - loss: 0.0834 - accuracy: 0.9649 - precision: 0.9649 - recall: 0.9701\n",
      "Epoch 32/100\n",
      "22/22 [==============================] - 0s 2ms/step - loss: 0.0930 - accuracy: 0.9605 - precision: 0.9547 - recall: 0.9728\n",
      "Epoch 33/100\n",
      "22/22 [==============================] - 0s 2ms/step - loss: 0.0971 - accuracy: 0.9620 - precision: 0.9548 - recall: 0.9755\n",
      "Epoch 34/100\n",
      "22/22 [==============================] - 0s 2ms/step - loss: 0.1102 - accuracy: 0.9547 - precision: 0.9542 - recall: 0.9620\n",
      "Epoch 35/100\n",
      "22/22 [==============================] - 0s 2ms/step - loss: 0.1202 - accuracy: 0.9503 - precision: 0.9489 - recall: 0.9592\n",
      "Epoch 36/100\n",
      "22/22 [==============================] - 0s 2ms/step - loss: 0.1527 - accuracy: 0.9474 - precision: 0.9511 - recall: 0.9511\n",
      "Epoch 37/100\n",
      "22/22 [==============================] - 0s 2ms/step - loss: 0.1231 - accuracy: 0.9532 - precision: 0.9541 - recall: 0.9592\n",
      "Epoch 38/100\n",
      "22/22 [==============================] - 0s 2ms/step - loss: 0.1024 - accuracy: 0.9547 - precision: 0.9493 - recall: 0.9674\n",
      "Epoch 39/100\n",
      "22/22 [==============================] - 0s 2ms/step - loss: 0.0936 - accuracy: 0.9620 - precision: 0.9572 - recall: 0.9728\n",
      "Epoch 40/100\n",
      "22/22 [==============================] - 0s 4ms/step - loss: 0.0719 - accuracy: 0.9635 - precision: 0.9573 - recall: 0.9755\n",
      "Epoch 41/100\n",
      "22/22 [==============================] - 0s 5ms/step - loss: 0.0525 - accuracy: 0.9751 - precision: 0.9680 - recall: 0.9864\n",
      "Epoch 42/100\n",
      "22/22 [==============================] - 0s 2ms/step - loss: 0.0636 - accuracy: 0.9722 - precision: 0.9629 - recall: 0.9864\n",
      "Epoch 43/100\n",
      "22/22 [==============================] - 0s 2ms/step - loss: 0.0565 - accuracy: 0.9781 - precision: 0.9707 - recall: 0.9891\n",
      "Epoch 44/100\n",
      "22/22 [==============================] - 0s 2ms/step - loss: 0.0532 - accuracy: 0.9781 - precision: 0.9732 - recall: 0.9864\n",
      "Epoch 45/100\n",
      "22/22 [==============================] - 0s 2ms/step - loss: 0.0551 - accuracy: 0.9751 - precision: 0.9705 - recall: 0.9837\n",
      "Epoch 46/100\n",
      "22/22 [==============================] - 0s 2ms/step - loss: 0.0895 - accuracy: 0.9664 - precision: 0.9675 - recall: 0.9701\n",
      "Epoch 47/100\n",
      "22/22 [==============================] - 0s 2ms/step - loss: 0.0995 - accuracy: 0.9547 - precision: 0.9493 - recall: 0.9674\n",
      "Epoch 48/100\n",
      "22/22 [==============================] - 0s 2ms/step - loss: 0.1105 - accuracy: 0.9561 - precision: 0.9471 - recall: 0.9728\n",
      "Epoch 49/100\n",
      "22/22 [==============================] - 0s 2ms/step - loss: 0.1035 - accuracy: 0.9547 - precision: 0.9377 - recall: 0.9810\n",
      "Epoch 50/100\n",
      "22/22 [==============================] - 0s 2ms/step - loss: 0.0807 - accuracy: 0.9664 - precision: 0.9481 - recall: 0.9918\n",
      "Epoch 51/100\n",
      "22/22 [==============================] - 0s 2ms/step - loss: 0.0652 - accuracy: 0.9708 - precision: 0.9603 - recall: 0.9864\n",
      "Epoch 52/100\n",
      "22/22 [==============================] - 0s 2ms/step - loss: 0.0721 - accuracy: 0.9722 - precision: 0.9834 - recall: 0.9647\n",
      "Epoch 53/100\n",
      "22/22 [==============================] - 0s 2ms/step - loss: 0.1226 - accuracy: 0.9561 - precision: 0.9543 - recall: 0.9647\n",
      "Epoch 54/100\n",
      "22/22 [==============================] - 0s 3ms/step - loss: 0.1035 - accuracy: 0.9547 - precision: 0.9423 - recall: 0.9755\n",
      "Epoch 55/100\n",
      "22/22 [==============================] - 0s 2ms/step - loss: 0.1259 - accuracy: 0.9474 - precision: 0.9392 - recall: 0.9647\n",
      "Epoch 56/100\n",
      "22/22 [==============================] - 0s 2ms/step - loss: 0.0723 - accuracy: 0.9591 - precision: 0.9497 - recall: 0.9755\n",
      "Epoch 57/100\n",
      "22/22 [==============================] - 0s 2ms/step - loss: 0.0675 - accuracy: 0.9664 - precision: 0.9675 - recall: 0.9701\n",
      "Epoch 58/100\n",
      "22/22 [==============================] - 0s 2ms/step - loss: 0.1377 - accuracy: 0.9561 - precision: 0.9669 - recall: 0.9511\n",
      "Epoch 59/100\n",
      "22/22 [==============================] - 0s 2ms/step - loss: 0.3918 - accuracy: 0.9327 - precision: 0.9215 - recall: 0.9565\n",
      "Epoch 60/100\n",
      "22/22 [==============================] - 0s 2ms/step - loss: 0.2550 - accuracy: 0.9094 - precision: 0.9135 - recall: 0.9185\n",
      "Epoch 61/100\n",
      "22/22 [==============================] - 0s 2ms/step - loss: 0.1902 - accuracy: 0.9167 - precision: 0.9039 - recall: 0.9457\n",
      "Epoch 62/100\n",
      "22/22 [==============================] - 0s 2ms/step - loss: 0.1163 - accuracy: 0.9298 - precision: 0.9145 - recall: 0.9592\n",
      "Epoch 63/100\n",
      "22/22 [==============================] - 0s 2ms/step - loss: 0.0999 - accuracy: 0.9518 - precision: 0.9692 - recall: 0.9402\n",
      "Epoch 64/100\n",
      "22/22 [==============================] - 0s 2ms/step - loss: 0.0788 - accuracy: 0.9649 - precision: 0.9804 - recall: 0.9538\n",
      "Epoch 65/100\n",
      "22/22 [==============================] - 0s 2ms/step - loss: 0.0645 - accuracy: 0.9635 - precision: 0.9699 - recall: 0.9620\n",
      "Epoch 66/100\n",
      "22/22 [==============================] - 0s 2ms/step - loss: 0.0583 - accuracy: 0.9693 - precision: 0.9806 - recall: 0.9620\n",
      "Epoch 67/100\n",
      "22/22 [==============================] - 0s 2ms/step - loss: 0.0467 - accuracy: 0.9693 - precision: 0.9860 - recall: 0.9565\n",
      "Epoch 68/100\n",
      "22/22 [==============================] - 0s 2ms/step - loss: 0.0442 - accuracy: 0.9722 - precision: 0.9888 - recall: 0.9592\n",
      "Epoch 69/100\n",
      "22/22 [==============================] - 0s 2ms/step - loss: 0.0442 - accuracy: 0.9751 - precision: 0.9916 - recall: 0.9620\n",
      "Epoch 70/100\n",
      "22/22 [==============================] - 0s 2ms/step - loss: 0.0471 - accuracy: 0.9737 - precision: 0.9916 - recall: 0.9592\n",
      "Epoch 71/100\n",
      "22/22 [==============================] - 0s 2ms/step - loss: 0.0597 - accuracy: 0.9795 - precision: 0.9944 - recall: 0.9674\n",
      "Epoch 72/100\n",
      "22/22 [==============================] - 0s 3ms/step - loss: 0.0444 - accuracy: 0.9795 - precision: 0.9944 - recall: 0.9674\n",
      "Epoch 73/100\n",
      "22/22 [==============================] - 0s 2ms/step - loss: 0.0465 - accuracy: 0.9737 - precision: 0.9861 - recall: 0.9647\n",
      "Epoch 74/100\n",
      "22/22 [==============================] - 0s 2ms/step - loss: 0.0498 - accuracy: 0.9766 - precision: 0.9944 - recall: 0.9620\n",
      "Epoch 75/100\n",
      "22/22 [==============================] - 0s 2ms/step - loss: 0.0877 - accuracy: 0.9766 - precision: 0.9916 - recall: 0.9647\n",
      "Epoch 76/100\n",
      "22/22 [==============================] - 0s 2ms/step - loss: 0.0416 - accuracy: 0.9766 - precision: 0.9916 - recall: 0.9647\n",
      "Epoch 77/100\n",
      "22/22 [==============================] - 0s 2ms/step - loss: 0.0374 - accuracy: 0.9781 - precision: 0.9944 - recall: 0.9647\n",
      "Epoch 78/100\n",
      "22/22 [==============================] - 0s 2ms/step - loss: 0.0359 - accuracy: 0.9781 - precision: 0.9944 - recall: 0.9647\n",
      "Epoch 79/100\n",
      "22/22 [==============================] - 0s 2ms/step - loss: 0.0384 - accuracy: 0.9781 - precision: 0.9944 - recall: 0.9647\n",
      "Epoch 80/100\n",
      "22/22 [==============================] - 0s 2ms/step - loss: 0.0400 - accuracy: 0.9781 - precision: 0.9889 - recall: 0.9701\n",
      "Epoch 81/100\n",
      "22/22 [==============================] - 0s 2ms/step - loss: 0.0349 - accuracy: 0.9839 - precision: 1.0000 - recall: 0.9701\n",
      "Epoch 82/100\n",
      "22/22 [==============================] - 0s 2ms/step - loss: 0.0508 - accuracy: 0.9751 - precision: 0.9808 - recall: 0.9728\n",
      "Epoch 83/100\n",
      "22/22 [==============================] - 0s 2ms/step - loss: 0.0863 - accuracy: 0.9722 - precision: 0.9807 - recall: 0.9674\n",
      "Epoch 84/100\n",
      "22/22 [==============================] - 0s 2ms/step - loss: 0.0652 - accuracy: 0.9751 - precision: 0.9916 - recall: 0.9620\n",
      "Epoch 85/100\n",
      "22/22 [==============================] - 0s 2ms/step - loss: 0.0736 - accuracy: 0.9708 - precision: 0.9833 - recall: 0.9620\n",
      "Epoch 86/100\n",
      "22/22 [==============================] - 0s 2ms/step - loss: 0.2802 - accuracy: 0.9518 - precision: 0.9564 - recall: 0.9538\n",
      "Epoch 87/100\n",
      "22/22 [==============================] - 0s 2ms/step - loss: 0.2450 - accuracy: 0.9298 - precision: 0.9520 - recall: 0.9158\n",
      "Epoch 88/100\n",
      "22/22 [==============================] - 0s 2ms/step - loss: 0.1381 - accuracy: 0.9386 - precision: 0.9503 - recall: 0.9348\n",
      "Epoch 89/100\n",
      "22/22 [==============================] - 0s 2ms/step - loss: 0.1421 - accuracy: 0.9459 - precision: 0.9662 - recall: 0.9321\n",
      "Epoch 90/100\n",
      "22/22 [==============================] - 0s 2ms/step - loss: 0.1597 - accuracy: 0.9503 - precision: 0.9613 - recall: 0.9457\n",
      "Epoch 91/100\n",
      "22/22 [==============================] - 0s 2ms/step - loss: 0.1033 - accuracy: 0.9576 - precision: 0.9748 - recall: 0.9457\n",
      "Epoch 92/100\n",
      "22/22 [==============================] - 0s 2ms/step - loss: 0.0771 - accuracy: 0.9678 - precision: 0.9779 - recall: 0.9620\n",
      "Epoch 93/100\n",
      "22/22 [==============================] - 0s 3ms/step - loss: 0.0550 - accuracy: 0.9766 - precision: 0.9916 - recall: 0.9647\n",
      "Epoch 94/100\n",
      "22/22 [==============================] - 0s 2ms/step - loss: 0.0429 - accuracy: 0.9825 - precision: 0.9944 - recall: 0.9728\n",
      "Epoch 95/100\n",
      "22/22 [==============================] - 0s 2ms/step - loss: 0.0387 - accuracy: 0.9825 - precision: 0.9944 - recall: 0.9728\n",
      "Epoch 96/100\n",
      "22/22 [==============================] - 0s 2ms/step - loss: 0.0348 - accuracy: 0.9839 - precision: 0.9972 - recall: 0.9728\n",
      "Epoch 97/100\n",
      "22/22 [==============================] - 0s 2ms/step - loss: 0.0315 - accuracy: 0.9810 - precision: 0.9890 - recall: 0.9755\n",
      "Epoch 98/100\n",
      "22/22 [==============================] - 0s 2ms/step - loss: 0.0316 - accuracy: 0.9810 - precision: 0.9944 - recall: 0.9701\n",
      "Epoch 99/100\n",
      "22/22 [==============================] - 0s 3ms/step - loss: 0.0337 - accuracy: 0.9825 - precision: 0.9944 - recall: 0.9728\n",
      "Epoch 100/100\n",
      "22/22 [==============================] - 0s 2ms/step - loss: 0.0275 - accuracy: 0.9854 - precision: 1.0000 - recall: 0.9728\n"
     ]
    }
   ],
   "source": [
    "import tensorflow as tf\n",
    "tf.random.set_seed(0)\n",
    "\n",
    "\n",
    "model = tf.keras.Sequential([\n",
    "    tf.keras.layers.Dense(32, activation='relu'),\n",
    "    tf.keras.layers.Dense(64, activation='relu'),\n",
    "    tf.keras.layers.Dense(1, activation='sigmoid')\n",
    "])\n",
    "\n",
    "model.compile(\n",
    "    loss=tf.keras.losses.binary_crossentropy,\n",
    "    optimizer=tf.keras.optimizers.Adam(lr=0.03),\n",
    "    metrics=[\n",
    "        tf.keras.metrics.BinaryAccuracy(name='accuracy'),\n",
    "        tf.keras.metrics.Precision(name='precision'),\n",
    "        tf.keras.metrics.Recall(name='recall')\n",
    "    ]\n",
    ")\n",
    "\n",
    "history = model.fit(x_train, y_train, epochs=100)"
   ]
  },
  {
   "cell_type": "code",
   "execution_count": 40,
   "id": "efcc15ef",
   "metadata": {
    "execution": {
     "iopub.execute_input": "2021-12-08T16:21:39.478598Z",
     "iopub.status.busy": "2021-12-08T16:21:39.474154Z",
     "iopub.status.idle": "2021-12-08T16:21:39.639452Z",
     "shell.execute_reply": "2021-12-08T16:21:39.638470Z",
     "shell.execute_reply.started": "2021-12-08T16:19:09.727719Z"
    },
    "id": "p1vgDVUnZBi2",
    "outputId": "22c0c11c-3fd0-4848-dae8-ed94b3baf087",
    "papermill": {
     "duration": 0.319195,
     "end_time": "2021-12-08T16:21:39.639703",
     "exception": false,
     "start_time": "2021-12-08T16:21:39.320508",
     "status": "completed"
    },
    "tags": []
   },
   "outputs": [
    {
     "name": "stdout",
     "output_type": "stream",
     "text": [
      "              precision    recall  f1-score   support\n",
      "\n",
      "           0       0.77      0.91      0.84        92\n",
      "           1       0.93      0.82      0.87       136\n",
      "\n",
      "    accuracy                           0.86       228\n",
      "   macro avg       0.85      0.86      0.85       228\n",
      "weighted avg       0.87      0.86      0.86       228\n",
      "\n",
      "\n",
      "------------------------\n",
      "Confusion Matrix\n",
      "------------------------\n",
      "\n",
      "[[ 84   8]\n",
      " [ 25 111]]\n"
     ]
    }
   ],
   "source": [
    "predictions = model.predict(x_test)\n",
    "y_pred = [\n",
    "    1 if prob > 0.5 else 0 for prob in np.ravel(predictions)\n",
    "]\n",
    "print(classification_report(y_test, y_pred))\n",
    "print('')\n",
    "print('------------------------')\n",
    "print('Confusion Matrix')\n",
    "print('------------------------')\n",
    "print('')\n",
    "print(confusion_matrix(y_test, y_pred))\n",
    "\n"
   ]
  },
  {
   "cell_type": "markdown",
   "id": "99208b5a",
   "metadata": {
    "id": "bR01WCmI1Tsq",
    "papermill": {
     "duration": 0.152728,
     "end_time": "2021-12-08T16:21:39.958020",
     "exception": false,
     "start_time": "2021-12-08T16:21:39.805292",
     "status": "completed"
    },
    "tags": []
   },
   "source": [
    "6.6 KNN Classifier"
   ]
  },
  {
   "cell_type": "code",
   "execution_count": 41,
   "id": "86e7296e",
   "metadata": {
    "execution": {
     "iopub.execute_input": "2021-12-08T16:21:40.252639Z",
     "iopub.status.busy": "2021-12-08T16:21:40.251945Z",
     "iopub.status.idle": "2021-12-08T16:21:40.538056Z",
     "shell.execute_reply": "2021-12-08T16:21:40.538606Z",
     "shell.execute_reply.started": "2021-12-08T16:19:09.893804Z"
    },
    "id": "E9x04_bFZiR4",
    "outputId": "add7d8a2-3e8a-4d2d-b303-75f2a6283f88",
    "papermill": {
     "duration": 0.435037,
     "end_time": "2021-12-08T16:21:40.538791",
     "exception": false,
     "start_time": "2021-12-08T16:21:40.103754",
     "status": "completed"
    },
    "tags": []
   },
   "outputs": [
    {
     "name": "stdout",
     "output_type": "stream",
     "text": [
      "              precision    recall  f1-score   support\n",
      "\n",
      "           0       0.84      0.89      0.86        92\n",
      "           1       0.92      0.88      0.90       136\n",
      "\n",
      "    accuracy                           0.89       228\n",
      "   macro avg       0.88      0.89      0.88       228\n",
      "weighted avg       0.89      0.89      0.89       228\n",
      "\n",
      "\n",
      "------------------------\n",
      "Confusion Matrix\n",
      "------------------------\n",
      "\n",
      "[[ 82  10]\n",
      " [ 16 120]]\n"
     ]
    },
    {
     "data": {
      "image/png": "[encoded data removed]",
      "text/plain": [
       "<Figure size 576x396 with 2 Axes>"
      ]
     },
     "metadata": {},
     "output_type": "display_data"
    }
   ],
   "source": [
    "from sklearn.model_selection import train_test_split\n",
    "x_train, x_test, y_train, y_test = train_test_split(x_pca, df['HeartDisease'], test_size=0.25, random_state=0)\n",
    "knn = KNeighborsClassifier(n_neighbors=9)\n",
    "knn.fit(x_train, y_train)\n",
    "y_pred=knn.predict(x_test)\n",
    "print(classification_report(y_test, y_pred))\n",
    "print('')\n",
    "print('------------------------')\n",
    "print('Confusion Matrix')\n",
    "print('------------------------')\n",
    "print('')\n",
    "print(confusion_matrix(y_test, y_pred))\n",
    "plot_confusion_matrix(knn, x_test, y_test,cmap=\"binary\") \n",
    "plt.grid(False)\n",
    "plt.show()"
   ]
  },
  {
   "cell_type": "markdown",
   "id": "22be3598",
   "metadata": {
    "id": "NyyIpzic1fiQ",
    "papermill": {
     "duration": 0.152017,
     "end_time": "2021-12-08T16:21:40.837615",
     "exception": false,
     "start_time": "2021-12-08T16:21:40.685598",
     "status": "completed"
    },
    "tags": []
   },
   "source": [
    "6.7 Gaussian Navie Bayes Algorithm"
   ]
  },
  {
   "cell_type": "code",
   "execution_count": 42,
   "id": "10c5bbb6",
   "metadata": {
    "execution": {
     "iopub.execute_input": "2021-12-08T16:21:41.144777Z",
     "iopub.status.busy": "2021-12-08T16:21:41.143704Z",
     "iopub.status.idle": "2021-12-08T16:21:41.382851Z",
     "shell.execute_reply": "2021-12-08T16:21:41.383336Z",
     "shell.execute_reply.started": "2021-12-08T16:19:10.185628Z"
    },
    "id": "aBi3dn_mZ434",
    "outputId": "8559078d-a7ec-4a22-809b-e157c807248d",
    "papermill": {
     "duration": 0.392652,
     "end_time": "2021-12-08T16:21:41.383522",
     "exception": false,
     "start_time": "2021-12-08T16:21:40.990870",
     "status": "completed"
    },
    "tags": []
   },
   "outputs": [
    {
     "name": "stdout",
     "output_type": "stream",
     "text": [
      "              precision    recall  f1-score   support\n",
      "\n",
      "           0       0.80      0.91      0.85        92\n",
      "           1       0.93      0.85      0.89       136\n",
      "\n",
      "    accuracy                           0.87       228\n",
      "   macro avg       0.87      0.88      0.87       228\n",
      "weighted avg       0.88      0.87      0.87       228\n",
      "\n",
      "\n",
      "------------------------\n",
      "Confusion Matrix\n",
      "------------------------\n",
      "\n",
      "[[ 84   8]\n",
      " [ 21 115]]\n"
     ]
    },
    {
     "data": {
      "image/png": "[encoded data removed]",
      "text/plain": [
       "<Figure size 576x396 with 2 Axes>"
      ]
     },
     "metadata": {},
     "output_type": "display_data"
    }
   ],
   "source": [
    "gnb = GaussianNB()\n",
    "gnb.fit(x_train, y_train)\n",
    "y_pred=gnb.predict(x_test)\n",
    "print(classification_report(y_test, y_pred))\n",
    "print('')\n",
    "print('------------------------')\n",
    "print('Confusion Matrix')\n",
    "print('------------------------')\n",
    "print('')\n",
    "print(confusion_matrix(y_test, y_pred))\n",
    "plot_confusion_matrix(gnb, x_test, y_test,cmap=\"binary\") \n",
    "plt.grid(False)\n",
    "plt.show()"
   ]
  },
  {
   "cell_type": "markdown",
   "id": "8422a156",
   "metadata": {
    "id": "Y1-_9BRc1xdM",
    "papermill": {
     "duration": 0.153171,
     "end_time": "2021-12-08T16:21:41.684744",
     "exception": false,
     "start_time": "2021-12-08T16:21:41.531573",
     "status": "completed"
    },
    "tags": []
   },
   "source": [
    "6.8 Gradient Boosting Algorithm"
   ]
  },
  {
   "cell_type": "code",
   "execution_count": 43,
   "id": "de0b400e",
   "metadata": {
    "execution": {
     "iopub.execute_input": "2021-12-08T16:21:41.990857Z",
     "iopub.status.busy": "2021-12-08T16:21:41.990112Z",
     "iopub.status.idle": "2021-12-08T16:21:42.364220Z",
     "shell.execute_reply": "2021-12-08T16:21:42.363557Z",
     "shell.execute_reply.started": "2021-12-08T16:19:10.439175Z"
    },
    "id": "_zvZGDCbt3-k",
    "outputId": "8e045df0-3b5e-4185-eb70-3d1a1691c8e8",
    "papermill": {
     "duration": 0.533436,
     "end_time": "2021-12-08T16:21:42.364410",
     "exception": false,
     "start_time": "2021-12-08T16:21:41.830974",
     "status": "completed"
    },
    "tags": []
   },
   "outputs": [
    {
     "name": "stdout",
     "output_type": "stream",
     "text": [
      "              precision    recall  f1-score   support\n",
      "\n",
      "           0       0.84      0.91      0.87        92\n",
      "           1       0.94      0.88      0.91       136\n",
      "\n",
      "    accuracy                           0.89       228\n",
      "   macro avg       0.89      0.90      0.89       228\n",
      "weighted avg       0.90      0.89      0.90       228\n",
      "\n",
      "\n",
      "------------------------\n",
      "Confusion Matrix\n",
      "------------------------\n",
      "\n",
      "[[ 84   8]\n",
      " [ 16 120]]\n"
     ]
    },
    {
     "data": {
      "image/png": "[encoded data removed]",
      "text/plain": [
       "<Figure size 576x396 with 2 Axes>"
      ]
     },
     "metadata": {},
     "output_type": "display_data"
    }
   ],
   "source": [
    "from sklearn.model_selection import train_test_split\n",
    "x_train, x_test, y_train, y_test = train_test_split(x_pca, df['HeartDisease'], test_size=0.25, random_state=0)\n",
    "clff = GradientBoostingClassifier(n_estimators=100, learning_rate=0.2, max_depth=1, random_state=23)\n",
    "clff.fit(x_train, y_train)\n",
    "y_pred=clff.predict(x_test)\n",
    "print(classification_report(y_test, y_pred))\n",
    "print('')\n",
    "print('------------------------')\n",
    "print('Confusion Matrix')\n",
    "print('------------------------')\n",
    "print('')\n",
    "print(confusion_matrix(y_test, y_pred))\n",
    "plot_confusion_matrix(clff, x_test, y_test,cmap=\"binary\") \n",
    "plt.grid(False)\n",
    "plt.show()\n"
   ]
  },
  {
   "cell_type": "code",
   "execution_count": null,
   "id": "dae74f71",
   "metadata": {
    "id": "d5um6Piav4C7",
    "papermill": {
     "duration": 0.15389,
     "end_time": "2021-12-08T16:21:42.669454",
     "exception": false,
     "start_time": "2021-12-08T16:21:42.515564",
     "status": "completed"
    },
    "tags": []
   },
   "outputs": [],
   "source": []
  }
 ],
 "metadata": {
  "kernelspec": {
   "display_name": "Python 3",
   "language": "python",
   "name": "python3"
  },
  "language_info": {
   "codemirror_mode": {
    "name": "ipython",
    "version": 3
   },
   "file_extension": ".py",
   "mimetype": "text/x-python",
   "name": "python",
   "nbconvert_exporter": "python",
   "pygments_lexer": "ipython3",
   "version": "3.7.10"
  },
  "papermill": {
   "default_parameters": {},
   "duration": 107.861327,
   "end_time": "2021-12-08T16:21:45.720835",
   "environment_variables": {},
   "exception": null,
   "input_path": "__notebook__.ipynb",
   "output_path": "__notebook__.ipynb",
   "parameters": {},
   "start_time": "2021-12-08T16:19:57.859508",
   "version": "2.3.3"
  }
 },
 "nbformat": 4,
 "nbformat_minor": 5
}
